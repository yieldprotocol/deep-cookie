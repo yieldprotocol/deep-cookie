{
 "cells": [
  {
   "cell_type": "code",
   "execution_count": null,
   "metadata": {},
   "outputs": [],
   "source": [
    "%pip install beautifulsoup4 lxml\n",
    "%pip install matplotlib openai plotly pandas scipy scikit-learn python-dotenv langchain tiktoken chromadb"
   ]
  },
  {
   "cell_type": "code",
   "execution_count": null,
   "metadata": {},
   "outputs": [],
   "source": [
    "import os\n",
    "from dotenv import load_dotenv\n",
    "from getpass import getpass\n",
    "\n",
    "load_dotenv()\n",
    "\n",
    "# setting up an OpenAI template on the run\n",
    "openai_api_key = os.environ.get('OPENAI_API_KEY') or getpass('Enter your OpenAI API key: ')\n",
    "os.environ['OPENAI_API_KEY'] = openai_api_key"
   ]
  },
  {
   "cell_type": "code",
   "execution_count": null,
   "metadata": {},
   "outputs": [],
   "source": [
    "from bs4 import BeautifulSoup\n",
    "\n",
    "chat_lines = []\n",
    "\n",
    "# Load the HTML content from the file\n",
    "with open('./Code4rena_-_Main_-_questions.html', 'r', encoding='utf-8') as file:\n",
    "    html_content = file.read()\n",
    "\n",
    "\n",
    "# Parse the HTML using BeautifulSoup\n",
    "soup = BeautifulSoup(html_content, 'html.parser')"
   ]
  },
  {
   "cell_type": "code",
   "execution_count": 135,
   "metadata": {},
   "outputs": [
    {
     "data": {
      "text/plain": [
       "6403"
      ]
     },
     "execution_count": 135,
     "metadata": {},
     "output_type": "execute_result"
    }
   ],
   "source": [
    "from bs4 import BeautifulSoup\n",
    "\n",
    "# Assuming you have the HTML content in a variable called `html_content`\n",
    "soup = BeautifulSoup(html_content, 'html.parser')\n",
    "\n",
    "# Find all `div` elements with the class name `chatlog__message-group`\n",
    "message_groups = soup.find_all('div', class_='chatlog__message-group')\n",
    "\n",
    "# Create an empty list to store the results\n",
    "parsed_messages = []\n",
    "\n",
    "# div.chatlog__reply-author\n",
    "# span.chatlog__reply-link\n",
    "\n",
    "# Loop through each `div` element and extract the text from the `span` elements with class `chatlog__author`, `chatlog__timestamp`, and `chatlog__markdown-preserve`\n",
    "for message_group in message_groups:\n",
    "    author = message_group.find('span', class_='chatlog__author')\n",
    "    if author:\n",
    "        author = author.text\n",
    "    else:\n",
    "        author = ''\n",
    "    timestamp = message_group.find('span', class_='chatlog__timestamp')\n",
    "    if timestamp:\n",
    "        timestamp = timestamp.text\n",
    "    else:\n",
    "        timestamp = ''\n",
    "    markdown_preserves = message_group.find_all('span', class_='chatlog__markdown-preserve')\n",
    "    message = '\\n'.join([mp.text for mp in markdown_preserves])\n",
    "    reply_to_author = message_group.find('div', class_='chatlog__reply-author')\n",
    "    if reply_to_author:\n",
    "        reply_to_author = reply_to_author.text\n",
    "    else:\n",
    "        reply_to_author = ''\n",
    "    reply_to_message = message_group.find('span', class_='chatlog__reply-link')\n",
    "    if reply_to_message:\n",
    "        reply_to_message = reply_to_message.text\n",
    "    else:\n",
    "        reply_to_message = ''\n",
    "    parsed_messages.append({'author': author, 'timestamp': timestamp, 'message': message, 'reply_to_author': reply_to_author, 'reply_to_message': reply_to_message})\n",
    "\n",
    "# Print the results\n",
    "len(parsed_messages)"
   ]
  },
  {
   "cell_type": "code",
   "execution_count": 199,
   "metadata": {},
   "outputs": [],
   "source": [
    "\n",
    "# message_blocks = []\n",
    "# lookout_range = 20\n",
    "# for i, m in enumerate(parsed_messages):\n",
    "#     if 'c4' in m['author'].lower():\n",
    "#         before = parsed_messages[i-lookout_range:i]\n",
    "#         c4_message = parsed_messages[i]\n",
    "#         after = parsed_messages[i+1:i+lookout_range]\n",
    "\n",
    "#         message_block = []\n",
    "#         message_block.extend(before)\n",
    "#         message_block.append(m)\n",
    "#         message_block.extend(after)\n",
    "\n",
    "#         message_blocks.append(message_block)\n",
    "\n",
    "message_blocks = []\n",
    "step = 25\n",
    "lookout_range = 10\n",
    "for i in range(0, len(parsed_messages), step):\n",
    "    # take a slice of the messages\n",
    "    \n",
    "    before = parsed_messages[i-lookout_range:i]\n",
    "    main_block = parsed_messages[i:i+step]\n",
    "    after = parsed_messages[i+1:i+lookout_range]\n",
    "\n",
    "    message_block = []\n",
    "    message_block.extend(before)\n",
    "    message_block.extend(main_block)\n",
    "    message_block.extend(after)\n",
    "\n",
    "    message_blocks.append(message_block)\n",
    "        "
   ]
  },
  {
   "cell_type": "code",
   "execution_count": 200,
   "metadata": {},
   "outputs": [],
   "source": [
    "chat_lines = []\n",
    "for mb in message_blocks:\n",
    "    # format in timestamp, author, markdown_text, reply_to_author, reply_to_message\n",
    "    lines = \"\"\n",
    "    for m in mb:\n",
    "        timestamp = m['timestamp']\n",
    "        author = m['author']\n",
    "        message = m['message']\n",
    "        reply_to_author = m['reply_to_author']\n",
    "        reply_to_message = m['reply_to_message']\n",
    "        formatted_message = f\"{timestamp};{author};{message};{reply_to_author};{reply_to_message}\"\n",
    "        lines += formatted_message + \"---\"\n",
    "        \n",
    "    chat_lines.append(lines)"
   ]
  },
  {
   "cell_type": "code",
   "execution_count": 201,
   "metadata": {},
   "outputs": [
    {
     "data": {
      "text/plain": [
       "257"
      ]
     },
     "execution_count": 201,
     "metadata": {},
     "output_type": "execute_result"
    }
   ],
   "source": [
    "len(chat_lines)"
   ]
  },
  {
   "cell_type": "code",
   "execution_count": 210,
   "metadata": {},
   "outputs": [],
   "source": [
    "SYSTEM_PROMPT = \"\"\"You are an intelligent analyst capable of looking at chat messages and generating questions and answers from it to create an FAQ.\n",
    "- You are given chat messages below, each message is formatted as timestamp;author;message;reply_to_author;reply_to_message and separated by \"---\"\n",
    "- To generate questions and answers, first base it on the reply to author and reply to message, if they are not available, then solely based it on the messages before and after.\n",
    "- Give preference to messages from C4 authors to form answers, they can be identified with the term \"C4\" in their author name.\n",
    "- Rephrase the questions and answers to be professional, suitable enough to be used in a FAQ.\n",
    "- Use the message timestamp from the author as the timestamp for the question and answer.\n",
    "- **DO NOT** make up questions and answers, only use the chat messages as the source of truth.\n",
    "- Output the results in JSON format only with fields \"timestamp\", \"question\", \"answer\", \"source_author\"\n",
    "\n",
    "\n",
    "## Chat messages:\n",
    "{chat_messages}\n",
    "\n",
    "## JSON result:\"\"\"\n",
    "\n",
    "from langchain.prompts import PromptTemplate\n",
    "\n",
    "prompt = PromptTemplate(\n",
    "    input_variables=[\"chat_messages\"],\n",
    "    template=SYSTEM_PROMPT,\n",
    ")"
   ]
  },
  {
   "cell_type": "code",
   "execution_count": 211,
   "metadata": {},
   "outputs": [],
   "source": [
    "from langchain.chat_models import ChatOpenAI\n",
    "\n",
    "llm = ChatOpenAI(\n",
    "    model=\"gpt-3.5-turbo\",\n",
    "    temperature=0,\n",
    ")"
   ]
  },
  {
   "cell_type": "code",
   "execution_count": 212,
   "metadata": {},
   "outputs": [
    {
     "name": "stdout",
     "output_type": "stream",
     "text": [
      "[\n",
      "    {\n",
      "        \"timestamp\": \"02/15/2021 7:56 PM\",\n",
      "        \"question\": \"Where does the name 'Code 423n4' come from?\",\n",
      "        \"answer\": \"The name 'Code 423n4' is a play on words. It stands for 'Code Arena' and is a cute way of using numbers to represent words.\",\n",
      "        \"source_author\": \"scott_L\"\n",
      "    },\n",
      "    {\n",
      "        \"timestamp\": \"02/15/2021 7:59 PM\",\n",
      "        \"question\": \"What is the meaning behind using numbers to make words?\",\n",
      "        \"answer\": \"Using numbers to make words in the name 'Code 423n4' is simply a creative and playful choice.\",\n",
      "        \"source_author\": \"Shauhin\"\n",
      "    },\n",
      "    {\n",
      "        \"timestamp\": \"02/16/2021 9:02 PM\",\n",
      "        \"question\": \"Is there a page for the contest that lists wardens, judges, and sponsors?\",\n",
      "        \"answer\": \"Yes, there is a plan to create a page for the contest that will list and link to wardens, judges, and sponsors. There may also be a GitHub form for people to fill out when joining as a warden, providing links to their socials, bio, and avatar.\",\n",
      "        \"source_author\": \"🧦 sockdrawer | C4\"\n",
      "    },\n",
      "    {\n",
      "        \"timestamp\": \"02/16/2021 9:26 PM\",\n",
      "        \"question\": \"Are there any other ideas for enhancing the website?\",\n",
      "        \"answer\": \"Yes, there are ongoing discussions about enhancing the website. Contributions and ideas are welcome, and interested individuals can submit pull requests on GitHub.\",\n",
      "        \"source_author\": \"zscole\"\n",
      "    },\n",
      "    {\n",
      "        \"timestamp\": \"02/16/2021 11:17 PM\",\n",
      "        \"question\": \"When will participants have access to the codebase?\",\n",
      "        \"answer\": \"Participants will have access to the codebase starting on February 17 at 1400 UTC (9AM EST).\",\n",
      "        \"source_author\": \"zscole\"\n",
      "    },\n",
      "    {\n",
      "        \"timestamp\": \"02/17/2021 3:35 PM\",\n",
      "        \"question\": \"Are the smart contracts used in the competition from the real world?\",\n",
      "        \"answer\": \"Yes, the smart contracts used in the competition are real contracts that will be deployed after being audited.\",\n",
      "        \"source_author\": \"shinobi\"\n",
      "    },\n",
      "    {\n",
      "        \"timestamp\": \"02/17/2021 3:36 PM\",\n",
      "        \"question\": \"How should issues with the smart contracts be disclosed?\",\n",
      "        \"answer\": \"There are guidelines on how to report any issues with the smart contracts. Participants should follow these guidelines to disclose any vulnerabilities or concerns.\",\n",
      "        \"source_author\": \"Matthias | ChainSecurity\"\n",
      "    }\n",
      "]\n",
      "Total tokens: 2410\n",
      "Total cost: 0.0039115\n"
     ]
    }
   ],
   "source": [
    "from langchain.chains import LLMChain\n",
    "import json\n",
    "from langchain.callbacks import get_openai_callback\n",
    "\n",
    "\n",
    "chain = LLMChain(llm=llm, prompt=prompt)\n",
    "\n",
    "qa_list = []\n",
    "total_tokens = 0\n",
    "total_cost = 0\n",
    "with get_openai_callback() as cb:\n",
    "    for l in chat_lines[:1]:\n",
    "        result = chain.run(chat_messages=l)\n",
    "        qa_list.extend(json.loads(result))\n",
    "        total_tokens += cb.total_tokens\n",
    "        total_cost += cb.total_cost\n",
    "\n",
    "print(f\"Total tokens: {total_tokens}\")\n",
    "print(f\"Total cost: {total_cost}\")"
   ]
  },
  {
   "cell_type": "code",
   "execution_count": 205,
   "metadata": {},
   "outputs": [
    {
     "data": {
      "text/plain": [
       "6"
      ]
     },
     "execution_count": 205,
     "metadata": {},
     "output_type": "execute_result"
    }
   ],
   "source": [
    "len(qa_list)"
   ]
  },
  {
   "cell_type": "code",
   "execution_count": null,
   "metadata": {},
   "outputs": [],
   "source": [
    "\"\"\"\n",
    "- filter for answers from c4 authors, get replies and 5 messages before and after\n",
    "- prompt llm to generate questions and answers with timestamp for each of them\n",
    "- add all questions to the index\n",
    "- for each quesion look for very similar questions in the index, with threshold of 0.8\n",
    "- for the similar questions, choose the one with that is the latest and add all the similar questions to seen questions\n",
    "- skip the question if it is in seen questions\n",
    "- from the final questions, prompt llm to generate raw categories\n",
    "- from the generated raw categories, prompt llm to generate category groups\n",
    "\"\"\""
   ]
  },
  {
   "cell_type": "code",
   "execution_count": 216,
   "metadata": {},
   "outputs": [
    {
     "data": {
      "text/plain": [
       "[Document(page_content=\"Where does the name 'Code 423n4' come from?\", metadata={'ques_id': 0, 'timestamp': '02/15/2021 7:56 PM', 'answer': \"The name 'Code 423n4' is a play on words. It stands for 'Code Arena' and is a cute way of using numbers to represent words.\", 'source_author': 'scott_L'}),\n",
       " Document(page_content='What is the meaning behind using numbers to make words?', metadata={'ques_id': 1, 'timestamp': '02/15/2021 7:59 PM', 'answer': \"Using numbers to make words in the name 'Code 423n4' is simply a creative and playful choice.\", 'source_author': 'Shauhin'}),\n",
       " Document(page_content='Is there a page for the contest that lists wardens, judges, and sponsors?', metadata={'ques_id': 2, 'timestamp': '02/16/2021 9:02 PM', 'answer': 'Yes, there is a plan to create a page for the contest that will list and link to wardens, judges, and sponsors. There may also be a GitHub form for people to fill out when joining as a warden, providing links to their socials, bio, and avatar.', 'source_author': '🧦 sockdrawer | C4'}),\n",
       " Document(page_content='Are there any other ideas for enhancing the website?', metadata={'ques_id': 3, 'timestamp': '02/16/2021 9:26 PM', 'answer': 'Yes, there are ongoing discussions about enhancing the website. Contributions and ideas are welcome, and interested individuals can submit pull requests on GitHub.', 'source_author': 'zscole'}),\n",
       " Document(page_content='When will participants have access to the codebase?', metadata={'ques_id': 4, 'timestamp': '02/16/2021 11:17 PM', 'answer': 'Participants will have access to the codebase starting on February 17 at 1400 UTC (9AM EST).', 'source_author': 'zscole'}),\n",
       " Document(page_content='Are the smart contracts used in the competition from the real world?', metadata={'ques_id': 5, 'timestamp': '02/17/2021 3:35 PM', 'answer': 'Yes, the smart contracts used in the competition are real contracts that will be deployed after being audited.', 'source_author': 'shinobi'}),\n",
       " Document(page_content='How should issues with the smart contracts be disclosed?', metadata={'ques_id': 6, 'timestamp': '02/17/2021 3:36 PM', 'answer': 'There are guidelines on how to report any issues with the smart contracts. Participants should follow these guidelines to disclose any vulnerabilities or concerns.', 'source_author': 'Matthias | ChainSecurity'})]"
      ]
     },
     "execution_count": 216,
     "metadata": {},
     "output_type": "execute_result"
    }
   ],
   "source": [
    "from langchain.vectorstores import Chroma\n",
    "from langchain.document_loaders import TextLoader\n",
    "from langchain.embeddings.openai import OpenAIEmbeddings\n",
    "from langchain.schema import Document\n",
    "\n",
    "docs = []\n",
    "for i, qa in enumerate(qa_list):\n",
    "    question = qa['question']\n",
    "    doc = Document(page_content=question, metadata={\n",
    "        'ques_id': i,\n",
    "        'timestamp': qa['timestamp'],\n",
    "        'answer': qa['answer'],\n",
    "        'source_author': qa['source_author']\n",
    "    })\n",
    "    docs.append(doc)\n",
    "\n",
    "docs"
   ]
  },
  {
   "cell_type": "code",
   "execution_count": 217,
   "metadata": {},
   "outputs": [
    {
     "data": {
      "text/plain": [
       "['6441ba6a-67d8-11ee-9b69-367dda1ae1c5',\n",
       " '6441bb00-67d8-11ee-9b69-367dda1ae1c5',\n",
       " '6441bb46-67d8-11ee-9b69-367dda1ae1c5',\n",
       " '6441bb82-67d8-11ee-9b69-367dda1ae1c5',\n",
       " '6441bbaa-67d8-11ee-9b69-367dda1ae1c5',\n",
       " '6441bbdc-67d8-11ee-9b69-367dda1ae1c5',\n",
       " '6441bc0e-67d8-11ee-9b69-367dda1ae1c5']"
      ]
     },
     "execution_count": 217,
     "metadata": {},
     "output_type": "execute_result"
    }
   ],
   "source": [
    "import chromadb\n",
    "\n",
    "embeddings = OpenAIEmbeddings()\n",
    "collection_name = \"questions\"\n",
    "\n",
    "chroma = chromadb.Client()\n",
    "try:\n",
    "    collection = chroma.get_collection(collection_name)\n",
    "    if collection:\n",
    "        chroma.delete_collection(collection_name)\n",
    "except:\n",
    "    pass\n",
    "\n",
    "ques_db = Chroma(collection_name=collection_name, embedding_function=embeddings)\n",
    "ques_db.add_documents(docs)"
   ]
  },
  {
   "cell_type": "code",
   "execution_count": 218,
   "metadata": {},
   "outputs": [],
   "source": [
    "skip_question_ids = []\n",
    "final_qa_docs = []\n",
    "\n",
    "for d in docs:\n",
    "    q = d.page_content\n",
    "    ques_id = d.metadata['ques_id']\n",
    "\n",
    "    if ques_id in skip_question_ids:\n",
    "        continue\n",
    "\n",
    "    results = ques_db.similarity_search_with_relevance_scores(q, k=4, score_threshold=0.9)\n",
    "    for r in results:\n",
    "        skip_question_ids.append(r[0].metadata['ques_id'])\n",
    "        # TODO choose the latest timestamp\n",
    "    final_qa_docs.append(d)"
   ]
  },
  {
   "cell_type": "code",
   "execution_count": 223,
   "metadata": {},
   "outputs": [],
   "source": [
    "qa_to_store = []\n",
    "for d in final_qa_docs:\n",
    "    qa_to_store.append({\n",
    "        'question': d.page_content,\n",
    "        'answer': d.metadata['answer'],\n",
    "        'timestamp': d.metadata['timestamp'],\n",
    "        'source_author': d.metadata['source_author']\n",
    "    })\n",
    "\n",
    "with open('./output/faq.json', 'w') as f:\n",
    "    json.dump(qa_to_store, f, indent=4)\n",
    "\n",
    "with open('./output/faq.md', 'w') as f:\n",
    "    for i, qa in enumerate(final_qa_docs):\n",
    "        question = qa.page_content\n",
    "        answer = qa.metadata['answer']\n",
    "        author = qa.metadata['source_author']\n",
    "        f.write(f\"#### {i+1}. {question}\\n\")\n",
    "        f.write(f\"{answer}\\n\\n\")\n",
    "        f.write(f\"*Source Author: {author}*\\n\\n\")"
   ]
  },
  {
   "cell_type": "code",
   "execution_count": null,
   "metadata": {},
   "outputs": [],
   "source": []
  }
 ],
 "metadata": {
  "kernelspec": {
   "display_name": "deep-cookie",
   "language": "python",
   "name": "python3"
  },
  "language_info": {
   "codemirror_mode": {
    "name": "ipython",
    "version": 3
   },
   "file_extension": ".py",
   "mimetype": "text/x-python",
   "name": "python",
   "nbconvert_exporter": "python",
   "pygments_lexer": "ipython3",
   "version": "3.10.13"
  },
  "orig_nbformat": 4
 },
 "nbformat": 4,
 "nbformat_minor": 2
}
