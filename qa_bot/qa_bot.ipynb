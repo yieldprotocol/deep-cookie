{
 "cells": [
  {
   "cell_type": "markdown",
   "metadata": {},
   "source": [
    "# CodeArena (C4) Question Answer bot\n",
    "\n",
    "### Objective\n",
    "- This notebook has the PoC work for a Question Answer bot using C4's knowledge bases.\n",
    "- The objective of the PoC is to prototype an LLM implementation that can accurately answer questions to their expectation and at the very least perform better than their current bot from [Mava](https://www.mava.app/)\n",
    "\n",
    "### Observations from the usage of Mava\n",
    "- The platform offers Discord support management with ticketing and AI help bot features\n",
    "- For the AI help bot, the user is able to specify links to multiple knowledge sources that can be used for answering questions.\n",
    "- Based on C4's testing of the Mava bot in the private channel, the following stats were observed:-\n",
    "    - Total questions asked: 29\n",
    "    - Total questions mis-answered based on emoji reactions: 13\n",
    "    - Accuracy - ~55%\n",
    "\n",
    "### Knowledge Bases\n",
    "Based on conversations with their team, the following knowledge bases were identified to be relevant and are the same ones that Mava is using:-\n",
    "- [Main Website](https://code4rena.com/)\n",
    "- [Docs](https://docs.code4rena.com/) \n",
    "\n",
    "\n",
    "### High-level Approach\n",
    "- Crawl and scrape C4’s website and docs using Scrapy lib\n",
    "- Convert the html content to markdown format so that the model can better understand the context\n",
    "- Use LangChain lib to do the following:-\n",
    "    - Split the markdown header-separated sections into semantic chunks\n",
    "    - Embed and store the semantic chunks in an in-memory vector db\n",
    "    - Use the retrieval augmented functionality to answer the question"
   ]
  },
  {
   "cell_type": "code",
   "execution_count": 11,
   "metadata": {},
   "outputs": [
    {
     "name": "stdout",
     "output_type": "stream",
     "text": [
      "Requirement already satisfied: langchain[llms] in /Users/sagarshah/.pyenv/versions/3.10.7/envs/c4-chatbot/lib/python3.10/site-packages (0.0.278)\n",
      "Requirement already satisfied: aiohttp<4.0.0,>=3.8.3 in /Users/sagarshah/.pyenv/versions/3.10.7/envs/c4-chatbot/lib/python3.10/site-packages (from langchain[llms]) (3.8.5)\n",
      "Requirement already satisfied: async-timeout<5.0.0,>=4.0.0 in /Users/sagarshah/.pyenv/versions/3.10.7/envs/c4-chatbot/lib/python3.10/site-packages (from langchain[llms]) (4.0.3)\n",
      "Requirement already satisfied: PyYAML>=5.3 in /Users/sagarshah/.pyenv/versions/3.10.7/envs/c4-chatbot/lib/python3.10/site-packages (from langchain[llms]) (6.0.1)\n",
      "Requirement already satisfied: langsmith<0.1.0,>=0.0.21 in /Users/sagarshah/.pyenv/versions/3.10.7/envs/c4-chatbot/lib/python3.10/site-packages (from langchain[llms]) (0.0.31)\n",
      "Requirement already satisfied: numpy<2,>=1 in /Users/sagarshah/.pyenv/versions/3.10.7/envs/c4-chatbot/lib/python3.10/site-packages (from langchain[llms]) (1.25.2)\n",
      "Requirement already satisfied: numexpr<3.0.0,>=2.8.4 in /Users/sagarshah/.pyenv/versions/3.10.7/envs/c4-chatbot/lib/python3.10/site-packages (from langchain[llms]) (2.8.5)\n",
      "Requirement already satisfied: SQLAlchemy<3,>=1.4 in /Users/sagarshah/.pyenv/versions/3.10.7/envs/c4-chatbot/lib/python3.10/site-packages (from langchain[llms]) (2.0.20)\n",
      "Requirement already satisfied: dataclasses-json<0.6.0,>=0.5.7 in /Users/sagarshah/.pyenv/versions/3.10.7/envs/c4-chatbot/lib/python3.10/site-packages (from langchain[llms]) (0.5.14)\n",
      "Requirement already satisfied: pydantic<3,>=1 in /Users/sagarshah/.pyenv/versions/3.10.7/envs/c4-chatbot/lib/python3.10/site-packages (from langchain[llms]) (1.10.12)\n",
      "Requirement already satisfied: tenacity<9.0.0,>=8.1.0 in /Users/sagarshah/.pyenv/versions/3.10.7/envs/c4-chatbot/lib/python3.10/site-packages (from langchain[llms]) (8.2.3)\n",
      "Requirement already satisfied: requests<3,>=2 in /Users/sagarshah/.pyenv/versions/3.10.7/envs/c4-chatbot/lib/python3.10/site-packages (from langchain[llms]) (2.31.0)\n",
      "Requirement already satisfied: torch<3,>=1 in /Users/sagarshah/.pyenv/versions/3.10.7/envs/c4-chatbot/lib/python3.10/site-packages (from langchain[llms]) (2.0.1)\n",
      "Requirement already satisfied: openai<1,>=0 in /Users/sagarshah/.pyenv/versions/3.10.7/envs/c4-chatbot/lib/python3.10/site-packages (from langchain[llms]) (0.28.0)\n",
      "Requirement already satisfied: clarifai>=9.1.0 in /Users/sagarshah/.pyenv/versions/3.10.7/envs/c4-chatbot/lib/python3.10/site-packages (from langchain[llms]) (9.7.6)\n",
      "Requirement already satisfied: nlpcloud<2,>=1 in /Users/sagarshah/.pyenv/versions/3.10.7/envs/c4-chatbot/lib/python3.10/site-packages (from langchain[llms]) (1.1.44)\n",
      "Requirement already satisfied: cohere<5,>=4 in /Users/sagarshah/.pyenv/versions/3.10.7/envs/c4-chatbot/lib/python3.10/site-packages (from langchain[llms]) (4.21)\n",
      "Requirement already satisfied: manifest-ml<0.0.2,>=0.0.1 in /Users/sagarshah/.pyenv/versions/3.10.7/envs/c4-chatbot/lib/python3.10/site-packages (from langchain[llms]) (0.0.1)\n",
      "Requirement already satisfied: openlm<0.0.6,>=0.0.5 in /Users/sagarshah/.pyenv/versions/3.10.7/envs/c4-chatbot/lib/python3.10/site-packages (from langchain[llms]) (0.0.5)\n",
      "Requirement already satisfied: huggingface_hub<1,>=0 in /Users/sagarshah/.pyenv/versions/3.10.7/envs/c4-chatbot/lib/python3.10/site-packages (from langchain[llms]) (0.16.4)\n",
      "Requirement already satisfied: transformers<5,>=4 in /Users/sagarshah/.pyenv/versions/3.10.7/envs/c4-chatbot/lib/python3.10/site-packages (from langchain[llms]) (4.32.1)\n",
      "Requirement already satisfied: charset-normalizer<4.0,>=2.0 in /Users/sagarshah/.pyenv/versions/3.10.7/envs/c4-chatbot/lib/python3.10/site-packages (from aiohttp<4.0.0,>=3.8.3->langchain[llms]) (3.2.0)\n",
      "Requirement already satisfied: multidict<7.0,>=4.5 in /Users/sagarshah/.pyenv/versions/3.10.7/envs/c4-chatbot/lib/python3.10/site-packages (from aiohttp<4.0.0,>=3.8.3->langchain[llms]) (6.0.4)\n",
      "Requirement already satisfied: yarl<2.0,>=1.0 in /Users/sagarshah/.pyenv/versions/3.10.7/envs/c4-chatbot/lib/python3.10/site-packages (from aiohttp<4.0.0,>=3.8.3->langchain[llms]) (1.9.2)\n",
      "Requirement already satisfied: aiosignal>=1.1.2 in /Users/sagarshah/.pyenv/versions/3.10.7/envs/c4-chatbot/lib/python3.10/site-packages (from aiohttp<4.0.0,>=3.8.3->langchain[llms]) (1.3.1)\n",
      "Requirement already satisfied: attrs>=17.3.0 in /Users/sagarshah/.pyenv/versions/3.10.7/envs/c4-chatbot/lib/python3.10/site-packages (from aiohttp<4.0.0,>=3.8.3->langchain[llms]) (23.1.0)\n",
      "Requirement already satisfied: frozenlist>=1.1.1 in /Users/sagarshah/.pyenv/versions/3.10.7/envs/c4-chatbot/lib/python3.10/site-packages (from aiohttp<4.0.0,>=3.8.3->langchain[llms]) (1.4.0)\n",
      "Requirement already satisfied: tritonclient==2.34.0 in /Users/sagarshah/.pyenv/versions/3.10.7/envs/c4-chatbot/lib/python3.10/site-packages (from clarifai>=9.1.0->langchain[llms]) (2.34.0)\n",
      "Requirement already satisfied: clarifai-grpc>=9.7.4 in /Users/sagarshah/.pyenv/versions/3.10.7/envs/c4-chatbot/lib/python3.10/site-packages (from clarifai>=9.1.0->langchain[llms]) (9.7.6)\n",
      "Requirement already satisfied: tqdm==4.64.1 in /Users/sagarshah/.pyenv/versions/3.10.7/envs/c4-chatbot/lib/python3.10/site-packages (from clarifai>=9.1.0->langchain[llms]) (4.64.1)\n",
      "Requirement already satisfied: packaging in /Users/sagarshah/.pyenv/versions/3.10.7/envs/c4-chatbot/lib/python3.10/site-packages (from clarifai>=9.1.0->langchain[llms]) (23.1)\n",
      "Requirement already satisfied: rich==13.4.2 in /Users/sagarshah/.pyenv/versions/3.10.7/envs/c4-chatbot/lib/python3.10/site-packages (from clarifai>=9.1.0->langchain[llms]) (13.4.2)\n",
      "Requirement already satisfied: markdown-it-py>=2.2.0 in /Users/sagarshah/.pyenv/versions/3.10.7/envs/c4-chatbot/lib/python3.10/site-packages (from rich==13.4.2->clarifai>=9.1.0->langchain[llms]) (3.0.0)\n",
      "Requirement already satisfied: pygments<3.0.0,>=2.13.0 in /Users/sagarshah/.pyenv/versions/3.10.7/envs/c4-chatbot/lib/python3.10/site-packages (from rich==13.4.2->clarifai>=9.1.0->langchain[llms]) (2.16.1)\n",
      "Requirement already satisfied: python-rapidjson>=0.9.1 in /Users/sagarshah/.pyenv/versions/3.10.7/envs/c4-chatbot/lib/python3.10/site-packages (from tritonclient==2.34.0->clarifai>=9.1.0->langchain[llms]) (1.10)\n",
      "Requirement already satisfied: importlib_metadata<7.0,>=6.0 in /Users/sagarshah/.pyenv/versions/3.10.7/envs/c4-chatbot/lib/python3.10/site-packages (from cohere<5,>=4->langchain[llms]) (6.8.0)\n",
      "Requirement already satisfied: backoff<3.0,>=2.0 in /Users/sagarshah/.pyenv/versions/3.10.7/envs/c4-chatbot/lib/python3.10/site-packages (from cohere<5,>=4->langchain[llms]) (2.2.1)\n",
      "Requirement already satisfied: fastavro==1.8.2 in /Users/sagarshah/.pyenv/versions/3.10.7/envs/c4-chatbot/lib/python3.10/site-packages (from cohere<5,>=4->langchain[llms]) (1.8.2)\n",
      "Requirement already satisfied: urllib3<3,>=1.26 in /Users/sagarshah/.pyenv/versions/3.10.7/envs/c4-chatbot/lib/python3.10/site-packages (from cohere<5,>=4->langchain[llms]) (2.0.4)\n",
      "Requirement already satisfied: typing-inspect<1,>=0.4.0 in /Users/sagarshah/.pyenv/versions/3.10.7/envs/c4-chatbot/lib/python3.10/site-packages (from dataclasses-json<0.6.0,>=0.5.7->langchain[llms]) (0.9.0)\n",
      "Requirement already satisfied: marshmallow<4.0.0,>=3.18.0 in /Users/sagarshah/.pyenv/versions/3.10.7/envs/c4-chatbot/lib/python3.10/site-packages (from dataclasses-json<0.6.0,>=0.5.7->langchain[llms]) (3.20.1)\n",
      "Requirement already satisfied: typing-extensions>=3.7.4.3 in /Users/sagarshah/.pyenv/versions/3.10.7/envs/c4-chatbot/lib/python3.10/site-packages (from huggingface_hub<1,>=0->langchain[llms]) (4.7.1)\n",
      "Requirement already satisfied: fsspec in /Users/sagarshah/.pyenv/versions/3.10.7/envs/c4-chatbot/lib/python3.10/site-packages (from huggingface_hub<1,>=0->langchain[llms]) (2023.6.0)\n",
      "Requirement already satisfied: filelock in /Users/sagarshah/.pyenv/versions/3.10.7/envs/c4-chatbot/lib/python3.10/site-packages (from huggingface_hub<1,>=0->langchain[llms]) (3.12.3)\n",
      "Requirement already satisfied: redis>=4.3.1 in /Users/sagarshah/.pyenv/versions/3.10.7/envs/c4-chatbot/lib/python3.10/site-packages (from manifest-ml<0.0.2,>=0.0.1->langchain[llms]) (5.0.0)\n",
      "Requirement already satisfied: sqlitedict>=2.0.0 in /Users/sagarshah/.pyenv/versions/3.10.7/envs/c4-chatbot/lib/python3.10/site-packages (from manifest-ml<0.0.2,>=0.0.1->langchain[llms]) (2.1.0)\n",
      "Requirement already satisfied: dill>=0.3.5 in /Users/sagarshah/.pyenv/versions/3.10.7/envs/c4-chatbot/lib/python3.10/site-packages (from manifest-ml<0.0.2,>=0.0.1->langchain[llms]) (0.3.7)\n",
      "Requirement already satisfied: idna<4,>=2.5 in /Users/sagarshah/.pyenv/versions/3.10.7/envs/c4-chatbot/lib/python3.10/site-packages (from requests<3,>=2->langchain[llms]) (3.4)\n",
      "Requirement already satisfied: certifi>=2017.4.17 in /Users/sagarshah/.pyenv/versions/3.10.7/envs/c4-chatbot/lib/python3.10/site-packages (from requests<3,>=2->langchain[llms]) (2023.7.22)\n",
      "Requirement already satisfied: greenlet!=0.4.17 in /Users/sagarshah/.pyenv/versions/3.10.7/envs/c4-chatbot/lib/python3.10/site-packages (from SQLAlchemy<3,>=1.4->langchain[llms]) (2.0.2)\n",
      "Requirement already satisfied: networkx in /Users/sagarshah/.pyenv/versions/3.10.7/envs/c4-chatbot/lib/python3.10/site-packages (from torch<3,>=1->langchain[llms]) (3.1)\n",
      "Requirement already satisfied: jinja2 in /Users/sagarshah/.pyenv/versions/3.10.7/envs/c4-chatbot/lib/python3.10/site-packages (from torch<3,>=1->langchain[llms]) (3.1.2)\n",
      "Requirement already satisfied: sympy in /Users/sagarshah/.pyenv/versions/3.10.7/envs/c4-chatbot/lib/python3.10/site-packages (from torch<3,>=1->langchain[llms]) (1.12)\n",
      "Requirement already satisfied: regex!=2019.12.17 in /Users/sagarshah/.pyenv/versions/3.10.7/envs/c4-chatbot/lib/python3.10/site-packages (from transformers<5,>=4->langchain[llms]) (2023.8.8)\n",
      "Requirement already satisfied: tokenizers!=0.11.3,<0.14,>=0.11.1 in /Users/sagarshah/.pyenv/versions/3.10.7/envs/c4-chatbot/lib/python3.10/site-packages (from transformers<5,>=4->langchain[llms]) (0.13.3)\n",
      "Requirement already satisfied: safetensors>=0.3.1 in /Users/sagarshah/.pyenv/versions/3.10.7/envs/c4-chatbot/lib/python3.10/site-packages (from transformers<5,>=4->langchain[llms]) (0.3.3)\n",
      "Requirement already satisfied: grpcio>=1.44.0 in /Users/sagarshah/.pyenv/versions/3.10.7/envs/c4-chatbot/lib/python3.10/site-packages (from clarifai-grpc>=9.7.4->clarifai>=9.1.0->langchain[llms]) (1.57.0)\n",
      "Requirement already satisfied: protobuf>=3.20.3 in /Users/sagarshah/.pyenv/versions/3.10.7/envs/c4-chatbot/lib/python3.10/site-packages (from clarifai-grpc>=9.7.4->clarifai>=9.1.0->langchain[llms]) (4.24.2)\n",
      "Requirement already satisfied: googleapis-common-protos>=1.53.0 in /Users/sagarshah/.pyenv/versions/3.10.7/envs/c4-chatbot/lib/python3.10/site-packages (from clarifai-grpc>=9.7.4->clarifai>=9.1.0->langchain[llms]) (1.60.0)\n",
      "Requirement already satisfied: zipp>=0.5 in /Users/sagarshah/.pyenv/versions/3.10.7/envs/c4-chatbot/lib/python3.10/site-packages (from importlib_metadata<7.0,>=6.0->cohere<5,>=4->langchain[llms]) (3.16.2)\n",
      "Requirement already satisfied: mypy-extensions>=0.3.0 in /Users/sagarshah/.pyenv/versions/3.10.7/envs/c4-chatbot/lib/python3.10/site-packages (from typing-inspect<1,>=0.4.0->dataclasses-json<0.6.0,>=0.5.7->langchain[llms]) (1.0.0)\n",
      "Requirement already satisfied: MarkupSafe>=2.0 in /Users/sagarshah/.pyenv/versions/3.10.7/envs/c4-chatbot/lib/python3.10/site-packages (from jinja2->torch<3,>=1->langchain[llms]) (2.1.3)\n",
      "Requirement already satisfied: mpmath>=0.19 in /Users/sagarshah/.pyenv/versions/3.10.7/envs/c4-chatbot/lib/python3.10/site-packages (from sympy->torch<3,>=1->langchain[llms]) (1.3.0)\n",
      "Requirement already satisfied: mdurl~=0.1 in /Users/sagarshah/.pyenv/versions/3.10.7/envs/c4-chatbot/lib/python3.10/site-packages (from markdown-it-py>=2.2.0->rich==13.4.2->clarifai>=9.1.0->langchain[llms]) (0.1.2)\n",
      "\n",
      "\u001b[1m[\u001b[0m\u001b[34;49mnotice\u001b[0m\u001b[1;39;49m]\u001b[0m\u001b[39;49m A new release of pip available: \u001b[0m\u001b[31;49m22.2.2\u001b[0m\u001b[39;49m -> \u001b[0m\u001b[32;49m23.2.1\u001b[0m\n",
      "\u001b[1m[\u001b[0m\u001b[34;49mnotice\u001b[0m\u001b[1;39;49m]\u001b[0m\u001b[39;49m To update, run: \u001b[0m\u001b[32;49mpip install --upgrade pip\u001b[0m\n",
      "Requirement already satisfied: Scrapy in /Users/sagarshah/.pyenv/versions/3.10.7/envs/c4-chatbot/lib/python3.10/site-packages (2.10.1)\n",
      "Requirement already satisfied: Twisted<23.8.0,>=18.9.0 in /Users/sagarshah/.pyenv/versions/3.10.7/envs/c4-chatbot/lib/python3.10/site-packages (from Scrapy) (22.10.0)\n",
      "Requirement already satisfied: w3lib>=1.17.0 in /Users/sagarshah/.pyenv/versions/3.10.7/envs/c4-chatbot/lib/python3.10/site-packages (from Scrapy) (2.1.2)\n",
      "Requirement already satisfied: service-identity>=18.1.0 in /Users/sagarshah/.pyenv/versions/3.10.7/envs/c4-chatbot/lib/python3.10/site-packages (from Scrapy) (23.1.0)\n",
      "Requirement already satisfied: cssselect>=0.9.1 in /Users/sagarshah/.pyenv/versions/3.10.7/envs/c4-chatbot/lib/python3.10/site-packages (from Scrapy) (1.2.0)\n",
      "Requirement already satisfied: lxml>=4.4.1 in /Users/sagarshah/.pyenv/versions/3.10.7/envs/c4-chatbot/lib/python3.10/site-packages (from Scrapy) (4.9.3)\n",
      "Requirement already satisfied: protego>=0.1.15 in /Users/sagarshah/.pyenv/versions/3.10.7/envs/c4-chatbot/lib/python3.10/site-packages (from Scrapy) (0.3.0)\n",
      "Requirement already satisfied: PyDispatcher>=2.0.5 in /Users/sagarshah/.pyenv/versions/3.10.7/envs/c4-chatbot/lib/python3.10/site-packages (from Scrapy) (2.0.7)\n",
      "Requirement already satisfied: tldextract in /Users/sagarshah/.pyenv/versions/3.10.7/envs/c4-chatbot/lib/python3.10/site-packages (from Scrapy) (3.4.4)\n",
      "Requirement already satisfied: pyOpenSSL>=21.0.0 in /Users/sagarshah/.pyenv/versions/3.10.7/envs/c4-chatbot/lib/python3.10/site-packages (from Scrapy) (23.2.0)\n",
      "Requirement already satisfied: queuelib>=1.4.2 in /Users/sagarshah/.pyenv/versions/3.10.7/envs/c4-chatbot/lib/python3.10/site-packages (from Scrapy) (1.6.2)\n",
      "Requirement already satisfied: packaging in /Users/sagarshah/.pyenv/versions/3.10.7/envs/c4-chatbot/lib/python3.10/site-packages (from Scrapy) (23.1)\n",
      "Requirement already satisfied: zope.interface>=5.1.0 in /Users/sagarshah/.pyenv/versions/3.10.7/envs/c4-chatbot/lib/python3.10/site-packages (from Scrapy) (6.0)\n",
      "Requirement already satisfied: setuptools in /Users/sagarshah/.pyenv/versions/3.10.7/envs/c4-chatbot/lib/python3.10/site-packages (from Scrapy) (63.2.0)\n",
      "Requirement already satisfied: itemadapter>=0.1.0 in /Users/sagarshah/.pyenv/versions/3.10.7/envs/c4-chatbot/lib/python3.10/site-packages (from Scrapy) (0.8.0)\n",
      "Requirement already satisfied: cryptography>=36.0.0 in /Users/sagarshah/.pyenv/versions/3.10.7/envs/c4-chatbot/lib/python3.10/site-packages (from Scrapy) (41.0.3)\n",
      "Requirement already satisfied: itemloaders>=1.0.1 in /Users/sagarshah/.pyenv/versions/3.10.7/envs/c4-chatbot/lib/python3.10/site-packages (from Scrapy) (1.1.0)\n",
      "Requirement already satisfied: parsel>=1.5.0 in /Users/sagarshah/.pyenv/versions/3.10.7/envs/c4-chatbot/lib/python3.10/site-packages (from Scrapy) (1.8.1)\n",
      "Requirement already satisfied: cffi>=1.12 in /Users/sagarshah/.pyenv/versions/3.10.7/envs/c4-chatbot/lib/python3.10/site-packages (from cryptography>=36.0.0->Scrapy) (1.15.1)\n",
      "Requirement already satisfied: jmespath>=0.9.5 in /Users/sagarshah/.pyenv/versions/3.10.7/envs/c4-chatbot/lib/python3.10/site-packages (from itemloaders>=1.0.1->Scrapy) (1.0.1)\n",
      "Requirement already satisfied: pyasn1-modules in /Users/sagarshah/.pyenv/versions/3.10.7/envs/c4-chatbot/lib/python3.10/site-packages (from service-identity>=18.1.0->Scrapy) (0.3.0)\n",
      "Requirement already satisfied: attrs>=19.1.0 in /Users/sagarshah/.pyenv/versions/3.10.7/envs/c4-chatbot/lib/python3.10/site-packages (from service-identity>=18.1.0->Scrapy) (23.1.0)\n",
      "Requirement already satisfied: pyasn1 in /Users/sagarshah/.pyenv/versions/3.10.7/envs/c4-chatbot/lib/python3.10/site-packages (from service-identity>=18.1.0->Scrapy) (0.5.0)\n",
      "Requirement already satisfied: Automat>=0.8.0 in /Users/sagarshah/.pyenv/versions/3.10.7/envs/c4-chatbot/lib/python3.10/site-packages (from Twisted<23.8.0,>=18.9.0->Scrapy) (22.10.0)\n",
      "Requirement already satisfied: typing-extensions>=3.6.5 in /Users/sagarshah/.pyenv/versions/3.10.7/envs/c4-chatbot/lib/python3.10/site-packages (from Twisted<23.8.0,>=18.9.0->Scrapy) (4.7.1)\n",
      "Requirement already satisfied: incremental>=21.3.0 in /Users/sagarshah/.pyenv/versions/3.10.7/envs/c4-chatbot/lib/python3.10/site-packages (from Twisted<23.8.0,>=18.9.0->Scrapy) (22.10.0)\n",
      "Requirement already satisfied: constantly>=15.1 in /Users/sagarshah/.pyenv/versions/3.10.7/envs/c4-chatbot/lib/python3.10/site-packages (from Twisted<23.8.0,>=18.9.0->Scrapy) (15.1.0)\n",
      "Requirement already satisfied: hyperlink>=17.1.1 in /Users/sagarshah/.pyenv/versions/3.10.7/envs/c4-chatbot/lib/python3.10/site-packages (from Twisted<23.8.0,>=18.9.0->Scrapy) (21.0.0)\n",
      "Requirement already satisfied: idna in /Users/sagarshah/.pyenv/versions/3.10.7/envs/c4-chatbot/lib/python3.10/site-packages (from tldextract->Scrapy) (3.4)\n",
      "Requirement already satisfied: requests>=2.1.0 in /Users/sagarshah/.pyenv/versions/3.10.7/envs/c4-chatbot/lib/python3.10/site-packages (from tldextract->Scrapy) (2.31.0)\n",
      "Requirement already satisfied: requests-file>=1.4 in /Users/sagarshah/.pyenv/versions/3.10.7/envs/c4-chatbot/lib/python3.10/site-packages (from tldextract->Scrapy) (1.5.1)\n",
      "Requirement already satisfied: filelock>=3.0.8 in /Users/sagarshah/.pyenv/versions/3.10.7/envs/c4-chatbot/lib/python3.10/site-packages (from tldextract->Scrapy) (3.12.3)\n",
      "Requirement already satisfied: six in /Users/sagarshah/.pyenv/versions/3.10.7/envs/c4-chatbot/lib/python3.10/site-packages (from Automat>=0.8.0->Twisted<23.8.0,>=18.9.0->Scrapy) (1.16.0)\n",
      "Requirement already satisfied: pycparser in /Users/sagarshah/.pyenv/versions/3.10.7/envs/c4-chatbot/lib/python3.10/site-packages (from cffi>=1.12->cryptography>=36.0.0->Scrapy) (2.21)\n",
      "Requirement already satisfied: charset-normalizer<4,>=2 in /Users/sagarshah/.pyenv/versions/3.10.7/envs/c4-chatbot/lib/python3.10/site-packages (from requests>=2.1.0->tldextract->Scrapy) (3.2.0)\n",
      "Requirement already satisfied: urllib3<3,>=1.21.1 in /Users/sagarshah/.pyenv/versions/3.10.7/envs/c4-chatbot/lib/python3.10/site-packages (from requests>=2.1.0->tldextract->Scrapy) (2.0.4)\n",
      "Requirement already satisfied: certifi>=2017.4.17 in /Users/sagarshah/.pyenv/versions/3.10.7/envs/c4-chatbot/lib/python3.10/site-packages (from requests>=2.1.0->tldextract->Scrapy) (2023.7.22)\n",
      "\n",
      "\u001b[1m[\u001b[0m\u001b[34;49mnotice\u001b[0m\u001b[1;39;49m]\u001b[0m\u001b[39;49m A new release of pip available: \u001b[0m\u001b[31;49m22.2.2\u001b[0m\u001b[39;49m -> \u001b[0m\u001b[32;49m23.2.1\u001b[0m\n",
      "\u001b[1m[\u001b[0m\u001b[34;49mnotice\u001b[0m\u001b[1;39;49m]\u001b[0m\u001b[39;49m To update, run: \u001b[0m\u001b[32;49mpip install --upgrade pip\u001b[0m\n",
      "Requirement already satisfied: html2text in /Users/sagarshah/.pyenv/versions/3.10.7/envs/c4-chatbot/lib/python3.10/site-packages (2020.1.16)\n",
      "\n",
      "\u001b[1m[\u001b[0m\u001b[34;49mnotice\u001b[0m\u001b[1;39;49m]\u001b[0m\u001b[39;49m A new release of pip available: \u001b[0m\u001b[31;49m22.2.2\u001b[0m\u001b[39;49m -> \u001b[0m\u001b[32;49m23.2.1\u001b[0m\n",
      "\u001b[1m[\u001b[0m\u001b[34;49mnotice\u001b[0m\u001b[1;39;49m]\u001b[0m\u001b[39;49m To update, run: \u001b[0m\u001b[32;49mpip install --upgrade pip\u001b[0m\n",
      "Requirement already satisfied: lxml in /Users/sagarshah/.pyenv/versions/3.10.7/envs/c4-chatbot/lib/python3.10/site-packages (4.9.3)\n",
      "\n",
      "\u001b[1m[\u001b[0m\u001b[34;49mnotice\u001b[0m\u001b[1;39;49m]\u001b[0m\u001b[39;49m A new release of pip available: \u001b[0m\u001b[31;49m22.2.2\u001b[0m\u001b[39;49m -> \u001b[0m\u001b[32;49m23.2.1\u001b[0m\n",
      "\u001b[1m[\u001b[0m\u001b[34;49mnotice\u001b[0m\u001b[1;39;49m]\u001b[0m\u001b[39;49m To update, run: \u001b[0m\u001b[32;49mpip install --upgrade pip\u001b[0m\n",
      "Requirement already satisfied: python-dotenv in /Users/sagarshah/.pyenv/versions/3.10.7/envs/c4-chatbot/lib/python3.10/site-packages (1.0.0)\n",
      "\n",
      "\u001b[1m[\u001b[0m\u001b[34;49mnotice\u001b[0m\u001b[1;39;49m]\u001b[0m\u001b[39;49m A new release of pip available: \u001b[0m\u001b[31;49m22.2.2\u001b[0m\u001b[39;49m -> \u001b[0m\u001b[32;49m23.2.1\u001b[0m\n",
      "\u001b[1m[\u001b[0m\u001b[34;49mnotice\u001b[0m\u001b[1;39;49m]\u001b[0m\u001b[39;49m To update, run: \u001b[0m\u001b[32;49mpip install --upgrade pip\u001b[0m\n",
      "Requirement already satisfied: unstructured[all-docs] in /Users/sagarshah/.pyenv/versions/3.10.7/envs/c4-chatbot/lib/python3.10/site-packages (0.10.11)\n",
      "Requirement already satisfied: requests in /Users/sagarshah/.pyenv/versions/3.10.7/envs/c4-chatbot/lib/python3.10/site-packages (from unstructured[all-docs]) (2.31.0)\n",
      "Requirement already satisfied: python-magic in /Users/sagarshah/.pyenv/versions/3.10.7/envs/c4-chatbot/lib/python3.10/site-packages (from unstructured[all-docs]) (0.4.27)\n",
      "Requirement already satisfied: emoji in /Users/sagarshah/.pyenv/versions/3.10.7/envs/c4-chatbot/lib/python3.10/site-packages (from unstructured[all-docs]) (2.8.0)\n",
      "Requirement already satisfied: dataclasses-json in /Users/sagarshah/.pyenv/versions/3.10.7/envs/c4-chatbot/lib/python3.10/site-packages (from unstructured[all-docs]) (0.5.14)\n",
      "Requirement already satisfied: chardet in /Users/sagarshah/.pyenv/versions/3.10.7/envs/c4-chatbot/lib/python3.10/site-packages (from unstructured[all-docs]) (5.2.0)\n",
      "Requirement already satisfied: tabulate in /Users/sagarshah/.pyenv/versions/3.10.7/envs/c4-chatbot/lib/python3.10/site-packages (from unstructured[all-docs]) (0.9.0)\n",
      "Requirement already satisfied: filetype in /Users/sagarshah/.pyenv/versions/3.10.7/envs/c4-chatbot/lib/python3.10/site-packages (from unstructured[all-docs]) (1.2.0)\n",
      "Requirement already satisfied: nltk in /Users/sagarshah/.pyenv/versions/3.10.7/envs/c4-chatbot/lib/python3.10/site-packages (from unstructured[all-docs]) (3.8.1)\n",
      "Requirement already satisfied: lxml in /Users/sagarshah/.pyenv/versions/3.10.7/envs/c4-chatbot/lib/python3.10/site-packages (from unstructured[all-docs]) (4.9.3)\n",
      "Requirement already satisfied: beautifulsoup4 in /Users/sagarshah/.pyenv/versions/3.10.7/envs/c4-chatbot/lib/python3.10/site-packages (from unstructured[all-docs]) (4.12.2)\n",
      "Requirement already satisfied: ebooklib in /Users/sagarshah/.pyenv/versions/3.10.7/envs/c4-chatbot/lib/python3.10/site-packages (from unstructured[all-docs]) (0.18)\n",
      "Requirement already satisfied: pdf2image in /Users/sagarshah/.pyenv/versions/3.10.7/envs/c4-chatbot/lib/python3.10/site-packages (from unstructured[all-docs]) (1.16.3)\n",
      "Requirement already satisfied: python-docx in /Users/sagarshah/.pyenv/versions/3.10.7/envs/c4-chatbot/lib/python3.10/site-packages (from unstructured[all-docs]) (0.8.11)\n",
      "Requirement already satisfied: markdown in /Users/sagarshah/.pyenv/versions/3.10.7/envs/c4-chatbot/lib/python3.10/site-packages (from unstructured[all-docs]) (3.4.4)\n",
      "Requirement already satisfied: Pillow<10 in /Users/sagarshah/.pyenv/versions/3.10.7/envs/c4-chatbot/lib/python3.10/site-packages (from unstructured[all-docs]) (9.5.0)\n",
      "Requirement already satisfied: xlrd in /Users/sagarshah/.pyenv/versions/3.10.7/envs/c4-chatbot/lib/python3.10/site-packages (from unstructured[all-docs]) (2.0.1)\n",
      "Requirement already satisfied: pdfminer.six in /Users/sagarshah/.pyenv/versions/3.10.7/envs/c4-chatbot/lib/python3.10/site-packages (from unstructured[all-docs]) (20221105)\n",
      "Requirement already satisfied: msg-parser in /Users/sagarshah/.pyenv/versions/3.10.7/envs/c4-chatbot/lib/python3.10/site-packages (from unstructured[all-docs]) (1.2.0)\n",
      "Requirement already satisfied: unstructured-inference in /Users/sagarshah/.pyenv/versions/3.10.7/envs/c4-chatbot/lib/python3.10/site-packages (from unstructured[all-docs]) (0.5.19)\n",
      "Requirement already satisfied: python-pptx in /Users/sagarshah/.pyenv/versions/3.10.7/envs/c4-chatbot/lib/python3.10/site-packages (from unstructured[all-docs]) (0.6.22)\n",
      "Requirement already satisfied: pandas in /Users/sagarshah/.pyenv/versions/3.10.7/envs/c4-chatbot/lib/python3.10/site-packages (from unstructured[all-docs]) (2.1.0)\n",
      "Requirement already satisfied: openpyxl in /Users/sagarshah/.pyenv/versions/3.10.7/envs/c4-chatbot/lib/python3.10/site-packages (from unstructured[all-docs]) (3.1.2)\n",
      "Requirement already satisfied: pypandoc in /Users/sagarshah/.pyenv/versions/3.10.7/envs/c4-chatbot/lib/python3.10/site-packages (from unstructured[all-docs]) (1.11)\n",
      "Requirement already satisfied: soupsieve>1.2 in /Users/sagarshah/.pyenv/versions/3.10.7/envs/c4-chatbot/lib/python3.10/site-packages (from beautifulsoup4->unstructured[all-docs]) (2.4.1)\n",
      "Requirement already satisfied: typing-inspect<1,>=0.4.0 in /Users/sagarshah/.pyenv/versions/3.10.7/envs/c4-chatbot/lib/python3.10/site-packages (from dataclasses-json->unstructured[all-docs]) (0.9.0)\n",
      "Requirement already satisfied: marshmallow<4.0.0,>=3.18.0 in /Users/sagarshah/.pyenv/versions/3.10.7/envs/c4-chatbot/lib/python3.10/site-packages (from dataclasses-json->unstructured[all-docs]) (3.20.1)\n",
      "Requirement already satisfied: six in /Users/sagarshah/.pyenv/versions/3.10.7/envs/c4-chatbot/lib/python3.10/site-packages (from ebooklib->unstructured[all-docs]) (1.16.0)\n",
      "Requirement already satisfied: olefile>=0.46 in /Users/sagarshah/.pyenv/versions/3.10.7/envs/c4-chatbot/lib/python3.10/site-packages (from msg-parser->unstructured[all-docs]) (0.46)\n",
      "Requirement already satisfied: click in /Users/sagarshah/.pyenv/versions/3.10.7/envs/c4-chatbot/lib/python3.10/site-packages (from nltk->unstructured[all-docs]) (8.1.7)\n",
      "Requirement already satisfied: regex>=2021.8.3 in /Users/sagarshah/.pyenv/versions/3.10.7/envs/c4-chatbot/lib/python3.10/site-packages (from nltk->unstructured[all-docs]) (2023.8.8)\n",
      "Requirement already satisfied: joblib in /Users/sagarshah/.pyenv/versions/3.10.7/envs/c4-chatbot/lib/python3.10/site-packages (from nltk->unstructured[all-docs]) (1.3.2)\n",
      "Requirement already satisfied: tqdm in /Users/sagarshah/.pyenv/versions/3.10.7/envs/c4-chatbot/lib/python3.10/site-packages (from nltk->unstructured[all-docs]) (4.64.1)\n",
      "Requirement already satisfied: et-xmlfile in /Users/sagarshah/.pyenv/versions/3.10.7/envs/c4-chatbot/lib/python3.10/site-packages (from openpyxl->unstructured[all-docs]) (1.1.0)\n",
      "Requirement already satisfied: pytz>=2020.1 in /Users/sagarshah/.pyenv/versions/3.10.7/envs/c4-chatbot/lib/python3.10/site-packages (from pandas->unstructured[all-docs]) (2023.3)\n",
      "Requirement already satisfied: numpy>=1.22.4 in /Users/sagarshah/.pyenv/versions/3.10.7/envs/c4-chatbot/lib/python3.10/site-packages (from pandas->unstructured[all-docs]) (1.25.2)\n",
      "Requirement already satisfied: tzdata>=2022.1 in /Users/sagarshah/.pyenv/versions/3.10.7/envs/c4-chatbot/lib/python3.10/site-packages (from pandas->unstructured[all-docs]) (2023.3)\n",
      "Requirement already satisfied: python-dateutil>=2.8.2 in /Users/sagarshah/.pyenv/versions/3.10.7/envs/c4-chatbot/lib/python3.10/site-packages (from pandas->unstructured[all-docs]) (2.8.2)\n",
      "Requirement already satisfied: cryptography>=36.0.0 in /Users/sagarshah/.pyenv/versions/3.10.7/envs/c4-chatbot/lib/python3.10/site-packages (from pdfminer.six->unstructured[all-docs]) (41.0.3)\n",
      "Requirement already satisfied: charset-normalizer>=2.0.0 in /Users/sagarshah/.pyenv/versions/3.10.7/envs/c4-chatbot/lib/python3.10/site-packages (from pdfminer.six->unstructured[all-docs]) (3.2.0)\n",
      "Requirement already satisfied: XlsxWriter>=0.5.7 in /Users/sagarshah/.pyenv/versions/3.10.7/envs/c4-chatbot/lib/python3.10/site-packages (from python-pptx->unstructured[all-docs]) (3.1.2)\n",
      "Requirement already satisfied: certifi>=2017.4.17 in /Users/sagarshah/.pyenv/versions/3.10.7/envs/c4-chatbot/lib/python3.10/site-packages (from requests->unstructured[all-docs]) (2023.7.22)\n",
      "Requirement already satisfied: idna<4,>=2.5 in /Users/sagarshah/.pyenv/versions/3.10.7/envs/c4-chatbot/lib/python3.10/site-packages (from requests->unstructured[all-docs]) (3.4)\n",
      "Requirement already satisfied: urllib3<3,>=1.21.1 in /Users/sagarshah/.pyenv/versions/3.10.7/envs/c4-chatbot/lib/python3.10/site-packages (from requests->unstructured[all-docs]) (2.0.4)\n",
      "Requirement already satisfied: opencv-python!=4.7.0.68 in /Users/sagarshah/.pyenv/versions/3.10.7/envs/c4-chatbot/lib/python3.10/site-packages (from unstructured-inference->unstructured[all-docs]) (4.8.0.76)\n",
      "Requirement already satisfied: transformers>=4.25.1 in /Users/sagarshah/.pyenv/versions/3.10.7/envs/c4-chatbot/lib/python3.10/site-packages (from unstructured-inference->unstructured[all-docs]) (4.32.1)\n",
      "Requirement already satisfied: python-multipart in /Users/sagarshah/.pyenv/versions/3.10.7/envs/c4-chatbot/lib/python3.10/site-packages (from unstructured-inference->unstructured[all-docs]) (0.0.6)\n",
      "Requirement already satisfied: layoutparser[layoutmodels,tesseract] in /Users/sagarshah/.pyenv/versions/3.10.7/envs/c4-chatbot/lib/python3.10/site-packages (from unstructured-inference->unstructured[all-docs]) (0.3.4)\n",
      "Requirement already satisfied: huggingface-hub in /Users/sagarshah/.pyenv/versions/3.10.7/envs/c4-chatbot/lib/python3.10/site-packages (from unstructured-inference->unstructured[all-docs]) (0.16.4)\n",
      "Requirement already satisfied: onnxruntime in /Users/sagarshah/.pyenv/versions/3.10.7/envs/c4-chatbot/lib/python3.10/site-packages (from unstructured-inference->unstructured[all-docs]) (1.15.1)\n",
      "Requirement already satisfied: cffi>=1.12 in /Users/sagarshah/.pyenv/versions/3.10.7/envs/c4-chatbot/lib/python3.10/site-packages (from cryptography>=36.0.0->pdfminer.six->unstructured[all-docs]) (1.15.1)\n",
      "Requirement already satisfied: packaging>=17.0 in /Users/sagarshah/.pyenv/versions/3.10.7/envs/c4-chatbot/lib/python3.10/site-packages (from marshmallow<4.0.0,>=3.18.0->dataclasses-json->unstructured[all-docs]) (23.1)\n",
      "Requirement already satisfied: safetensors>=0.3.1 in /Users/sagarshah/.pyenv/versions/3.10.7/envs/c4-chatbot/lib/python3.10/site-packages (from transformers>=4.25.1->unstructured-inference->unstructured[all-docs]) (0.3.3)\n",
      "Requirement already satisfied: tokenizers!=0.11.3,<0.14,>=0.11.1 in /Users/sagarshah/.pyenv/versions/3.10.7/envs/c4-chatbot/lib/python3.10/site-packages (from transformers>=4.25.1->unstructured-inference->unstructured[all-docs]) (0.13.3)\n",
      "Requirement already satisfied: filelock in /Users/sagarshah/.pyenv/versions/3.10.7/envs/c4-chatbot/lib/python3.10/site-packages (from transformers>=4.25.1->unstructured-inference->unstructured[all-docs]) (3.12.3)\n",
      "Requirement already satisfied: pyyaml>=5.1 in /Users/sagarshah/.pyenv/versions/3.10.7/envs/c4-chatbot/lib/python3.10/site-packages (from transformers>=4.25.1->unstructured-inference->unstructured[all-docs]) (6.0.1)\n",
      "Requirement already satisfied: typing-extensions>=3.7.4.3 in /Users/sagarshah/.pyenv/versions/3.10.7/envs/c4-chatbot/lib/python3.10/site-packages (from huggingface-hub->unstructured-inference->unstructured[all-docs]) (4.7.1)\n",
      "Requirement already satisfied: fsspec in /Users/sagarshah/.pyenv/versions/3.10.7/envs/c4-chatbot/lib/python3.10/site-packages (from huggingface-hub->unstructured-inference->unstructured[all-docs]) (2023.6.0)\n",
      "Requirement already satisfied: mypy-extensions>=0.3.0 in /Users/sagarshah/.pyenv/versions/3.10.7/envs/c4-chatbot/lib/python3.10/site-packages (from typing-inspect<1,>=0.4.0->dataclasses-json->unstructured[all-docs]) (1.0.0)\n",
      "Requirement already satisfied: pdfplumber in /Users/sagarshah/.pyenv/versions/3.10.7/envs/c4-chatbot/lib/python3.10/site-packages (from layoutparser[layoutmodels,tesseract]->unstructured-inference->unstructured[all-docs]) (0.10.2)\n",
      "Requirement already satisfied: iopath in /Users/sagarshah/.pyenv/versions/3.10.7/envs/c4-chatbot/lib/python3.10/site-packages (from layoutparser[layoutmodels,tesseract]->unstructured-inference->unstructured[all-docs]) (0.1.10)\n",
      "Requirement already satisfied: scipy in /Users/sagarshah/.pyenv/versions/3.10.7/envs/c4-chatbot/lib/python3.10/site-packages (from layoutparser[layoutmodels,tesseract]->unstructured-inference->unstructured[all-docs]) (1.11.2)\n",
      "Requirement already satisfied: pytesseract in /Users/sagarshah/.pyenv/versions/3.10.7/envs/c4-chatbot/lib/python3.10/site-packages (from layoutparser[layoutmodels,tesseract]->unstructured-inference->unstructured[all-docs]) (0.3.10)\n",
      "Requirement already satisfied: torchvision in /Users/sagarshah/.pyenv/versions/3.10.7/envs/c4-chatbot/lib/python3.10/site-packages (from layoutparser[layoutmodels,tesseract]->unstructured-inference->unstructured[all-docs]) (0.15.2)\n",
      "Requirement already satisfied: torch in /Users/sagarshah/.pyenv/versions/3.10.7/envs/c4-chatbot/lib/python3.10/site-packages (from layoutparser[layoutmodels,tesseract]->unstructured-inference->unstructured[all-docs]) (2.0.1)\n",
      "Requirement already satisfied: effdet in /Users/sagarshah/.pyenv/versions/3.10.7/envs/c4-chatbot/lib/python3.10/site-packages (from layoutparser[layoutmodels,tesseract]->unstructured-inference->unstructured[all-docs]) (0.4.1)\n",
      "Requirement already satisfied: protobuf in /Users/sagarshah/.pyenv/versions/3.10.7/envs/c4-chatbot/lib/python3.10/site-packages (from onnxruntime->unstructured-inference->unstructured[all-docs]) (4.24.2)\n",
      "Requirement already satisfied: coloredlogs in /Users/sagarshah/.pyenv/versions/3.10.7/envs/c4-chatbot/lib/python3.10/site-packages (from onnxruntime->unstructured-inference->unstructured[all-docs]) (15.0.1)\n",
      "Requirement already satisfied: flatbuffers in /Users/sagarshah/.pyenv/versions/3.10.7/envs/c4-chatbot/lib/python3.10/site-packages (from onnxruntime->unstructured-inference->unstructured[all-docs]) (23.5.26)\n",
      "Requirement already satisfied: sympy in /Users/sagarshah/.pyenv/versions/3.10.7/envs/c4-chatbot/lib/python3.10/site-packages (from onnxruntime->unstructured-inference->unstructured[all-docs]) (1.12)\n",
      "Requirement already satisfied: pycparser in /Users/sagarshah/.pyenv/versions/3.10.7/envs/c4-chatbot/lib/python3.10/site-packages (from cffi>=1.12->cryptography>=36.0.0->pdfminer.six->unstructured[all-docs]) (2.21)\n",
      "Requirement already satisfied: humanfriendly>=9.1 in /Users/sagarshah/.pyenv/versions/3.10.7/envs/c4-chatbot/lib/python3.10/site-packages (from coloredlogs->onnxruntime->unstructured-inference->unstructured[all-docs]) (10.0)\n",
      "Requirement already satisfied: pycocotools>=2.0.2 in /Users/sagarshah/.pyenv/versions/3.10.7/envs/c4-chatbot/lib/python3.10/site-packages (from effdet->layoutparser[layoutmodels,tesseract]->unstructured-inference->unstructured[all-docs]) (2.0.7)\n",
      "Requirement already satisfied: timm>=0.9.2 in /Users/sagarshah/.pyenv/versions/3.10.7/envs/c4-chatbot/lib/python3.10/site-packages (from effdet->layoutparser[layoutmodels,tesseract]->unstructured-inference->unstructured[all-docs]) (0.9.6)\n",
      "Requirement already satisfied: omegaconf>=2.0 in /Users/sagarshah/.pyenv/versions/3.10.7/envs/c4-chatbot/lib/python3.10/site-packages (from effdet->layoutparser[layoutmodels,tesseract]->unstructured-inference->unstructured[all-docs]) (2.3.0)\n",
      "Requirement already satisfied: networkx in /Users/sagarshah/.pyenv/versions/3.10.7/envs/c4-chatbot/lib/python3.10/site-packages (from torch->layoutparser[layoutmodels,tesseract]->unstructured-inference->unstructured[all-docs]) (3.1)\n",
      "Requirement already satisfied: jinja2 in /Users/sagarshah/.pyenv/versions/3.10.7/envs/c4-chatbot/lib/python3.10/site-packages (from torch->layoutparser[layoutmodels,tesseract]->unstructured-inference->unstructured[all-docs]) (3.1.2)\n",
      "Requirement already satisfied: portalocker in /Users/sagarshah/.pyenv/versions/3.10.7/envs/c4-chatbot/lib/python3.10/site-packages (from iopath->layoutparser[layoutmodels,tesseract]->unstructured-inference->unstructured[all-docs]) (2.7.0)\n",
      "Requirement already satisfied: pypdfium2>=4.18.0 in /Users/sagarshah/.pyenv/versions/3.10.7/envs/c4-chatbot/lib/python3.10/site-packages (from pdfplumber->layoutparser[layoutmodels,tesseract]->unstructured-inference->unstructured[all-docs]) (4.19.0)\n",
      "Requirement already satisfied: mpmath>=0.19 in /Users/sagarshah/.pyenv/versions/3.10.7/envs/c4-chatbot/lib/python3.10/site-packages (from sympy->onnxruntime->unstructured-inference->unstructured[all-docs]) (1.3.0)\n",
      "Requirement already satisfied: antlr4-python3-runtime==4.9.* in /Users/sagarshah/.pyenv/versions/3.10.7/envs/c4-chatbot/lib/python3.10/site-packages (from omegaconf>=2.0->effdet->layoutparser[layoutmodels,tesseract]->unstructured-inference->unstructured[all-docs]) (4.9.3)\n",
      "Requirement already satisfied: matplotlib>=2.1.0 in /Users/sagarshah/.pyenv/versions/3.10.7/envs/c4-chatbot/lib/python3.10/site-packages (from pycocotools>=2.0.2->effdet->layoutparser[layoutmodels,tesseract]->unstructured-inference->unstructured[all-docs]) (3.7.2)\n",
      "Requirement already satisfied: MarkupSafe>=2.0 in /Users/sagarshah/.pyenv/versions/3.10.7/envs/c4-chatbot/lib/python3.10/site-packages (from jinja2->torch->layoutparser[layoutmodels,tesseract]->unstructured-inference->unstructured[all-docs]) (2.1.3)\n",
      "Requirement already satisfied: contourpy>=1.0.1 in /Users/sagarshah/.pyenv/versions/3.10.7/envs/c4-chatbot/lib/python3.10/site-packages (from matplotlib>=2.1.0->pycocotools>=2.0.2->effdet->layoutparser[layoutmodels,tesseract]->unstructured-inference->unstructured[all-docs]) (1.1.0)\n",
      "Requirement already satisfied: kiwisolver>=1.0.1 in /Users/sagarshah/.pyenv/versions/3.10.7/envs/c4-chatbot/lib/python3.10/site-packages (from matplotlib>=2.1.0->pycocotools>=2.0.2->effdet->layoutparser[layoutmodels,tesseract]->unstructured-inference->unstructured[all-docs]) (1.4.5)\n",
      "Requirement already satisfied: fonttools>=4.22.0 in /Users/sagarshah/.pyenv/versions/3.10.7/envs/c4-chatbot/lib/python3.10/site-packages (from matplotlib>=2.1.0->pycocotools>=2.0.2->effdet->layoutparser[layoutmodels,tesseract]->unstructured-inference->unstructured[all-docs]) (4.42.1)\n",
      "Requirement already satisfied: cycler>=0.10 in /Users/sagarshah/.pyenv/versions/3.10.7/envs/c4-chatbot/lib/python3.10/site-packages (from matplotlib>=2.1.0->pycocotools>=2.0.2->effdet->layoutparser[layoutmodels,tesseract]->unstructured-inference->unstructured[all-docs]) (0.11.0)\n",
      "Requirement already satisfied: pyparsing<3.1,>=2.3.1 in /Users/sagarshah/.pyenv/versions/3.10.7/envs/c4-chatbot/lib/python3.10/site-packages (from matplotlib>=2.1.0->pycocotools>=2.0.2->effdet->layoutparser[layoutmodels,tesseract]->unstructured-inference->unstructured[all-docs]) (3.0.9)\n",
      "\n",
      "\u001b[1m[\u001b[0m\u001b[34;49mnotice\u001b[0m\u001b[1;39;49m]\u001b[0m\u001b[39;49m A new release of pip available: \u001b[0m\u001b[31;49m22.2.2\u001b[0m\u001b[39;49m -> \u001b[0m\u001b[32;49m23.2.1\u001b[0m\n",
      "\u001b[1m[\u001b[0m\u001b[34;49mnotice\u001b[0m\u001b[1;39;49m]\u001b[0m\u001b[39;49m To update, run: \u001b[0m\u001b[32;49mpip install --upgrade pip\u001b[0m\n",
      "Requirement already satisfied: tiktoken in /Users/sagarshah/.pyenv/versions/3.10.7/envs/c4-chatbot/lib/python3.10/site-packages (0.4.0)\n",
      "Requirement already satisfied: regex>=2022.1.18 in /Users/sagarshah/.pyenv/versions/3.10.7/envs/c4-chatbot/lib/python3.10/site-packages (from tiktoken) (2023.8.8)\n",
      "Requirement already satisfied: requests>=2.26.0 in /Users/sagarshah/.pyenv/versions/3.10.7/envs/c4-chatbot/lib/python3.10/site-packages (from tiktoken) (2.31.0)\n",
      "Requirement already satisfied: urllib3<3,>=1.21.1 in /Users/sagarshah/.pyenv/versions/3.10.7/envs/c4-chatbot/lib/python3.10/site-packages (from requests>=2.26.0->tiktoken) (2.0.4)\n",
      "Requirement already satisfied: idna<4,>=2.5 in /Users/sagarshah/.pyenv/versions/3.10.7/envs/c4-chatbot/lib/python3.10/site-packages (from requests>=2.26.0->tiktoken) (3.4)\n",
      "Requirement already satisfied: certifi>=2017.4.17 in /Users/sagarshah/.pyenv/versions/3.10.7/envs/c4-chatbot/lib/python3.10/site-packages (from requests>=2.26.0->tiktoken) (2023.7.22)\n",
      "Requirement already satisfied: charset-normalizer<4,>=2 in /Users/sagarshah/.pyenv/versions/3.10.7/envs/c4-chatbot/lib/python3.10/site-packages (from requests>=2.26.0->tiktoken) (3.2.0)\n",
      "\n",
      "\u001b[1m[\u001b[0m\u001b[34;49mnotice\u001b[0m\u001b[1;39;49m]\u001b[0m\u001b[39;49m A new release of pip available: \u001b[0m\u001b[31;49m22.2.2\u001b[0m\u001b[39;49m -> \u001b[0m\u001b[32;49m23.2.1\u001b[0m\n",
      "\u001b[1m[\u001b[0m\u001b[34;49mnotice\u001b[0m\u001b[1;39;49m]\u001b[0m\u001b[39;49m To update, run: \u001b[0m\u001b[32;49mpip install --upgrade pip\u001b[0m\n",
      "Requirement already satisfied: faiss-cpu in /Users/sagarshah/.pyenv/versions/3.10.7/envs/c4-chatbot/lib/python3.10/site-packages (1.7.4)\n",
      "\n",
      "\u001b[1m[\u001b[0m\u001b[34;49mnotice\u001b[0m\u001b[1;39;49m]\u001b[0m\u001b[39;49m A new release of pip available: \u001b[0m\u001b[31;49m22.2.2\u001b[0m\u001b[39;49m -> \u001b[0m\u001b[32;49m23.2.1\u001b[0m\n",
      "\u001b[1m[\u001b[0m\u001b[34;49mnotice\u001b[0m\u001b[1;39;49m]\u001b[0m\u001b[39;49m To update, run: \u001b[0m\u001b[32;49mpip install --upgrade pip\u001b[0m\n",
      "Requirement already satisfied: GitPython in /Users/sagarshah/.pyenv/versions/3.10.7/envs/c4-chatbot/lib/python3.10/site-packages (3.1.33)\n",
      "Requirement already satisfied: gitdb<5,>=4.0.1 in /Users/sagarshah/.pyenv/versions/3.10.7/envs/c4-chatbot/lib/python3.10/site-packages (from GitPython) (4.0.10)\n",
      "Requirement already satisfied: smmap<6,>=3.0.1 in /Users/sagarshah/.pyenv/versions/3.10.7/envs/c4-chatbot/lib/python3.10/site-packages (from gitdb<5,>=4.0.1->GitPython) (5.0.0)\n",
      "\n",
      "\u001b[1m[\u001b[0m\u001b[34;49mnotice\u001b[0m\u001b[1;39;49m]\u001b[0m\u001b[39;49m A new release of pip available: \u001b[0m\u001b[31;49m22.2.2\u001b[0m\u001b[39;49m -> \u001b[0m\u001b[32;49m23.2.1\u001b[0m\n",
      "\u001b[1m[\u001b[0m\u001b[34;49mnotice\u001b[0m\u001b[1;39;49m]\u001b[0m\u001b[39;49m To update, run: \u001b[0m\u001b[32;49mpip install --upgrade pip\u001b[0m\n",
      "Requirement already satisfied: notebook in /Users/sagarshah/.pyenv/versions/3.10.7/envs/c4-chatbot/lib/python3.10/site-packages (7.0.3)\n",
      "Requirement already satisfied: notebook-shim<0.3,>=0.2 in /Users/sagarshah/.pyenv/versions/3.10.7/envs/c4-chatbot/lib/python3.10/site-packages (from notebook) (0.2.3)\n",
      "Requirement already satisfied: tornado>=6.2.0 in /Users/sagarshah/.pyenv/versions/3.10.7/envs/c4-chatbot/lib/python3.10/site-packages (from notebook) (6.3.3)\n",
      "Requirement already satisfied: jupyterlab<5,>=4.0.2 in /Users/sagarshah/.pyenv/versions/3.10.7/envs/c4-chatbot/lib/python3.10/site-packages (from notebook) (4.0.5)\n",
      "Requirement already satisfied: jupyter-server<3,>=2.4.0 in /Users/sagarshah/.pyenv/versions/3.10.7/envs/c4-chatbot/lib/python3.10/site-packages (from notebook) (2.7.3)\n",
      "Requirement already satisfied: jupyterlab-server<3,>=2.22.1 in /Users/sagarshah/.pyenv/versions/3.10.7/envs/c4-chatbot/lib/python3.10/site-packages (from notebook) (2.24.0)\n",
      "Requirement already satisfied: jupyter-server-terminals in /Users/sagarshah/.pyenv/versions/3.10.7/envs/c4-chatbot/lib/python3.10/site-packages (from jupyter-server<3,>=2.4.0->notebook) (0.4.4)\n",
      "Requirement already satisfied: nbconvert>=6.4.4 in /Users/sagarshah/.pyenv/versions/3.10.7/envs/c4-chatbot/lib/python3.10/site-packages (from jupyter-server<3,>=2.4.0->notebook) (7.8.0)\n",
      "Requirement already satisfied: prometheus-client in /Users/sagarshah/.pyenv/versions/3.10.7/envs/c4-chatbot/lib/python3.10/site-packages (from jupyter-server<3,>=2.4.0->notebook) (0.17.1)\n",
      "Requirement already satisfied: terminado>=0.8.3 in /Users/sagarshah/.pyenv/versions/3.10.7/envs/c4-chatbot/lib/python3.10/site-packages (from jupyter-server<3,>=2.4.0->notebook) (0.17.1)\n",
      "Requirement already satisfied: traitlets>=5.6.0 in /Users/sagarshah/.pyenv/versions/3.10.7/envs/c4-chatbot/lib/python3.10/site-packages (from jupyter-server<3,>=2.4.0->notebook) (5.9.0)\n",
      "Requirement already satisfied: anyio>=3.1.0 in /Users/sagarshah/.pyenv/versions/3.10.7/envs/c4-chatbot/lib/python3.10/site-packages (from jupyter-server<3,>=2.4.0->notebook) (4.0.0)\n",
      "Requirement already satisfied: overrides in /Users/sagarshah/.pyenv/versions/3.10.7/envs/c4-chatbot/lib/python3.10/site-packages (from jupyter-server<3,>=2.4.0->notebook) (7.4.0)\n",
      "Requirement already satisfied: jinja2 in /Users/sagarshah/.pyenv/versions/3.10.7/envs/c4-chatbot/lib/python3.10/site-packages (from jupyter-server<3,>=2.4.0->notebook) (3.1.2)\n",
      "Requirement already satisfied: pyzmq>=24 in /Users/sagarshah/.pyenv/versions/3.10.7/envs/c4-chatbot/lib/python3.10/site-packages (from jupyter-server<3,>=2.4.0->notebook) (25.1.1)\n",
      "Requirement already satisfied: argon2-cffi in /Users/sagarshah/.pyenv/versions/3.10.7/envs/c4-chatbot/lib/python3.10/site-packages (from jupyter-server<3,>=2.4.0->notebook) (23.1.0)\n",
      "Requirement already satisfied: packaging in /Users/sagarshah/.pyenv/versions/3.10.7/envs/c4-chatbot/lib/python3.10/site-packages (from jupyter-server<3,>=2.4.0->notebook) (23.1)\n",
      "Requirement already satisfied: websocket-client in /Users/sagarshah/.pyenv/versions/3.10.7/envs/c4-chatbot/lib/python3.10/site-packages (from jupyter-server<3,>=2.4.0->notebook) (1.6.2)\n",
      "Requirement already satisfied: send2trash>=1.8.2 in /Users/sagarshah/.pyenv/versions/3.10.7/envs/c4-chatbot/lib/python3.10/site-packages (from jupyter-server<3,>=2.4.0->notebook) (1.8.2)\n",
      "Requirement already satisfied: jupyter-core!=5.0.*,>=4.12 in /Users/sagarshah/.pyenv/versions/3.10.7/envs/c4-chatbot/lib/python3.10/site-packages (from jupyter-server<3,>=2.4.0->notebook) (5.3.1)\n",
      "Requirement already satisfied: jupyter-client>=7.4.4 in /Users/sagarshah/.pyenv/versions/3.10.7/envs/c4-chatbot/lib/python3.10/site-packages (from jupyter-server<3,>=2.4.0->notebook) (8.3.1)\n",
      "Requirement already satisfied: jupyter-events>=0.6.0 in /Users/sagarshah/.pyenv/versions/3.10.7/envs/c4-chatbot/lib/python3.10/site-packages (from jupyter-server<3,>=2.4.0->notebook) (0.7.0)\n",
      "Requirement already satisfied: nbformat>=5.3.0 in /Users/sagarshah/.pyenv/versions/3.10.7/envs/c4-chatbot/lib/python3.10/site-packages (from jupyter-server<3,>=2.4.0->notebook) (5.9.2)\n",
      "Requirement already satisfied: ipykernel in /Users/sagarshah/.pyenv/versions/3.10.7/envs/c4-chatbot/lib/python3.10/site-packages (from jupyterlab<5,>=4.0.2->notebook) (6.25.1)\n",
      "Requirement already satisfied: async-lru>=1.0.0 in /Users/sagarshah/.pyenv/versions/3.10.7/envs/c4-chatbot/lib/python3.10/site-packages (from jupyterlab<5,>=4.0.2->notebook) (2.0.4)\n",
      "Requirement already satisfied: tomli in /Users/sagarshah/.pyenv/versions/3.10.7/envs/c4-chatbot/lib/python3.10/site-packages (from jupyterlab<5,>=4.0.2->notebook) (2.0.1)\n",
      "Requirement already satisfied: jupyter-lsp>=2.0.0 in /Users/sagarshah/.pyenv/versions/3.10.7/envs/c4-chatbot/lib/python3.10/site-packages (from jupyterlab<5,>=4.0.2->notebook) (2.2.0)\n",
      "Requirement already satisfied: json5>=0.9.0 in /Users/sagarshah/.pyenv/versions/3.10.7/envs/c4-chatbot/lib/python3.10/site-packages (from jupyterlab-server<3,>=2.22.1->notebook) (0.9.14)\n",
      "Requirement already satisfied: babel>=2.10 in /Users/sagarshah/.pyenv/versions/3.10.7/envs/c4-chatbot/lib/python3.10/site-packages (from jupyterlab-server<3,>=2.22.1->notebook) (2.12.1)\n",
      "Requirement already satisfied: requests>=2.28 in /Users/sagarshah/.pyenv/versions/3.10.7/envs/c4-chatbot/lib/python3.10/site-packages (from jupyterlab-server<3,>=2.22.1->notebook) (2.31.0)\n",
      "Requirement already satisfied: jsonschema>=4.17.3 in /Users/sagarshah/.pyenv/versions/3.10.7/envs/c4-chatbot/lib/python3.10/site-packages (from jupyterlab-server<3,>=2.22.1->notebook) (4.19.0)\n",
      "Requirement already satisfied: exceptiongroup>=1.0.2 in /Users/sagarshah/.pyenv/versions/3.10.7/envs/c4-chatbot/lib/python3.10/site-packages (from anyio>=3.1.0->jupyter-server<3,>=2.4.0->notebook) (1.1.3)\n",
      "Requirement already satisfied: idna>=2.8 in /Users/sagarshah/.pyenv/versions/3.10.7/envs/c4-chatbot/lib/python3.10/site-packages (from anyio>=3.1.0->jupyter-server<3,>=2.4.0->notebook) (3.4)\n",
      "Requirement already satisfied: sniffio>=1.1 in /Users/sagarshah/.pyenv/versions/3.10.7/envs/c4-chatbot/lib/python3.10/site-packages (from anyio>=3.1.0->jupyter-server<3,>=2.4.0->notebook) (1.3.0)\n",
      "Requirement already satisfied: typing-extensions>=4.0.0 in /Users/sagarshah/.pyenv/versions/3.10.7/envs/c4-chatbot/lib/python3.10/site-packages (from async-lru>=1.0.0->jupyterlab<5,>=4.0.2->notebook) (4.7.1)\n",
      "Requirement already satisfied: MarkupSafe>=2.0 in /Users/sagarshah/.pyenv/versions/3.10.7/envs/c4-chatbot/lib/python3.10/site-packages (from jinja2->jupyter-server<3,>=2.4.0->notebook) (2.1.3)\n",
      "Requirement already satisfied: jsonschema-specifications>=2023.03.6 in /Users/sagarshah/.pyenv/versions/3.10.7/envs/c4-chatbot/lib/python3.10/site-packages (from jsonschema>=4.17.3->jupyterlab-server<3,>=2.22.1->notebook) (2023.7.1)\n",
      "Requirement already satisfied: referencing>=0.28.4 in /Users/sagarshah/.pyenv/versions/3.10.7/envs/c4-chatbot/lib/python3.10/site-packages (from jsonschema>=4.17.3->jupyterlab-server<3,>=2.22.1->notebook) (0.30.2)\n",
      "Requirement already satisfied: attrs>=22.2.0 in /Users/sagarshah/.pyenv/versions/3.10.7/envs/c4-chatbot/lib/python3.10/site-packages (from jsonschema>=4.17.3->jupyterlab-server<3,>=2.22.1->notebook) (23.1.0)\n",
      "Requirement already satisfied: rpds-py>=0.7.1 in /Users/sagarshah/.pyenv/versions/3.10.7/envs/c4-chatbot/lib/python3.10/site-packages (from jsonschema>=4.17.3->jupyterlab-server<3,>=2.22.1->notebook) (0.10.2)\n",
      "Requirement already satisfied: python-dateutil>=2.8.2 in /Users/sagarshah/.pyenv/versions/3.10.7/envs/c4-chatbot/lib/python3.10/site-packages (from jupyter-client>=7.4.4->jupyter-server<3,>=2.4.0->notebook) (2.8.2)\n",
      "Requirement already satisfied: platformdirs>=2.5 in /Users/sagarshah/.pyenv/versions/3.10.7/envs/c4-chatbot/lib/python3.10/site-packages (from jupyter-core!=5.0.*,>=4.12->jupyter-server<3,>=2.4.0->notebook) (3.10.0)\n",
      "Requirement already satisfied: rfc3986-validator>=0.1.1 in /Users/sagarshah/.pyenv/versions/3.10.7/envs/c4-chatbot/lib/python3.10/site-packages (from jupyter-events>=0.6.0->jupyter-server<3,>=2.4.0->notebook) (0.1.1)\n",
      "Requirement already satisfied: pyyaml>=5.3 in /Users/sagarshah/.pyenv/versions/3.10.7/envs/c4-chatbot/lib/python3.10/site-packages (from jupyter-events>=0.6.0->jupyter-server<3,>=2.4.0->notebook) (6.0.1)\n",
      "Requirement already satisfied: python-json-logger>=2.0.4 in /Users/sagarshah/.pyenv/versions/3.10.7/envs/c4-chatbot/lib/python3.10/site-packages (from jupyter-events>=0.6.0->jupyter-server<3,>=2.4.0->notebook) (2.0.7)\n",
      "Requirement already satisfied: rfc3339-validator in /Users/sagarshah/.pyenv/versions/3.10.7/envs/c4-chatbot/lib/python3.10/site-packages (from jupyter-events>=0.6.0->jupyter-server<3,>=2.4.0->notebook) (0.1.4)\n",
      "Requirement already satisfied: defusedxml in /Users/sagarshah/.pyenv/versions/3.10.7/envs/c4-chatbot/lib/python3.10/site-packages (from nbconvert>=6.4.4->jupyter-server<3,>=2.4.0->notebook) (0.7.1)\n",
      "Requirement already satisfied: bleach!=5.0.0 in /Users/sagarshah/.pyenv/versions/3.10.7/envs/c4-chatbot/lib/python3.10/site-packages (from nbconvert>=6.4.4->jupyter-server<3,>=2.4.0->notebook) (6.0.0)\n",
      "Requirement already satisfied: pandocfilters>=1.4.1 in /Users/sagarshah/.pyenv/versions/3.10.7/envs/c4-chatbot/lib/python3.10/site-packages (from nbconvert>=6.4.4->jupyter-server<3,>=2.4.0->notebook) (1.5.0)\n",
      "Requirement already satisfied: nbclient>=0.5.0 in /Users/sagarshah/.pyenv/versions/3.10.7/envs/c4-chatbot/lib/python3.10/site-packages (from nbconvert>=6.4.4->jupyter-server<3,>=2.4.0->notebook) (0.8.0)\n",
      "Requirement already satisfied: tinycss2 in /Users/sagarshah/.pyenv/versions/3.10.7/envs/c4-chatbot/lib/python3.10/site-packages (from nbconvert>=6.4.4->jupyter-server<3,>=2.4.0->notebook) (1.2.1)\n",
      "Requirement already satisfied: pygments>=2.4.1 in /Users/sagarshah/.pyenv/versions/3.10.7/envs/c4-chatbot/lib/python3.10/site-packages (from nbconvert>=6.4.4->jupyter-server<3,>=2.4.0->notebook) (2.16.1)\n",
      "Requirement already satisfied: beautifulsoup4 in /Users/sagarshah/.pyenv/versions/3.10.7/envs/c4-chatbot/lib/python3.10/site-packages (from nbconvert>=6.4.4->jupyter-server<3,>=2.4.0->notebook) (4.12.2)\n",
      "Requirement already satisfied: mistune<4,>=2.0.3 in /Users/sagarshah/.pyenv/versions/3.10.7/envs/c4-chatbot/lib/python3.10/site-packages (from nbconvert>=6.4.4->jupyter-server<3,>=2.4.0->notebook) (3.0.1)\n",
      "Requirement already satisfied: jupyterlab-pygments in /Users/sagarshah/.pyenv/versions/3.10.7/envs/c4-chatbot/lib/python3.10/site-packages (from nbconvert>=6.4.4->jupyter-server<3,>=2.4.0->notebook) (0.2.2)\n",
      "Requirement already satisfied: fastjsonschema in /Users/sagarshah/.pyenv/versions/3.10.7/envs/c4-chatbot/lib/python3.10/site-packages (from nbformat>=5.3.0->jupyter-server<3,>=2.4.0->notebook) (2.18.0)\n",
      "Requirement already satisfied: certifi>=2017.4.17 in /Users/sagarshah/.pyenv/versions/3.10.7/envs/c4-chatbot/lib/python3.10/site-packages (from requests>=2.28->jupyterlab-server<3,>=2.22.1->notebook) (2023.7.22)\n",
      "Requirement already satisfied: urllib3<3,>=1.21.1 in /Users/sagarshah/.pyenv/versions/3.10.7/envs/c4-chatbot/lib/python3.10/site-packages (from requests>=2.28->jupyterlab-server<3,>=2.22.1->notebook) (2.0.4)\n",
      "Requirement already satisfied: charset-normalizer<4,>=2 in /Users/sagarshah/.pyenv/versions/3.10.7/envs/c4-chatbot/lib/python3.10/site-packages (from requests>=2.28->jupyterlab-server<3,>=2.22.1->notebook) (3.2.0)\n",
      "Requirement already satisfied: ptyprocess in /Users/sagarshah/.pyenv/versions/3.10.7/envs/c4-chatbot/lib/python3.10/site-packages (from terminado>=0.8.3->jupyter-server<3,>=2.4.0->notebook) (0.7.0)\n",
      "Requirement already satisfied: argon2-cffi-bindings in /Users/sagarshah/.pyenv/versions/3.10.7/envs/c4-chatbot/lib/python3.10/site-packages (from argon2-cffi->jupyter-server<3,>=2.4.0->notebook) (21.2.0)\n",
      "Requirement already satisfied: debugpy>=1.6.5 in /Users/sagarshah/.pyenv/versions/3.10.7/envs/c4-chatbot/lib/python3.10/site-packages (from ipykernel->jupyterlab<5,>=4.0.2->notebook) (1.6.7.post1)\n",
      "Requirement already satisfied: ipython>=7.23.1 in /Users/sagarshah/.pyenv/versions/3.10.7/envs/c4-chatbot/lib/python3.10/site-packages (from ipykernel->jupyterlab<5,>=4.0.2->notebook) (8.14.0)\n",
      "Requirement already satisfied: matplotlib-inline>=0.1 in /Users/sagarshah/.pyenv/versions/3.10.7/envs/c4-chatbot/lib/python3.10/site-packages (from ipykernel->jupyterlab<5,>=4.0.2->notebook) (0.1.6)\n",
      "Requirement already satisfied: appnope in /Users/sagarshah/.pyenv/versions/3.10.7/envs/c4-chatbot/lib/python3.10/site-packages (from ipykernel->jupyterlab<5,>=4.0.2->notebook) (0.1.3)\n",
      "Requirement already satisfied: nest-asyncio in /Users/sagarshah/.pyenv/versions/3.10.7/envs/c4-chatbot/lib/python3.10/site-packages (from ipykernel->jupyterlab<5,>=4.0.2->notebook) (1.5.7)\n",
      "Requirement already satisfied: comm>=0.1.1 in /Users/sagarshah/.pyenv/versions/3.10.7/envs/c4-chatbot/lib/python3.10/site-packages (from ipykernel->jupyterlab<5,>=4.0.2->notebook) (0.1.4)\n",
      "Requirement already satisfied: psutil in /Users/sagarshah/.pyenv/versions/3.10.7/envs/c4-chatbot/lib/python3.10/site-packages (from ipykernel->jupyterlab<5,>=4.0.2->notebook) (5.9.5)\n",
      "Requirement already satisfied: webencodings in /Users/sagarshah/.pyenv/versions/3.10.7/envs/c4-chatbot/lib/python3.10/site-packages (from bleach!=5.0.0->nbconvert>=6.4.4->jupyter-server<3,>=2.4.0->notebook) (0.5.1)\n",
      "Requirement already satisfied: six>=1.9.0 in /Users/sagarshah/.pyenv/versions/3.10.7/envs/c4-chatbot/lib/python3.10/site-packages (from bleach!=5.0.0->nbconvert>=6.4.4->jupyter-server<3,>=2.4.0->notebook) (1.16.0)\n",
      "Requirement already satisfied: pexpect>4.3 in /Users/sagarshah/.pyenv/versions/3.10.7/envs/c4-chatbot/lib/python3.10/site-packages (from ipython>=7.23.1->ipykernel->jupyterlab<5,>=4.0.2->notebook) (4.8.0)\n",
      "Requirement already satisfied: decorator in /Users/sagarshah/.pyenv/versions/3.10.7/envs/c4-chatbot/lib/python3.10/site-packages (from ipython>=7.23.1->ipykernel->jupyterlab<5,>=4.0.2->notebook) (5.1.1)\n",
      "Requirement already satisfied: pickleshare in /Users/sagarshah/.pyenv/versions/3.10.7/envs/c4-chatbot/lib/python3.10/site-packages (from ipython>=7.23.1->ipykernel->jupyterlab<5,>=4.0.2->notebook) (0.7.5)\n",
      "Requirement already satisfied: prompt-toolkit!=3.0.37,<3.1.0,>=3.0.30 in /Users/sagarshah/.pyenv/versions/3.10.7/envs/c4-chatbot/lib/python3.10/site-packages (from ipython>=7.23.1->ipykernel->jupyterlab<5,>=4.0.2->notebook) (3.0.39)\n",
      "Requirement already satisfied: backcall in /Users/sagarshah/.pyenv/versions/3.10.7/envs/c4-chatbot/lib/python3.10/site-packages (from ipython>=7.23.1->ipykernel->jupyterlab<5,>=4.0.2->notebook) (0.2.0)\n",
      "Requirement already satisfied: jedi>=0.16 in /Users/sagarshah/.pyenv/versions/3.10.7/envs/c4-chatbot/lib/python3.10/site-packages (from ipython>=7.23.1->ipykernel->jupyterlab<5,>=4.0.2->notebook) (0.19.0)\n",
      "Requirement already satisfied: stack-data in /Users/sagarshah/.pyenv/versions/3.10.7/envs/c4-chatbot/lib/python3.10/site-packages (from ipython>=7.23.1->ipykernel->jupyterlab<5,>=4.0.2->notebook) (0.6.2)\n",
      "Requirement already satisfied: jsonpointer>1.13 in /Users/sagarshah/.pyenv/versions/3.10.7/envs/c4-chatbot/lib/python3.10/site-packages (from jsonschema>=4.17.3->jupyterlab-server<3,>=2.22.1->notebook) (2.4)\n",
      "Requirement already satisfied: isoduration in /Users/sagarshah/.pyenv/versions/3.10.7/envs/c4-chatbot/lib/python3.10/site-packages (from jsonschema>=4.17.3->jupyterlab-server<3,>=2.22.1->notebook) (20.11.0)\n",
      "Requirement already satisfied: fqdn in /Users/sagarshah/.pyenv/versions/3.10.7/envs/c4-chatbot/lib/python3.10/site-packages (from jsonschema>=4.17.3->jupyterlab-server<3,>=2.22.1->notebook) (1.5.1)\n",
      "Requirement already satisfied: uri-template in /Users/sagarshah/.pyenv/versions/3.10.7/envs/c4-chatbot/lib/python3.10/site-packages (from jsonschema>=4.17.3->jupyterlab-server<3,>=2.22.1->notebook) (1.3.0)\n",
      "Requirement already satisfied: webcolors>=1.11 in /Users/sagarshah/.pyenv/versions/3.10.7/envs/c4-chatbot/lib/python3.10/site-packages (from jsonschema>=4.17.3->jupyterlab-server<3,>=2.22.1->notebook) (1.13)\n",
      "Requirement already satisfied: cffi>=1.0.1 in /Users/sagarshah/.pyenv/versions/3.10.7/envs/c4-chatbot/lib/python3.10/site-packages (from argon2-cffi-bindings->argon2-cffi->jupyter-server<3,>=2.4.0->notebook) (1.15.1)\n",
      "Requirement already satisfied: soupsieve>1.2 in /Users/sagarshah/.pyenv/versions/3.10.7/envs/c4-chatbot/lib/python3.10/site-packages (from beautifulsoup4->nbconvert>=6.4.4->jupyter-server<3,>=2.4.0->notebook) (2.4.1)\n",
      "Requirement already satisfied: pycparser in /Users/sagarshah/.pyenv/versions/3.10.7/envs/c4-chatbot/lib/python3.10/site-packages (from cffi>=1.0.1->argon2-cffi-bindings->argon2-cffi->jupyter-server<3,>=2.4.0->notebook) (2.21)\n",
      "Requirement already satisfied: parso<0.9.0,>=0.8.3 in /Users/sagarshah/.pyenv/versions/3.10.7/envs/c4-chatbot/lib/python3.10/site-packages (from jedi>=0.16->ipython>=7.23.1->ipykernel->jupyterlab<5,>=4.0.2->notebook) (0.8.3)\n",
      "Requirement already satisfied: wcwidth in /Users/sagarshah/.pyenv/versions/3.10.7/envs/c4-chatbot/lib/python3.10/site-packages (from prompt-toolkit!=3.0.37,<3.1.0,>=3.0.30->ipython>=7.23.1->ipykernel->jupyterlab<5,>=4.0.2->notebook) (0.2.6)\n",
      "Requirement already satisfied: arrow>=0.15.0 in /Users/sagarshah/.pyenv/versions/3.10.7/envs/c4-chatbot/lib/python3.10/site-packages (from isoduration->jsonschema>=4.17.3->jupyterlab-server<3,>=2.22.1->notebook) (1.2.3)\n",
      "Requirement already satisfied: asttokens>=2.1.0 in /Users/sagarshah/.pyenv/versions/3.10.7/envs/c4-chatbot/lib/python3.10/site-packages (from stack-data->ipython>=7.23.1->ipykernel->jupyterlab<5,>=4.0.2->notebook) (2.2.1)\n",
      "Requirement already satisfied: executing>=1.2.0 in /Users/sagarshah/.pyenv/versions/3.10.7/envs/c4-chatbot/lib/python3.10/site-packages (from stack-data->ipython>=7.23.1->ipykernel->jupyterlab<5,>=4.0.2->notebook) (1.2.0)\n",
      "Requirement already satisfied: pure-eval in /Users/sagarshah/.pyenv/versions/3.10.7/envs/c4-chatbot/lib/python3.10/site-packages (from stack-data->ipython>=7.23.1->ipykernel->jupyterlab<5,>=4.0.2->notebook) (0.2.2)\n",
      "\n",
      "\u001b[1m[\u001b[0m\u001b[34;49mnotice\u001b[0m\u001b[1;39;49m]\u001b[0m\u001b[39;49m A new release of pip available: \u001b[0m\u001b[31;49m22.2.2\u001b[0m\u001b[39;49m -> \u001b[0m\u001b[32;49m23.2.1\u001b[0m\n",
      "\u001b[1m[\u001b[0m\u001b[34;49mnotice\u001b[0m\u001b[1;39;49m]\u001b[0m\u001b[39;49m To update, run: \u001b[0m\u001b[32;49mpip install --upgrade pip\u001b[0m\n",
      "Requirement already satisfied: chromadb in /Users/sagarshah/.pyenv/versions/3.10.7/envs/c4-chatbot/lib/python3.10/site-packages (0.4.8)\n",
      "Requirement already satisfied: pypika>=0.48.9 in /Users/sagarshah/.pyenv/versions/3.10.7/envs/c4-chatbot/lib/python3.10/site-packages (from chromadb) (0.48.9)\n",
      "Requirement already satisfied: bcrypt>=4.0.1 in /Users/sagarshah/.pyenv/versions/3.10.7/envs/c4-chatbot/lib/python3.10/site-packages (from chromadb) (4.0.1)\n",
      "Requirement already satisfied: posthog>=2.4.0 in /Users/sagarshah/.pyenv/versions/3.10.7/envs/c4-chatbot/lib/python3.10/site-packages (from chromadb) (3.0.2)\n",
      "Collecting tqdm>=4.65.0\n",
      "  Using cached tqdm-4.66.1-py3-none-any.whl (78 kB)\n",
      "Requirement already satisfied: chroma-hnswlib==0.7.2 in /Users/sagarshah/.pyenv/versions/3.10.7/envs/c4-chatbot/lib/python3.10/site-packages (from chromadb) (0.7.2)\n",
      "Requirement already satisfied: numpy>=1.21.6 in /Users/sagarshah/.pyenv/versions/3.10.7/envs/c4-chatbot/lib/python3.10/site-packages (from chromadb) (1.25.2)\n",
      "Requirement already satisfied: overrides>=7.3.1 in /Users/sagarshah/.pyenv/versions/3.10.7/envs/c4-chatbot/lib/python3.10/site-packages (from chromadb) (7.4.0)\n",
      "Requirement already satisfied: requests>=2.28 in /Users/sagarshah/.pyenv/versions/3.10.7/envs/c4-chatbot/lib/python3.10/site-packages (from chromadb) (2.31.0)\n",
      "Requirement already satisfied: tokenizers>=0.13.2 in /Users/sagarshah/.pyenv/versions/3.10.7/envs/c4-chatbot/lib/python3.10/site-packages (from chromadb) (0.13.3)\n",
      "Requirement already satisfied: importlib-resources in /Users/sagarshah/.pyenv/versions/3.10.7/envs/c4-chatbot/lib/python3.10/site-packages (from chromadb) (6.0.1)\n",
      "Requirement already satisfied: onnxruntime>=1.14.1 in /Users/sagarshah/.pyenv/versions/3.10.7/envs/c4-chatbot/lib/python3.10/site-packages (from chromadb) (1.15.1)\n",
      "Requirement already satisfied: pydantic<2.0,>=1.9 in /Users/sagarshah/.pyenv/versions/3.10.7/envs/c4-chatbot/lib/python3.10/site-packages (from chromadb) (1.10.12)\n",
      "Requirement already satisfied: typing-extensions>=4.5.0 in /Users/sagarshah/.pyenv/versions/3.10.7/envs/c4-chatbot/lib/python3.10/site-packages (from chromadb) (4.7.1)\n",
      "Requirement already satisfied: fastapi<0.100.0,>=0.95.2 in /Users/sagarshah/.pyenv/versions/3.10.7/envs/c4-chatbot/lib/python3.10/site-packages (from chromadb) (0.99.1)\n",
      "Requirement already satisfied: uvicorn[standard]>=0.18.3 in /Users/sagarshah/.pyenv/versions/3.10.7/envs/c4-chatbot/lib/python3.10/site-packages (from chromadb) (0.23.2)\n",
      "Requirement already satisfied: pulsar-client>=3.1.0 in /Users/sagarshah/.pyenv/versions/3.10.7/envs/c4-chatbot/lib/python3.10/site-packages (from chromadb) (3.3.0)\n",
      "Requirement already satisfied: starlette<0.28.0,>=0.27.0 in /Users/sagarshah/.pyenv/versions/3.10.7/envs/c4-chatbot/lib/python3.10/site-packages (from fastapi<0.100.0,>=0.95.2->chromadb) (0.27.0)\n",
      "Requirement already satisfied: protobuf in /Users/sagarshah/.pyenv/versions/3.10.7/envs/c4-chatbot/lib/python3.10/site-packages (from onnxruntime>=1.14.1->chromadb) (4.24.2)\n",
      "Requirement already satisfied: packaging in /Users/sagarshah/.pyenv/versions/3.10.7/envs/c4-chatbot/lib/python3.10/site-packages (from onnxruntime>=1.14.1->chromadb) (23.1)\n",
      "Requirement already satisfied: sympy in /Users/sagarshah/.pyenv/versions/3.10.7/envs/c4-chatbot/lib/python3.10/site-packages (from onnxruntime>=1.14.1->chromadb) (1.12)\n",
      "Requirement already satisfied: flatbuffers in /Users/sagarshah/.pyenv/versions/3.10.7/envs/c4-chatbot/lib/python3.10/site-packages (from onnxruntime>=1.14.1->chromadb) (23.5.26)\n",
      "Requirement already satisfied: coloredlogs in /Users/sagarshah/.pyenv/versions/3.10.7/envs/c4-chatbot/lib/python3.10/site-packages (from onnxruntime>=1.14.1->chromadb) (15.0.1)\n",
      "Requirement already satisfied: six>=1.5 in /Users/sagarshah/.pyenv/versions/3.10.7/envs/c4-chatbot/lib/python3.10/site-packages (from posthog>=2.4.0->chromadb) (1.16.0)\n",
      "Requirement already satisfied: backoff>=1.10.0 in /Users/sagarshah/.pyenv/versions/3.10.7/envs/c4-chatbot/lib/python3.10/site-packages (from posthog>=2.4.0->chromadb) (2.2.1)\n",
      "Requirement already satisfied: monotonic>=1.5 in /Users/sagarshah/.pyenv/versions/3.10.7/envs/c4-chatbot/lib/python3.10/site-packages (from posthog>=2.4.0->chromadb) (1.6)\n",
      "Requirement already satisfied: python-dateutil>2.1 in /Users/sagarshah/.pyenv/versions/3.10.7/envs/c4-chatbot/lib/python3.10/site-packages (from posthog>=2.4.0->chromadb) (2.8.2)\n",
      "Requirement already satisfied: certifi in /Users/sagarshah/.pyenv/versions/3.10.7/envs/c4-chatbot/lib/python3.10/site-packages (from pulsar-client>=3.1.0->chromadb) (2023.7.22)\n",
      "Requirement already satisfied: idna<4,>=2.5 in /Users/sagarshah/.pyenv/versions/3.10.7/envs/c4-chatbot/lib/python3.10/site-packages (from requests>=2.28->chromadb) (3.4)\n",
      "Requirement already satisfied: charset-normalizer<4,>=2 in /Users/sagarshah/.pyenv/versions/3.10.7/envs/c4-chatbot/lib/python3.10/site-packages (from requests>=2.28->chromadb) (3.2.0)\n",
      "Requirement already satisfied: urllib3<3,>=1.21.1 in /Users/sagarshah/.pyenv/versions/3.10.7/envs/c4-chatbot/lib/python3.10/site-packages (from requests>=2.28->chromadb) (2.0.4)\n",
      "Requirement already satisfied: h11>=0.8 in /Users/sagarshah/.pyenv/versions/3.10.7/envs/c4-chatbot/lib/python3.10/site-packages (from uvicorn[standard]>=0.18.3->chromadb) (0.14.0)\n",
      "Requirement already satisfied: click>=7.0 in /Users/sagarshah/.pyenv/versions/3.10.7/envs/c4-chatbot/lib/python3.10/site-packages (from uvicorn[standard]>=0.18.3->chromadb) (8.1.7)\n",
      "Requirement already satisfied: httptools>=0.5.0 in /Users/sagarshah/.pyenv/versions/3.10.7/envs/c4-chatbot/lib/python3.10/site-packages (from uvicorn[standard]>=0.18.3->chromadb) (0.6.0)\n",
      "Requirement already satisfied: websockets>=10.4 in /Users/sagarshah/.pyenv/versions/3.10.7/envs/c4-chatbot/lib/python3.10/site-packages (from uvicorn[standard]>=0.18.3->chromadb) (11.0.3)\n",
      "Requirement already satisfied: watchfiles>=0.13 in /Users/sagarshah/.pyenv/versions/3.10.7/envs/c4-chatbot/lib/python3.10/site-packages (from uvicorn[standard]>=0.18.3->chromadb) (0.20.0)\n",
      "Requirement already satisfied: pyyaml>=5.1 in /Users/sagarshah/.pyenv/versions/3.10.7/envs/c4-chatbot/lib/python3.10/site-packages (from uvicorn[standard]>=0.18.3->chromadb) (6.0.1)\n",
      "Requirement already satisfied: python-dotenv>=0.13 in /Users/sagarshah/.pyenv/versions/3.10.7/envs/c4-chatbot/lib/python3.10/site-packages (from uvicorn[standard]>=0.18.3->chromadb) (1.0.0)\n",
      "Requirement already satisfied: uvloop!=0.15.0,!=0.15.1,>=0.14.0 in /Users/sagarshah/.pyenv/versions/3.10.7/envs/c4-chatbot/lib/python3.10/site-packages (from uvicorn[standard]>=0.18.3->chromadb) (0.17.0)\n",
      "Requirement already satisfied: anyio<5,>=3.4.0 in /Users/sagarshah/.pyenv/versions/3.10.7/envs/c4-chatbot/lib/python3.10/site-packages (from starlette<0.28.0,>=0.27.0->fastapi<0.100.0,>=0.95.2->chromadb) (4.0.0)\n",
      "Requirement already satisfied: humanfriendly>=9.1 in /Users/sagarshah/.pyenv/versions/3.10.7/envs/c4-chatbot/lib/python3.10/site-packages (from coloredlogs->onnxruntime>=1.14.1->chromadb) (10.0)\n",
      "Requirement already satisfied: mpmath>=0.19 in /Users/sagarshah/.pyenv/versions/3.10.7/envs/c4-chatbot/lib/python3.10/site-packages (from sympy->onnxruntime>=1.14.1->chromadb) (1.3.0)\n",
      "Requirement already satisfied: sniffio>=1.1 in /Users/sagarshah/.pyenv/versions/3.10.7/envs/c4-chatbot/lib/python3.10/site-packages (from anyio<5,>=3.4.0->starlette<0.28.0,>=0.27.0->fastapi<0.100.0,>=0.95.2->chromadb) (1.3.0)\n",
      "Requirement already satisfied: exceptiongroup>=1.0.2 in /Users/sagarshah/.pyenv/versions/3.10.7/envs/c4-chatbot/lib/python3.10/site-packages (from anyio<5,>=3.4.0->starlette<0.28.0,>=0.27.0->fastapi<0.100.0,>=0.95.2->chromadb) (1.1.3)\n",
      "Installing collected packages: tqdm\n",
      "  Attempting uninstall: tqdm\n",
      "    Found existing installation: tqdm 4.64.1\n",
      "    Uninstalling tqdm-4.64.1:\n",
      "      Successfully uninstalled tqdm-4.64.1\n",
      "\u001b[31mERROR: pip's dependency resolver does not currently take into account all the packages that are installed. This behaviour is the source of the following dependency conflicts.\n",
      "clarifai 9.7.6 requires tqdm==4.64.1, but you have tqdm 4.66.1 which is incompatible.\u001b[0m\u001b[31m\n",
      "\u001b[0mSuccessfully installed tqdm-4.66.1\n",
      "\n",
      "\u001b[1m[\u001b[0m\u001b[34;49mnotice\u001b[0m\u001b[1;39;49m]\u001b[0m\u001b[39;49m A new release of pip available: \u001b[0m\u001b[31;49m22.2.2\u001b[0m\u001b[39;49m -> \u001b[0m\u001b[32;49m23.2.1\u001b[0m\n",
      "\u001b[1m[\u001b[0m\u001b[34;49mnotice\u001b[0m\u001b[1;39;49m]\u001b[0m\u001b[39;49m To update, run: \u001b[0m\u001b[32;49mpip install --upgrade pip\u001b[0m\n"
     ]
    }
   ],
   "source": [
    "# Install all the third-party packages\n",
    "\n",
    "!pip install 'langchain[llms]'\n",
    "!pip install Scrapy\n",
    "!pip install html2text\n",
    "!pip install lxml\n",
    "!pip install python-dotenv\n",
    "!pip install \"unstructured[all-docs]\"\n",
    "!pip install tiktoken\n",
    "!pip install faiss-cpu \n",
    "!pip install GitPython\n",
    "!pip install notebook\n",
    "!pip install chromadb"
   ]
  },
  {
   "cell_type": "code",
   "execution_count": 17,
   "metadata": {},
   "outputs": [
    {
     "data": {
      "text/plain": [
       "True"
      ]
     },
     "execution_count": 17,
     "metadata": {},
     "output_type": "execute_result"
    }
   ],
   "source": [
    "# General setup - you can specify OPENAI_API_KEY in .env file\n",
    "\n",
    "import logging\n",
    "from dotenv import load_dotenv\n",
    "from IPython.display import display, Markdown, Latex\n",
    "\n",
    "logging.getLogger().setLevel(logging.INFO)\n",
    "load_dotenv()"
   ]
  },
  {
   "cell_type": "code",
   "execution_count": null,
   "metadata": {},
   "outputs": [],
   "source": [
    "import getpass\n",
    "import os\n",
    "\n",
    "OPENAI_API_KEY = os.environ.get('OPENAI_API_KEY') or getpass.getpass('Enter your OpenAI API key: ')\n",
    "\n",
    "assert OPENAI_API_KEY, \"Please set OPENAI_API_KEY in your environment variables\""
   ]
  },
  {
   "cell_type": "markdown",
   "metadata": {},
   "source": [
    "### Crawling and Scraping using Scrapy"
   ]
  },
  {
   "cell_type": "code",
   "execution_count": null,
   "metadata": {},
   "outputs": [],
   "source": [
    "import os\n",
    "import scrapy\n",
    "import html2text\n",
    "import lxml.html\n",
    "import json\n",
    "from urllib.parse import urlparse\n",
    "\n",
    "C4_WEBSITE_STORAGE_DIR = \"knowledge_base/c4/website\"\n",
    "C4_DOCS_STORAGE_DIR = \"knowledge_base/c4/docs\"\n",
    "\n",
    "class GenericSpider(scrapy.Spider):\n",
    "    name = 'generic'\n",
    "\n",
    "    def __init__(self, domain='', storage_dir='.', *args, **kwargs):\n",
    "        super(GenericSpider, self).__init__(*args, **kwargs)\n",
    "        self.allowed_domains = [domain]\n",
    "        self.start_urls = [f'http://{domain}/']\n",
    "        self.storage_dir = storage_dir\n",
    "    \n",
    "    def parse(self, response):\n",
    "        # Remove unwanted elements using lxml\n",
    "        tree = lxml.html.fromstring(response.text)\n",
    "        \n",
    "        # Remove non-text related tags\n",
    "        for unwanted in tree.xpath('//script|//img|//video|//audio|//iframe|//object|//embed|//canvas|//svg|//link|//source|//track|//map|//area'):\n",
    "            unwanted.drop_tree()\n",
    "\n",
    "        cleaned_html = lxml.html.tostring(tree).decode('utf-8')\n",
    "\n",
    "        # Convert HTML to Markdown\n",
    "        converter = html2text.HTML2Text()\n",
    "        markdown_text = converter.handle(cleaned_html)\n",
    "\n",
    "        # Save to a markdown file in the specified directory\n",
    "        if not os.path.exists(self.storage_dir):\n",
    "            os.makedirs(self.storage_dir)\n",
    "\n",
    "        url = response.url\n",
    "        page_name = response.url.split(\"/\")[-1] if response.url.split(\"/\")[-1] else \"index\"\n",
    "\n",
    "        filename = os.path.join(self.storage_dir, f'{page_name}.json')\n",
    "\n",
    "        with open(filename, 'w') as f:\n",
    "            # Store the URL and markdown text in JSON format\n",
    "            json.dump({'url': url, 'md_content': markdown_text}, f)\n",
    "\n",
    "        # Recursively follow relative links to other pages on the same domain\n",
    "        for href in response.css('a::attr(href)').getall():\n",
    "            url = response.urljoin(href)\n",
    "            if urlparse(url).netloc in self.allowed_domains:\n",
    "                yield scrapy.Request(url, self.parse)\n"
   ]
  },
  {
   "cell_type": "markdown",
   "metadata": {},
   "source": [
    "NOTE: Data has already been scraped and saved locally as JSON files in the 'knowledge_base/c4' directory. To re-run the scraping, uncomment the code in the cell below.\n",
    "\n",
    "On re-running the crawler, if you get 'ReactorNotRestartable' error, the notebook kernel would need to be restarted."
   ]
  },
  {
   "cell_type": "code",
   "execution_count": null,
   "metadata": {},
   "outputs": [],
   "source": [
    "# from scrapy.crawler import CrawlerRunner\n",
    "# from scrapy.utils.project import get_project_settings\n",
    "# from twisted.internet import reactor\n",
    "\n",
    "# settings = get_project_settings()\n",
    "\n",
    "# runner = CrawlerRunner(settings)\n",
    "# runner.crawl(GenericSpider, domain=\"code4rena.com\", storage_dir=C4_WEBSITE_STORAGE_DIR)\n",
    "# runner.crawl(GenericSpider, domain=\"docs.code4rena.com\", storage_dir=C4_DOCS_STORAGE_DIR)\n",
    "# d = runner.join()\n",
    "# d.addBoth(lambda _: reactor.stop())\n",
    "# reactor.run()"
   ]
  },
  {
   "cell_type": "markdown",
   "metadata": {},
   "source": [
    "### Retrieval Augmented Generation using LangChain"
   ]
  },
  {
   "cell_type": "markdown",
   "metadata": {},
   "source": [
    "#### Load locally saved scraped data"
   ]
  },
  {
   "cell_type": "code",
   "execution_count": 8,
   "metadata": {},
   "outputs": [],
   "source": [
    "import json\n",
    "from langchain.document_loaders import DirectoryLoader\n",
    "from langchain.document_loaders import TextLoader\n",
    "\n",
    "def load_json_files(dir):\n",
    "    loader = DirectoryLoader(dir, loader_cls=TextLoader)\n",
    "    documents = loader.load()\n",
    "    for d in documents:\n",
    "        page_content_dict = json.loads(d.page_content)\n",
    "        d.page_content = page_content_dict['md_content']\n",
    "        d.metadata['url'] = page_content_dict['url']\n",
    "    return documents\n",
    "\n",
    "c4_website_data_list = load_json_files(C4_WEBSITE_STORAGE_DIR)\n",
    "c4_docs_data_list = load_json_files(C4_DOCS_STORAGE_DIR)"
   ]
  },
  {
   "cell_type": "markdown",
   "metadata": {},
   "source": [
    "#### Split the markdown content into semantic chunks"
   ]
  },
  {
   "cell_type": "code",
   "execution_count": 10,
   "metadata": {},
   "outputs": [
    {
     "name": "stdout",
     "output_type": "stream",
     "text": [
      "89\n",
      "97\n"
     ]
    }
   ],
   "source": [
    "from langchain.text_splitter import (\n",
    "    RecursiveCharacterTextSplitter,\n",
    "    Language,\n",
    ")\n",
    "\n",
    "md_splitter = RecursiveCharacterTextSplitter.from_language(\n",
    "    language=Language.MARKDOWN, chunk_size=2000, chunk_overlap=200\n",
    ")\n",
    "\n",
    "\n",
    "website_chunks =  md_splitter.split_documents(c4_website_data_list)\n",
    "docs_chunks =  md_splitter.split_documents(c4_docs_data_list)\n",
    "\n",
    "print(len(website_chunks))\n",
    "print(len(docs_chunks))"
   ]
  },
  {
   "cell_type": "markdown",
   "metadata": {},
   "source": [
    "#### Embed the semantic chunks and store in an in-memory vector db"
   ]
  },
  {
   "cell_type": "code",
   "execution_count": 14,
   "metadata": {},
   "outputs": [
    {
     "data": {
      "text/plain": [
       "['d906998a-4b75-11ee-80c1-367dda1ae1c5',\n",
       " 'd9069ab6-4b75-11ee-80c1-367dda1ae1c5',\n",
       " 'd9069b10-4b75-11ee-80c1-367dda1ae1c5',\n",
       " 'd9069b42-4b75-11ee-80c1-367dda1ae1c5',\n",
       " 'd9069b7e-4b75-11ee-80c1-367dda1ae1c5',\n",
       " 'd9069bb0-4b75-11ee-80c1-367dda1ae1c5',\n",
       " 'd9069be2-4b75-11ee-80c1-367dda1ae1c5',\n",
       " 'd9069c14-4b75-11ee-80c1-367dda1ae1c5',\n",
       " 'd9069c46-4b75-11ee-80c1-367dda1ae1c5',\n",
       " 'd9069c78-4b75-11ee-80c1-367dda1ae1c5',\n",
       " 'd9069caa-4b75-11ee-80c1-367dda1ae1c5',\n",
       " 'd9069cd2-4b75-11ee-80c1-367dda1ae1c5',\n",
       " 'd9069d04-4b75-11ee-80c1-367dda1ae1c5',\n",
       " 'd9069d36-4b75-11ee-80c1-367dda1ae1c5',\n",
       " 'd9069d68-4b75-11ee-80c1-367dda1ae1c5',\n",
       " 'd9069d9a-4b75-11ee-80c1-367dda1ae1c5',\n",
       " 'd9069dc2-4b75-11ee-80c1-367dda1ae1c5',\n",
       " 'd9069df4-4b75-11ee-80c1-367dda1ae1c5',\n",
       " 'd9069e26-4b75-11ee-80c1-367dda1ae1c5',\n",
       " 'd9069e58-4b75-11ee-80c1-367dda1ae1c5',\n",
       " 'd9069e8a-4b75-11ee-80c1-367dda1ae1c5',\n",
       " 'd9069ebc-4b75-11ee-80c1-367dda1ae1c5',\n",
       " 'd9069ee4-4b75-11ee-80c1-367dda1ae1c5',\n",
       " 'd9069f16-4b75-11ee-80c1-367dda1ae1c5',\n",
       " 'd9069f48-4b75-11ee-80c1-367dda1ae1c5',\n",
       " 'd9069f7a-4b75-11ee-80c1-367dda1ae1c5',\n",
       " 'd9069fac-4b75-11ee-80c1-367dda1ae1c5',\n",
       " 'd9069fde-4b75-11ee-80c1-367dda1ae1c5',\n",
       " 'd906a006-4b75-11ee-80c1-367dda1ae1c5',\n",
       " 'd906a038-4b75-11ee-80c1-367dda1ae1c5',\n",
       " 'd906a06a-4b75-11ee-80c1-367dda1ae1c5',\n",
       " 'd906a09c-4b75-11ee-80c1-367dda1ae1c5',\n",
       " 'd906a0ce-4b75-11ee-80c1-367dda1ae1c5',\n",
       " 'd906a100-4b75-11ee-80c1-367dda1ae1c5',\n",
       " 'd906a128-4b75-11ee-80c1-367dda1ae1c5',\n",
       " 'd906a15a-4b75-11ee-80c1-367dda1ae1c5',\n",
       " 'd906a18c-4b75-11ee-80c1-367dda1ae1c5',\n",
       " 'd906a1be-4b75-11ee-80c1-367dda1ae1c5',\n",
       " 'd906a1f0-4b75-11ee-80c1-367dda1ae1c5',\n",
       " 'd906a218-4b75-11ee-80c1-367dda1ae1c5',\n",
       " 'd906a24a-4b75-11ee-80c1-367dda1ae1c5',\n",
       " 'd906a27c-4b75-11ee-80c1-367dda1ae1c5',\n",
       " 'd906a2ae-4b75-11ee-80c1-367dda1ae1c5',\n",
       " 'd906a2e0-4b75-11ee-80c1-367dda1ae1c5',\n",
       " 'd906a312-4b75-11ee-80c1-367dda1ae1c5',\n",
       " 'd906a344-4b75-11ee-80c1-367dda1ae1c5',\n",
       " 'd906a36c-4b75-11ee-80c1-367dda1ae1c5',\n",
       " 'd906a39e-4b75-11ee-80c1-367dda1ae1c5',\n",
       " 'd906a3d0-4b75-11ee-80c1-367dda1ae1c5',\n",
       " 'd906a402-4b75-11ee-80c1-367dda1ae1c5',\n",
       " 'd906a42a-4b75-11ee-80c1-367dda1ae1c5',\n",
       " 'd906a45c-4b75-11ee-80c1-367dda1ae1c5',\n",
       " 'd906a48e-4b75-11ee-80c1-367dda1ae1c5',\n",
       " 'd906a4c0-4b75-11ee-80c1-367dda1ae1c5',\n",
       " 'd906a4f2-4b75-11ee-80c1-367dda1ae1c5',\n",
       " 'd906a51a-4b75-11ee-80c1-367dda1ae1c5',\n",
       " 'd906a54c-4b75-11ee-80c1-367dda1ae1c5',\n",
       " 'd906a57e-4b75-11ee-80c1-367dda1ae1c5',\n",
       " 'd906a5b0-4b75-11ee-80c1-367dda1ae1c5',\n",
       " 'd906a5e2-4b75-11ee-80c1-367dda1ae1c5',\n",
       " 'd906a614-4b75-11ee-80c1-367dda1ae1c5',\n",
       " 'd906a646-4b75-11ee-80c1-367dda1ae1c5',\n",
       " 'd906a678-4b75-11ee-80c1-367dda1ae1c5',\n",
       " 'd906a6aa-4b75-11ee-80c1-367dda1ae1c5',\n",
       " 'd906a6dc-4b75-11ee-80c1-367dda1ae1c5',\n",
       " 'd906a70e-4b75-11ee-80c1-367dda1ae1c5',\n",
       " 'd906a740-4b75-11ee-80c1-367dda1ae1c5',\n",
       " 'd906a772-4b75-11ee-80c1-367dda1ae1c5',\n",
       " 'd906a7a4-4b75-11ee-80c1-367dda1ae1c5',\n",
       " 'd906a7cc-4b75-11ee-80c1-367dda1ae1c5',\n",
       " 'd906a7fe-4b75-11ee-80c1-367dda1ae1c5',\n",
       " 'd906a830-4b75-11ee-80c1-367dda1ae1c5',\n",
       " 'd906a862-4b75-11ee-80c1-367dda1ae1c5',\n",
       " 'd906a88a-4b75-11ee-80c1-367dda1ae1c5',\n",
       " 'd906a8bc-4b75-11ee-80c1-367dda1ae1c5',\n",
       " 'd906a8ee-4b75-11ee-80c1-367dda1ae1c5',\n",
       " 'd906a920-4b75-11ee-80c1-367dda1ae1c5',\n",
       " 'd906a952-4b75-11ee-80c1-367dda1ae1c5',\n",
       " 'd906a984-4b75-11ee-80c1-367dda1ae1c5',\n",
       " 'd906a9b6-4b75-11ee-80c1-367dda1ae1c5',\n",
       " 'd906a9e8-4b75-11ee-80c1-367dda1ae1c5',\n",
       " 'd906aa1a-4b75-11ee-80c1-367dda1ae1c5',\n",
       " 'd906aa4c-4b75-11ee-80c1-367dda1ae1c5',\n",
       " 'd906aa74-4b75-11ee-80c1-367dda1ae1c5',\n",
       " 'd906aaa6-4b75-11ee-80c1-367dda1ae1c5',\n",
       " 'd906aad8-4b75-11ee-80c1-367dda1ae1c5',\n",
       " 'd906ab0a-4b75-11ee-80c1-367dda1ae1c5',\n",
       " 'd906ab32-4b75-11ee-80c1-367dda1ae1c5',\n",
       " 'd906ab64-4b75-11ee-80c1-367dda1ae1c5',\n",
       " 'd906ab96-4b75-11ee-80c1-367dda1ae1c5',\n",
       " 'd906abc8-4b75-11ee-80c1-367dda1ae1c5',\n",
       " 'd906abfa-4b75-11ee-80c1-367dda1ae1c5',\n",
       " 'd906ac2c-4b75-11ee-80c1-367dda1ae1c5',\n",
       " 'd906ac5e-4b75-11ee-80c1-367dda1ae1c5',\n",
       " 'd906ac90-4b75-11ee-80c1-367dda1ae1c5',\n",
       " 'd906acc2-4b75-11ee-80c1-367dda1ae1c5',\n",
       " 'd906acf4-4b75-11ee-80c1-367dda1ae1c5']"
      ]
     },
     "execution_count": 14,
     "metadata": {},
     "output_type": "execute_result"
    }
   ],
   "source": [
    "from langchain.vectorstores import FAISS\n",
    "from langchain.embeddings import OpenAIEmbeddings\n",
    "from langchain.vectorstores import Chroma\n",
    "\n",
    "# NOTE: At times, OpenAI Embedding service can fail intermittently and return errorneous values such as [NaN], more info: https://github.com/langchain-ai/langchain/pull/7070\n",
    "\n",
    "embeddings = OpenAIEmbeddings()\n",
    "vectorstore = Chroma(\"langchain_store\", embeddings)\n",
    "\n",
    "vectorstore.add_documents(website_chunks)\n",
    "vectorstore.add_documents(docs_chunks)\n"
   ]
  },
  {
   "cell_type": "markdown",
   "metadata": {},
   "source": [
    "#### Retrieval QA chain"
   ]
  },
  {
   "cell_type": "code",
   "execution_count": 39,
   "metadata": {},
   "outputs": [],
   "source": [
    "from langchain.chains import RetrievalQA\n",
    "from langchain.chat_models import ChatOpenAI\n",
    "\n",
    "qa = RetrievalQA.from_chain_type(llm=ChatOpenAI(model_name=\"gpt-4\", temperature=0), chain_type=\"stuff\", retriever=vectorstore.as_retriever(), return_source_documents=True)\n",
    "\n",
    "def ask(question):\n",
    "    result = qa({\"query\": question})\n",
    "    display(Markdown(f\"### Question\"))\n",
    "    display(Markdown(question))\n",
    "\n",
    "    display(Markdown(f\"### Answer\"))\n",
    "    display(Markdown(result[\"result\"]))\n",
    "\n",
    "    display(Markdown(f\"### Sources\"))\n",
    "    sources = [r.metadata['url'] for r in result[\"source_documents\"]]\n",
    "    print(\", \".join(sources))"
   ]
  },
  {
   "cell_type": "code",
   "execution_count": 41,
   "metadata": {},
   "outputs": [],
   "source": [
    "# Questions that were answered incorrectly by the Mava bot as per emoji reaction in the test channel\n",
    "MAVA_MISANSWERED_QUES = [\n",
    "    \"what's a scout?\",\n",
    "    \"Am I allowed to use AI in an audit?\",\n",
    "    \"Can I change my Code4rena username?\",\n",
    "    \"How do I book a solo audit?\",\n",
    "    \"Do I need to be certified to participate in an audit?\",\n",
    "    \"How do bot races work?\",\n",
    "    \"Can I change my Code4rena profile name?\",\n",
    "    \"What are scout awards?\",\n",
    "    \"What are analysis reports?\",\n",
    "    \"what is an analysis finding?\",\n",
    "    \"My name wasn't in the award announcements. When can I check on my results?\",\n",
    "    \"How long does the certification process take?\",\n",
    "    \"How can I access findings.csv?\"\n",
    "]"
   ]
  },
  {
   "cell_type": "code",
   "execution_count": 42,
   "metadata": {},
   "outputs": [
    {
     "data": {
      "text/markdown": [
       "### Question"
      ],
      "text/plain": [
       "<IPython.core.display.Markdown object>"
      ]
     },
     "metadata": {},
     "output_type": "display_data"
    },
    {
     "data": {
      "text/markdown": [
       "what's a scout?"
      ],
      "text/plain": [
       "<IPython.core.display.Markdown object>"
      ]
     },
     "metadata": {},
     "output_type": "display_data"
    },
    {
     "data": {
      "text/markdown": [
       "### Answer"
      ],
      "text/plain": [
       "<IPython.core.display.Markdown object>"
      ]
     },
     "metadata": {},
     "output_type": "display_data"
    },
    {
     "data": {
      "text/markdown": [
       "A Scout in the context of Code4rena is a role that focuses on scoping and pre-audit intel. Currently, Scouts are hand-picked by the C4 team as it's a highly sensitive role."
      ],
      "text/plain": [
       "<IPython.core.display.Markdown object>"
      ]
     },
     "metadata": {},
     "output_type": "display_data"
    },
    {
     "data": {
      "text/markdown": [
       "### Sources"
      ],
      "text/plain": [
       "<IPython.core.display.Markdown object>"
      ]
     },
     "metadata": {},
     "output_type": "display_data"
    },
    {
     "name": "stdout",
     "output_type": "stream",
     "text": [
      "https://docs.code4rena.com/roles/certified-contributors/lookouts, https://docs.code4rena.com/structure/frequently-asked-questions, https://code4rena.com/how-it-works, https://code4rena.com/how-it-works\n"
     ]
    },
    {
     "data": {
      "text/markdown": [
       "### Question"
      ],
      "text/plain": [
       "<IPython.core.display.Markdown object>"
      ]
     },
     "metadata": {},
     "output_type": "display_data"
    },
    {
     "data": {
      "text/markdown": [
       "Am I allowed to use AI in an audit?"
      ],
      "text/plain": [
       "<IPython.core.display.Markdown object>"
      ]
     },
     "metadata": {},
     "output_type": "display_data"
    },
    {
     "data": {
      "text/markdown": [
       "### Answer"
      ],
      "text/plain": [
       "<IPython.core.display.Markdown object>"
      ]
     },
     "metadata": {},
     "output_type": "display_data"
    },
    {
     "data": {
      "text/markdown": [
       "Yes, you are allowed to use AI in an audit, but there are some restrictions. Code4rena runs a Bot Race at the start of each audit where wardens compete to see whose AI-driven bot can create the highest quality and most thorough audit report. The winning report is shared with all C4 wardens and all findings in the winning Bot Report will be declared publicly known issues, and therefore ineligible for awards. \n",
       "\n",
       "However, using the output of AI tools like ChatGPT, GPT-3, or other automated tools for audit submissions is highly discouraged as it often leads to a high ratio of nonsense submissions. Wardens may use automated tools as a first pass, and build on these findings to identify High and Medium severity issues. But, submissions based on automated tools will have a higher burden of proof for demonstrating to sponsors a relevant exploit path in order to be considered satisfactory."
      ],
      "text/plain": [
       "<IPython.core.display.Markdown object>"
      ]
     },
     "metadata": {},
     "output_type": "display_data"
    },
    {
     "data": {
      "text/markdown": [
       "### Sources"
      ],
      "text/plain": [
       "<IPython.core.display.Markdown object>"
      ]
     },
     "metadata": {},
     "output_type": "display_data"
    },
    {
     "name": "stdout",
     "output_type": "stream",
     "text": [
      "https://docs.code4rena.com/roles/wardens/submission-policy, https://docs.code4rena.com/awarding/fairness-and-validity, https://docs.code4rena.com/roles/wardens/submission-policy, https://docs.code4rena.com/awarding/incentive-model-and-awards\n"
     ]
    },
    {
     "data": {
      "text/markdown": [
       "### Question"
      ],
      "text/plain": [
       "<IPython.core.display.Markdown object>"
      ]
     },
     "metadata": {},
     "output_type": "display_data"
    },
    {
     "data": {
      "text/markdown": [
       "Can I change my Code4rena username?How do I book a solo audit?"
      ],
      "text/plain": [
       "<IPython.core.display.Markdown object>"
      ]
     },
     "metadata": {},
     "output_type": "display_data"
    },
    {
     "data": {
      "text/markdown": [
       "### Answer"
      ],
      "text/plain": [
       "<IPython.core.display.Markdown object>"
      ]
     },
     "metadata": {},
     "output_type": "display_data"
    },
    {
     "data": {
      "text/markdown": [
       "The text does not provide information on whether you can change your Code4rena username.\n",
       "\n",
       "To book a solo audit, a project team member needs to click the \"Get a quote\" button on a warden's profile and share scoping details with the Code4rena team. Code4rena staff will then consult with the warden and project team to firm up scoping, pricing, and dates."
      ],
      "text/plain": [
       "<IPython.core.display.Markdown object>"
      ]
     },
     "metadata": {},
     "output_type": "display_data"
    },
    {
     "data": {
      "text/markdown": [
       "### Sources"
      ],
      "text/plain": [
       "<IPython.core.display.Markdown object>"
      ]
     },
     "metadata": {},
     "output_type": "display_data"
    },
    {
     "name": "stdout",
     "output_type": "stream",
     "text": [
      "https://docs.code4rena.com/structure/frequently-asked-questions, https://docs.code4rena.com/roles/wardens/solo-audits, https://code4rena.com/register, https://code4rena.com/register\n"
     ]
    },
    {
     "data": {
      "text/markdown": [
       "### Question"
      ],
      "text/plain": [
       "<IPython.core.display.Markdown object>"
      ]
     },
     "metadata": {},
     "output_type": "display_data"
    },
    {
     "data": {
      "text/markdown": [
       "Do I need to be certified to participate in an audit?"
      ],
      "text/plain": [
       "<IPython.core.display.Markdown object>"
      ]
     },
     "metadata": {},
     "output_type": "display_data"
    },
    {
     "data": {
      "text/markdown": [
       "### Answer"
      ],
      "text/plain": [
       "<IPython.core.display.Markdown object>"
      ]
     },
     "metadata": {},
     "output_type": "display_data"
    },
    {
     "data": {
      "text/markdown": [
       "Yes, to participate in an audit as a Certified Warden, you need to be certified. The certification process involves submitting the Certified Contributor Application form and providing necessary documents such as a local authority document that is less than 3 months old. Once your application is approved, you can participate in audits."
      ],
      "text/plain": [
       "<IPython.core.display.Markdown object>"
      ]
     },
     "metadata": {},
     "output_type": "display_data"
    },
    {
     "data": {
      "text/markdown": [
       "### Sources"
      ],
      "text/plain": [
       "<IPython.core.display.Markdown object>"
      ]
     },
     "metadata": {},
     "output_type": "display_data"
    },
    {
     "name": "stdout",
     "output_type": "stream",
     "text": [
      "https://docs.code4rena.com/roles/certified-contributors, https://docs.code4rena.com/roles/certified-contributors, https://docs.code4rena.com/roles/wardens, https://docs.code4rena.com/roles/wardens/solo-audits\n"
     ]
    },
    {
     "data": {
      "text/markdown": [
       "### Question"
      ],
      "text/plain": [
       "<IPython.core.display.Markdown object>"
      ]
     },
     "metadata": {},
     "output_type": "display_data"
    },
    {
     "data": {
      "text/markdown": [
       "How do bot races work?"
      ],
      "text/plain": [
       "<IPython.core.display.Markdown object>"
      ]
     },
     "metadata": {},
     "output_type": "display_data"
    },
    {
     "data": {
      "text/markdown": [
       "### Answer"
      ],
      "text/plain": [
       "<IPython.core.display.Markdown object>"
      ]
     },
     "metadata": {},
     "output_type": "display_data"
    },
    {
     "data": {
      "text/markdown": [
       "I'm sorry, but the provided context does not contain information on how bot races work."
      ],
      "text/plain": [
       "<IPython.core.display.Markdown object>"
      ]
     },
     "metadata": {},
     "output_type": "display_data"
    },
    {
     "data": {
      "text/markdown": [
       "### Sources"
      ],
      "text/plain": [
       "<IPython.core.display.Markdown object>"
      ]
     },
     "metadata": {},
     "output_type": "display_data"
    },
    {
     "name": "stdout",
     "output_type": "stream",
     "text": [
      "https://docs.code4rena.com/awarding/fairness-and-validity, https://docs.code4rena.com/roles/judges, https://docs.code4rena.com/roles/judges/how-to-judge-a-contest, https://docs.code4rena.com/roles/sponsors\n"
     ]
    },
    {
     "data": {
      "text/markdown": [
       "### Question"
      ],
      "text/plain": [
       "<IPython.core.display.Markdown object>"
      ]
     },
     "metadata": {},
     "output_type": "display_data"
    },
    {
     "data": {
      "text/markdown": [
       "Can I change my Code4rena profile name?"
      ],
      "text/plain": [
       "<IPython.core.display.Markdown object>"
      ]
     },
     "metadata": {},
     "output_type": "display_data"
    },
    {
     "data": {
      "text/markdown": [
       "### Answer"
      ],
      "text/plain": [
       "<IPython.core.display.Markdown object>"
      ]
     },
     "metadata": {},
     "output_type": "display_data"
    },
    {
     "data": {
      "text/markdown": [
       "The provided context does not include information on whether you can change your Code4rena profile name."
      ],
      "text/plain": [
       "<IPython.core.display.Markdown object>"
      ]
     },
     "metadata": {},
     "output_type": "display_data"
    },
    {
     "data": {
      "text/markdown": [
       "### Sources"
      ],
      "text/plain": [
       "<IPython.core.display.Markdown object>"
      ]
     },
     "metadata": {},
     "output_type": "display_data"
    },
    {
     "name": "stdout",
     "output_type": "stream",
     "text": [
      "https://docs.code4rena.com/roles/wardens/warden-auth, https://code4rena.com/help, https://code4rena.com/help, https://code4rena.com/contests/2023-05-chainlink-cross-chain-services-ccip-and-arm-network\n"
     ]
    },
    {
     "data": {
      "text/markdown": [
       "### Question"
      ],
      "text/plain": [
       "<IPython.core.display.Markdown object>"
      ]
     },
     "metadata": {},
     "output_type": "display_data"
    },
    {
     "data": {
      "text/markdown": [
       "What are scout awards?"
      ],
      "text/plain": [
       "<IPython.core.display.Markdown object>"
      ]
     },
     "metadata": {},
     "output_type": "display_data"
    },
    {
     "data": {
      "text/markdown": [
       "### Answer"
      ],
      "text/plain": [
       "<IPython.core.display.Markdown object>"
      ]
     },
     "metadata": {},
     "output_type": "display_data"
    },
    {
     "data": {
      "text/markdown": [
       "I'm sorry, but the provided context does not contain any information about \"scout awards.\""
      ],
      "text/plain": [
       "<IPython.core.display.Markdown object>"
      ]
     },
     "metadata": {},
     "output_type": "display_data"
    },
    {
     "data": {
      "text/markdown": [
       "### Sources"
      ],
      "text/plain": [
       "<IPython.core.display.Markdown object>"
      ]
     },
     "metadata": {},
     "output_type": "display_data"
    },
    {
     "name": "stdout",
     "output_type": "stream",
     "text": [
      "https://docs.code4rena.com/philosophy/security-is-about-people, https://docs.code4rena.com/roles/certified-contributors/lookouts, https://docs.code4rena.com/awarding/incentive-model-and-awards/awarding-process, https://docs.code4rena.com/awarding/judging-criteria\n"
     ]
    },
    {
     "data": {
      "text/markdown": [
       "### Question"
      ],
      "text/plain": [
       "<IPython.core.display.Markdown object>"
      ]
     },
     "metadata": {},
     "output_type": "display_data"
    },
    {
     "data": {
      "text/markdown": [
       "What are analysis reports?"
      ],
      "text/plain": [
       "<IPython.core.display.Markdown object>"
      ]
     },
     "metadata": {},
     "output_type": "display_data"
    },
    {
     "data": {
      "text/markdown": [
       "### Answer"
      ],
      "text/plain": [
       "<IPython.core.display.Markdown object>"
      ]
     },
     "metadata": {},
     "output_type": "display_data"
    },
    {
     "data": {
      "text/markdown": [
       "Analysis reports are written submissions that outline the Wardens' analysis of the codebase as a whole, any observations or advice they have about architecture, mechanism, or approach, broader concerns like systemic risks or centralization risks, and the approach taken in reviewing the code. They also include new insights and learnings from the audit. These reports provide wardens with an opportunity to contribute value through high level insights and advice that aren't necessarily covered by specific bugs. Analyses are judged A/B/C, with the top Analysis selected for inclusion in the audit report."
      ],
      "text/plain": [
       "<IPython.core.display.Markdown object>"
      ]
     },
     "metadata": {},
     "output_type": "display_data"
    },
    {
     "data": {
      "text/markdown": [
       "### Sources"
      ],
      "text/plain": [
       "<IPython.core.display.Markdown object>"
      ]
     },
     "metadata": {},
     "output_type": "display_data"
    },
    {
     "name": "stdout",
     "output_type": "stream",
     "text": [
      "https://docs.code4rena.com/awarding/judging-criteria, https://docs.code4rena.com/awarding/incentive-model-and-awards, https://docs.code4rena.com/awarding/fairness-and-validity, https://docs.code4rena.com/awarding/incentive-model-and-awards\n"
     ]
    },
    {
     "data": {
      "text/markdown": [
       "### Question"
      ],
      "text/plain": [
       "<IPython.core.display.Markdown object>"
      ]
     },
     "metadata": {},
     "output_type": "display_data"
    },
    {
     "data": {
      "text/markdown": [
       "what is an analysis finding?"
      ],
      "text/plain": [
       "<IPython.core.display.Markdown object>"
      ]
     },
     "metadata": {},
     "output_type": "display_data"
    },
    {
     "data": {
      "text/markdown": [
       "### Answer"
      ],
      "text/plain": [
       "<IPython.core.display.Markdown object>"
      ]
     },
     "metadata": {},
     "output_type": "display_data"
    },
    {
     "data": {
      "text/markdown": [
       "An analysis is a written submission that outlines the Wardens' analysis of the codebase as a whole and any observations or advice they have about architecture, mechanism, or approach. It also includes broader concerns like systemic risks or centralization risks, the approach taken in reviewing the code, and new insights and learnings from the audit. Analyses are judged A/B/C, with the top Analysis selected for inclusion in the audit report. They provide wardens with an opportunity to contribute value through high level insights and advice that aren't necessarily covered by specific bugs."
      ],
      "text/plain": [
       "<IPython.core.display.Markdown object>"
      ]
     },
     "metadata": {},
     "output_type": "display_data"
    },
    {
     "data": {
      "text/markdown": [
       "### Sources"
      ],
      "text/plain": [
       "<IPython.core.display.Markdown object>"
      ]
     },
     "metadata": {},
     "output_type": "display_data"
    },
    {
     "name": "stdout",
     "output_type": "stream",
     "text": [
      "https://docs.code4rena.com/awarding/judging-criteria, https://docs.code4rena.com/awarding/incentive-model-and-awards, https://docs.code4rena.com/awarding/fairness-and-validity, https://docs.code4rena.com/structure/frequently-asked-questions\n"
     ]
    },
    {
     "data": {
      "text/markdown": [
       "### Question"
      ],
      "text/plain": [
       "<IPython.core.display.Markdown object>"
      ]
     },
     "metadata": {},
     "output_type": "display_data"
    },
    {
     "data": {
      "text/markdown": [
       "My name wasn't in the award announcements. When can I check on my results?"
      ],
      "text/plain": [
       "<IPython.core.display.Markdown object>"
      ]
     },
     "metadata": {},
     "output_type": "display_data"
    },
    {
     "data": {
      "text/markdown": [
       "### Answer"
      ],
      "text/plain": [
       "<IPython.core.display.Markdown object>"
      ]
     },
     "metadata": {},
     "output_type": "display_data"
    },
    {
     "data": {
      "text/markdown": [
       "Based on the audit timeline provided, the judging QA is completed and awards are announced between Day 25-34 after audit submissions close. If your name wasn't in the award announcements, you may want to wait until this period is over to check on your results. If you still don't see your award after this time, there might be other issues at play and you may need to contact the Code4rena Foundation for further assistance."
      ],
      "text/plain": [
       "<IPython.core.display.Markdown object>"
      ]
     },
     "metadata": {},
     "output_type": "display_data"
    },
    {
     "data": {
      "text/markdown": [
       "### Sources"
      ],
      "text/plain": [
       "<IPython.core.display.Markdown object>"
      ]
     },
     "metadata": {},
     "output_type": "display_data"
    },
    {
     "name": "stdout",
     "output_type": "stream",
     "text": [
      "https://docs.code4rena.com/awarding/incentive-model-and-awards/awarding-process, https://docs.code4rena.com/roles/wardens/warden-auth, https://docs.code4rena.com/awarding/incentive-model-and-awards/qa-gas-report-faq, https://docs.code4rena.com/structure/our-process\n"
     ]
    },
    {
     "data": {
      "text/markdown": [
       "### Question"
      ],
      "text/plain": [
       "<IPython.core.display.Markdown object>"
      ]
     },
     "metadata": {},
     "output_type": "display_data"
    },
    {
     "data": {
      "text/markdown": [
       "How long does the certification process take?"
      ],
      "text/plain": [
       "<IPython.core.display.Markdown object>"
      ]
     },
     "metadata": {},
     "output_type": "display_data"
    },
    {
     "data": {
      "text/markdown": [
       "### Answer"
      ],
      "text/plain": [
       "<IPython.core.display.Markdown object>"
      ]
     },
     "metadata": {},
     "output_type": "display_data"
    },
    {
     "data": {
      "text/markdown": [
       "Once you submit the Certified Contributor Application form, Provenance typically emails you within one business day. If you have all the available documents, the process can usually be completed within a day. However, it will take longer if you need to assemble the necessary documents."
      ],
      "text/plain": [
       "<IPython.core.display.Markdown object>"
      ]
     },
     "metadata": {},
     "output_type": "display_data"
    },
    {
     "data": {
      "text/markdown": [
       "### Sources"
      ],
      "text/plain": [
       "<IPython.core.display.Markdown object>"
      ]
     },
     "metadata": {},
     "output_type": "display_data"
    },
    {
     "name": "stdout",
     "output_type": "stream",
     "text": [
      "https://docs.code4rena.com/roles/certified-contributors, https://docs.code4rena.com/structure/our-process, https://docs.code4rena.com/roles/certified-contributors, https://docs.code4rena.com/roles/wardens\n"
     ]
    },
    {
     "data": {
      "text/markdown": [
       "### Question"
      ],
      "text/plain": [
       "<IPython.core.display.Markdown object>"
      ]
     },
     "metadata": {},
     "output_type": "display_data"
    },
    {
     "data": {
      "text/markdown": [
       "How can I access findings.csv?"
      ],
      "text/plain": [
       "<IPython.core.display.Markdown object>"
      ]
     },
     "metadata": {},
     "output_type": "display_data"
    },
    {
     "data": {
      "text/markdown": [
       "### Answer"
      ],
      "text/plain": [
       "<IPython.core.display.Markdown object>"
      ]
     },
     "metadata": {},
     "output_type": "display_data"
    },
    {
     "data": {
      "text/markdown": [
       "I'm sorry, but the provided context does not contain information on how to access findings.csv."
      ],
      "text/plain": [
       "<IPython.core.display.Markdown object>"
      ]
     },
     "metadata": {},
     "output_type": "display_data"
    },
    {
     "data": {
      "text/markdown": [
       "### Sources"
      ],
      "text/plain": [
       "<IPython.core.display.Markdown object>"
      ]
     },
     "metadata": {},
     "output_type": "display_data"
    },
    {
     "name": "stdout",
     "output_type": "stream",
     "text": [
      "https://docs.code4rena.com/structure/frequently-asked-questions, https://docs.code4rena.com/roles/wardens/submission-policy, https://docs.code4rena.com/roles/wardens/submission-policy, https://docs.code4rena.com/roles/wardens/warden-auth\n"
     ]
    }
   ],
   "source": [
    "for q in MAVA_MISANSWERED_QUES:\n",
    "    ask(q)"
   ]
  },
  {
   "cell_type": "markdown",
   "metadata": {},
   "source": []
  },
  {
   "cell_type": "code",
   "execution_count": null,
   "metadata": {},
   "outputs": [],
   "source": []
  }
 ],
 "metadata": {
  "kernelspec": {
   "display_name": "c4-chatbot",
   "language": "python",
   "name": "python3"
  },
  "language_info": {
   "codemirror_mode": {
    "name": "ipython",
    "version": 3
   },
   "file_extension": ".py",
   "mimetype": "text/x-python",
   "name": "python",
   "nbconvert_exporter": "python",
   "pygments_lexer": "ipython3",
   "version": "3.10.7"
  },
  "orig_nbformat": 4
 },
 "nbformat": 4,
 "nbformat_minor": 2
}
