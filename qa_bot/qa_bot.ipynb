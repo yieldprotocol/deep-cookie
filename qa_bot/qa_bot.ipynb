{
 "cells": [
  {
   "cell_type": "markdown",
   "metadata": {},
   "source": [
    "# CodeArena (C4) Question Answer bot\n",
    "\n",
    "### Objective\n",
    "- This notebook has the PoC work for a Question Answer bot using C4's knowledge bases.\n",
    "- The objective of the PoC is to prototype an LLM implementation that can accurately answer questions to their expectation and at the very least perform better than their current bot from [Mava](https://www.mava.app/)\n",
    "\n",
    "### Observations from the usage of Mava\n",
    "- The platform offers Discord support management with ticketing and AI help bot features\n",
    "- For the AI help bot, the user is able to specify links to multiple knowledge sources that can be used for answering questions.\n",
    "- Based on C4's testing of the Mava bot in the private channel, the following stats were observed:-\n",
    "    - Total questions asked: 29\n",
    "    - Total questions mis-answered based on emoji reactions: 13\n",
    "    - Accuracy - ~55%\n",
    "\n",
    "### Knowledge Bases\n",
    "Based on conversations with their team, the following knowledge bases were identified to be relevant and are the same ones that Mava is using:-\n",
    "- [Main Website](https://code4rena.com/)\n",
    "- [Docs](https://docs.code4rena.com/) \n",
    "\n",
    "\n",
    "### High-level Approach\n",
    "- Crawl and scrape C4’s website and docs using Scrapy lib\n",
    "- Convert the html content to markdown format so that the model can better understand the context\n",
    "- Use LangChain lib to do the following:-\n",
    "    - Split the markdown header-separated sections into semantic chunks\n",
    "    - Embed and store the semantic chunks in an in-memory vector db\n",
    "    - Use the retrieval augmented functionality to answer the question"
   ]
  },
  {
   "cell_type": "code",
   "execution_count": 59,
   "metadata": {},
   "outputs": [
    {
     "name": "stdout",
     "output_type": "stream",
     "text": [
      "Requirement already satisfied: langchain[llms] in /Users/sagarshah/.pyenv/versions/3.10.7/envs/c4-chatbot/lib/python3.10/site-packages (0.0.278)\n",
      "Requirement already satisfied: tenacity<9.0.0,>=8.1.0 in /Users/sagarshah/.pyenv/versions/3.10.7/envs/c4-chatbot/lib/python3.10/site-packages (from langchain[llms]) (8.2.3)\n",
      "Requirement already satisfied: numexpr<3.0.0,>=2.8.4 in /Users/sagarshah/.pyenv/versions/3.10.7/envs/c4-chatbot/lib/python3.10/site-packages (from langchain[llms]) (2.8.5)\n",
      "Requirement already satisfied: async-timeout<5.0.0,>=4.0.0 in /Users/sagarshah/.pyenv/versions/3.10.7/envs/c4-chatbot/lib/python3.10/site-packages (from langchain[llms]) (4.0.3)\n",
      "Requirement already satisfied: dataclasses-json<0.6.0,>=0.5.7 in /Users/sagarshah/.pyenv/versions/3.10.7/envs/c4-chatbot/lib/python3.10/site-packages (from langchain[llms]) (0.5.14)\n",
      "Requirement already satisfied: aiohttp<4.0.0,>=3.8.3 in /Users/sagarshah/.pyenv/versions/3.10.7/envs/c4-chatbot/lib/python3.10/site-packages (from langchain[llms]) (3.8.5)\n",
      "Requirement already satisfied: SQLAlchemy<3,>=1.4 in /Users/sagarshah/.pyenv/versions/3.10.7/envs/c4-chatbot/lib/python3.10/site-packages (from langchain[llms]) (2.0.20)\n",
      "Requirement already satisfied: langsmith<0.1.0,>=0.0.21 in /Users/sagarshah/.pyenv/versions/3.10.7/envs/c4-chatbot/lib/python3.10/site-packages (from langchain[llms]) (0.0.31)\n",
      "Requirement already satisfied: numpy<2,>=1 in /Users/sagarshah/.pyenv/versions/3.10.7/envs/c4-chatbot/lib/python3.10/site-packages (from langchain[llms]) (1.25.2)\n",
      "Requirement already satisfied: requests<3,>=2 in /Users/sagarshah/.pyenv/versions/3.10.7/envs/c4-chatbot/lib/python3.10/site-packages (from langchain[llms]) (2.31.0)\n",
      "Requirement already satisfied: pydantic<3,>=1 in /Users/sagarshah/.pyenv/versions/3.10.7/envs/c4-chatbot/lib/python3.10/site-packages (from langchain[llms]) (1.10.12)\n",
      "Requirement already satisfied: PyYAML>=5.3 in /Users/sagarshah/.pyenv/versions/3.10.7/envs/c4-chatbot/lib/python3.10/site-packages (from langchain[llms]) (6.0.1)\n",
      "Requirement already satisfied: clarifai>=9.1.0 in /Users/sagarshah/.pyenv/versions/3.10.7/envs/c4-chatbot/lib/python3.10/site-packages (from langchain[llms]) (9.7.6)\n",
      "Requirement already satisfied: huggingface_hub<1,>=0 in /Users/sagarshah/.pyenv/versions/3.10.7/envs/c4-chatbot/lib/python3.10/site-packages (from langchain[llms]) (0.16.4)\n",
      "Requirement already satisfied: openai<1,>=0 in /Users/sagarshah/.pyenv/versions/3.10.7/envs/c4-chatbot/lib/python3.10/site-packages (from langchain[llms]) (0.28.0)\n",
      "Requirement already satisfied: openlm<0.0.6,>=0.0.5 in /Users/sagarshah/.pyenv/versions/3.10.7/envs/c4-chatbot/lib/python3.10/site-packages (from langchain[llms]) (0.0.5)\n",
      "Requirement already satisfied: nlpcloud<2,>=1 in /Users/sagarshah/.pyenv/versions/3.10.7/envs/c4-chatbot/lib/python3.10/site-packages (from langchain[llms]) (1.1.44)\n",
      "Requirement already satisfied: manifest-ml<0.0.2,>=0.0.1 in /Users/sagarshah/.pyenv/versions/3.10.7/envs/c4-chatbot/lib/python3.10/site-packages (from langchain[llms]) (0.0.1)\n",
      "Requirement already satisfied: transformers<5,>=4 in /Users/sagarshah/.pyenv/versions/3.10.7/envs/c4-chatbot/lib/python3.10/site-packages (from langchain[llms]) (4.32.1)\n",
      "Requirement already satisfied: torch<3,>=1 in /Users/sagarshah/.pyenv/versions/3.10.7/envs/c4-chatbot/lib/python3.10/site-packages (from langchain[llms]) (2.0.1)\n",
      "Requirement already satisfied: cohere<5,>=4 in /Users/sagarshah/.pyenv/versions/3.10.7/envs/c4-chatbot/lib/python3.10/site-packages (from langchain[llms]) (4.21)\n",
      "Requirement already satisfied: aiosignal>=1.1.2 in /Users/sagarshah/.pyenv/versions/3.10.7/envs/c4-chatbot/lib/python3.10/site-packages (from aiohttp<4.0.0,>=3.8.3->langchain[llms]) (1.3.1)\n",
      "Requirement already satisfied: frozenlist>=1.1.1 in /Users/sagarshah/.pyenv/versions/3.10.7/envs/c4-chatbot/lib/python3.10/site-packages (from aiohttp<4.0.0,>=3.8.3->langchain[llms]) (1.4.0)\n",
      "Requirement already satisfied: multidict<7.0,>=4.5 in /Users/sagarshah/.pyenv/versions/3.10.7/envs/c4-chatbot/lib/python3.10/site-packages (from aiohttp<4.0.0,>=3.8.3->langchain[llms]) (6.0.4)\n",
      "Requirement already satisfied: yarl<2.0,>=1.0 in /Users/sagarshah/.pyenv/versions/3.10.7/envs/c4-chatbot/lib/python3.10/site-packages (from aiohttp<4.0.0,>=3.8.3->langchain[llms]) (1.9.2)\n",
      "Requirement already satisfied: charset-normalizer<4.0,>=2.0 in /Users/sagarshah/.pyenv/versions/3.10.7/envs/c4-chatbot/lib/python3.10/site-packages (from aiohttp<4.0.0,>=3.8.3->langchain[llms]) (3.2.0)\n",
      "Requirement already satisfied: attrs>=17.3.0 in /Users/sagarshah/.pyenv/versions/3.10.7/envs/c4-chatbot/lib/python3.10/site-packages (from aiohttp<4.0.0,>=3.8.3->langchain[llms]) (23.1.0)\n",
      "Requirement already satisfied: packaging in /Users/sagarshah/.pyenv/versions/3.10.7/envs/c4-chatbot/lib/python3.10/site-packages (from clarifai>=9.1.0->langchain[llms]) (23.1)\n",
      "Requirement already satisfied: tritonclient==2.34.0 in /Users/sagarshah/.pyenv/versions/3.10.7/envs/c4-chatbot/lib/python3.10/site-packages (from clarifai>=9.1.0->langchain[llms]) (2.34.0)\n",
      "Requirement already satisfied: clarifai-grpc>=9.7.4 in /Users/sagarshah/.pyenv/versions/3.10.7/envs/c4-chatbot/lib/python3.10/site-packages (from clarifai>=9.1.0->langchain[llms]) (9.7.6)\n",
      "Requirement already satisfied: rich==13.4.2 in /Users/sagarshah/.pyenv/versions/3.10.7/envs/c4-chatbot/lib/python3.10/site-packages (from clarifai>=9.1.0->langchain[llms]) (13.4.2)\n",
      "Collecting tqdm==4.64.1\n",
      "  Using cached tqdm-4.64.1-py2.py3-none-any.whl (78 kB)\n",
      "Requirement already satisfied: markdown-it-py>=2.2.0 in /Users/sagarshah/.pyenv/versions/3.10.7/envs/c4-chatbot/lib/python3.10/site-packages (from rich==13.4.2->clarifai>=9.1.0->langchain[llms]) (3.0.0)\n",
      "Requirement already satisfied: pygments<3.0.0,>=2.13.0 in /Users/sagarshah/.pyenv/versions/3.10.7/envs/c4-chatbot/lib/python3.10/site-packages (from rich==13.4.2->clarifai>=9.1.0->langchain[llms]) (2.16.1)\n",
      "Requirement already satisfied: python-rapidjson>=0.9.1 in /Users/sagarshah/.pyenv/versions/3.10.7/envs/c4-chatbot/lib/python3.10/site-packages (from tritonclient==2.34.0->clarifai>=9.1.0->langchain[llms]) (1.10)\n",
      "Requirement already satisfied: importlib_metadata<7.0,>=6.0 in /Users/sagarshah/.pyenv/versions/3.10.7/envs/c4-chatbot/lib/python3.10/site-packages (from cohere<5,>=4->langchain[llms]) (6.8.0)\n",
      "Requirement already satisfied: fastavro==1.8.2 in /Users/sagarshah/.pyenv/versions/3.10.7/envs/c4-chatbot/lib/python3.10/site-packages (from cohere<5,>=4->langchain[llms]) (1.8.2)\n",
      "Requirement already satisfied: urllib3<3,>=1.26 in /Users/sagarshah/.pyenv/versions/3.10.7/envs/c4-chatbot/lib/python3.10/site-packages (from cohere<5,>=4->langchain[llms]) (2.0.4)\n",
      "Requirement already satisfied: backoff<3.0,>=2.0 in /Users/sagarshah/.pyenv/versions/3.10.7/envs/c4-chatbot/lib/python3.10/site-packages (from cohere<5,>=4->langchain[llms]) (2.2.1)\n",
      "Requirement already satisfied: marshmallow<4.0.0,>=3.18.0 in /Users/sagarshah/.pyenv/versions/3.10.7/envs/c4-chatbot/lib/python3.10/site-packages (from dataclasses-json<0.6.0,>=0.5.7->langchain[llms]) (3.20.1)\n",
      "Requirement already satisfied: typing-inspect<1,>=0.4.0 in /Users/sagarshah/.pyenv/versions/3.10.7/envs/c4-chatbot/lib/python3.10/site-packages (from dataclasses-json<0.6.0,>=0.5.7->langchain[llms]) (0.9.0)\n",
      "Requirement already satisfied: filelock in /Users/sagarshah/.pyenv/versions/3.10.7/envs/c4-chatbot/lib/python3.10/site-packages (from huggingface_hub<1,>=0->langchain[llms]) (3.12.3)\n",
      "Requirement already satisfied: fsspec in /Users/sagarshah/.pyenv/versions/3.10.7/envs/c4-chatbot/lib/python3.10/site-packages (from huggingface_hub<1,>=0->langchain[llms]) (2023.6.0)\n",
      "Requirement already satisfied: typing-extensions>=3.7.4.3 in /Users/sagarshah/.pyenv/versions/3.10.7/envs/c4-chatbot/lib/python3.10/site-packages (from huggingface_hub<1,>=0->langchain[llms]) (4.7.1)\n",
      "Requirement already satisfied: sqlitedict>=2.0.0 in /Users/sagarshah/.pyenv/versions/3.10.7/envs/c4-chatbot/lib/python3.10/site-packages (from manifest-ml<0.0.2,>=0.0.1->langchain[llms]) (2.1.0)\n",
      "Requirement already satisfied: redis>=4.3.1 in /Users/sagarshah/.pyenv/versions/3.10.7/envs/c4-chatbot/lib/python3.10/site-packages (from manifest-ml<0.0.2,>=0.0.1->langchain[llms]) (5.0.0)\n",
      "Requirement already satisfied: dill>=0.3.5 in /Users/sagarshah/.pyenv/versions/3.10.7/envs/c4-chatbot/lib/python3.10/site-packages (from manifest-ml<0.0.2,>=0.0.1->langchain[llms]) (0.3.7)\n",
      "Requirement already satisfied: idna<4,>=2.5 in /Users/sagarshah/.pyenv/versions/3.10.7/envs/c4-chatbot/lib/python3.10/site-packages (from requests<3,>=2->langchain[llms]) (3.4)\n",
      "Requirement already satisfied: certifi>=2017.4.17 in /Users/sagarshah/.pyenv/versions/3.10.7/envs/c4-chatbot/lib/python3.10/site-packages (from requests<3,>=2->langchain[llms]) (2023.7.22)\n",
      "Requirement already satisfied: greenlet!=0.4.17 in /Users/sagarshah/.pyenv/versions/3.10.7/envs/c4-chatbot/lib/python3.10/site-packages (from SQLAlchemy<3,>=1.4->langchain[llms]) (2.0.2)\n",
      "Requirement already satisfied: jinja2 in /Users/sagarshah/.pyenv/versions/3.10.7/envs/c4-chatbot/lib/python3.10/site-packages (from torch<3,>=1->langchain[llms]) (3.1.2)\n",
      "Requirement already satisfied: networkx in /Users/sagarshah/.pyenv/versions/3.10.7/envs/c4-chatbot/lib/python3.10/site-packages (from torch<3,>=1->langchain[llms]) (3.1)\n",
      "Requirement already satisfied: sympy in /Users/sagarshah/.pyenv/versions/3.10.7/envs/c4-chatbot/lib/python3.10/site-packages (from torch<3,>=1->langchain[llms]) (1.12)\n",
      "Requirement already satisfied: safetensors>=0.3.1 in /Users/sagarshah/.pyenv/versions/3.10.7/envs/c4-chatbot/lib/python3.10/site-packages (from transformers<5,>=4->langchain[llms]) (0.3.3)\n",
      "Requirement already satisfied: tokenizers!=0.11.3,<0.14,>=0.11.1 in /Users/sagarshah/.pyenv/versions/3.10.7/envs/c4-chatbot/lib/python3.10/site-packages (from transformers<5,>=4->langchain[llms]) (0.13.3)\n",
      "Requirement already satisfied: regex!=2019.12.17 in /Users/sagarshah/.pyenv/versions/3.10.7/envs/c4-chatbot/lib/python3.10/site-packages (from transformers<5,>=4->langchain[llms]) (2023.8.8)\n",
      "Requirement already satisfied: protobuf>=3.20.3 in /Users/sagarshah/.pyenv/versions/3.10.7/envs/c4-chatbot/lib/python3.10/site-packages (from clarifai-grpc>=9.7.4->clarifai>=9.1.0->langchain[llms]) (4.24.2)\n",
      "Requirement already satisfied: grpcio>=1.44.0 in /Users/sagarshah/.pyenv/versions/3.10.7/envs/c4-chatbot/lib/python3.10/site-packages (from clarifai-grpc>=9.7.4->clarifai>=9.1.0->langchain[llms]) (1.57.0)\n",
      "Requirement already satisfied: googleapis-common-protos>=1.53.0 in /Users/sagarshah/.pyenv/versions/3.10.7/envs/c4-chatbot/lib/python3.10/site-packages (from clarifai-grpc>=9.7.4->clarifai>=9.1.0->langchain[llms]) (1.60.0)\n",
      "Requirement already satisfied: zipp>=0.5 in /Users/sagarshah/.pyenv/versions/3.10.7/envs/c4-chatbot/lib/python3.10/site-packages (from importlib_metadata<7.0,>=6.0->cohere<5,>=4->langchain[llms]) (3.16.2)\n",
      "Requirement already satisfied: mypy-extensions>=0.3.0 in /Users/sagarshah/.pyenv/versions/3.10.7/envs/c4-chatbot/lib/python3.10/site-packages (from typing-inspect<1,>=0.4.0->dataclasses-json<0.6.0,>=0.5.7->langchain[llms]) (1.0.0)\n",
      "Requirement already satisfied: MarkupSafe>=2.0 in /Users/sagarshah/.pyenv/versions/3.10.7/envs/c4-chatbot/lib/python3.10/site-packages (from jinja2->torch<3,>=1->langchain[llms]) (2.1.3)\n",
      "Requirement already satisfied: mpmath>=0.19 in /Users/sagarshah/.pyenv/versions/3.10.7/envs/c4-chatbot/lib/python3.10/site-packages (from sympy->torch<3,>=1->langchain[llms]) (1.3.0)\n",
      "Requirement already satisfied: mdurl~=0.1 in /Users/sagarshah/.pyenv/versions/3.10.7/envs/c4-chatbot/lib/python3.10/site-packages (from markdown-it-py>=2.2.0->rich==13.4.2->clarifai>=9.1.0->langchain[llms]) (0.1.2)\n",
      "Installing collected packages: tqdm\n",
      "  Attempting uninstall: tqdm\n",
      "    Found existing installation: tqdm 4.66.1\n",
      "    Uninstalling tqdm-4.66.1:\n",
      "      Successfully uninstalled tqdm-4.66.1\n",
      "\u001b[31mERROR: pip's dependency resolver does not currently take into account all the packages that are installed. This behaviour is the source of the following dependency conflicts.\n",
      "chromadb 0.4.8 requires tqdm>=4.65.0, but you have tqdm 4.64.1 which is incompatible.\u001b[0m\u001b[31m\n",
      "\u001b[0mSuccessfully installed tqdm-4.64.1\n",
      "\n",
      "\u001b[1m[\u001b[0m\u001b[34;49mnotice\u001b[0m\u001b[1;39;49m]\u001b[0m\u001b[39;49m A new release of pip available: \u001b[0m\u001b[31;49m22.2.2\u001b[0m\u001b[39;49m -> \u001b[0m\u001b[32;49m23.2.1\u001b[0m\n",
      "\u001b[1m[\u001b[0m\u001b[34;49mnotice\u001b[0m\u001b[1;39;49m]\u001b[0m\u001b[39;49m To update, run: \u001b[0m\u001b[32;49mpip install --upgrade pip\u001b[0m\n",
      "Requirement already satisfied: Scrapy in /Users/sagarshah/.pyenv/versions/3.10.7/envs/c4-chatbot/lib/python3.10/site-packages (2.10.1)\n",
      "Requirement already satisfied: tldextract in /Users/sagarshah/.pyenv/versions/3.10.7/envs/c4-chatbot/lib/python3.10/site-packages (from Scrapy) (3.4.4)\n",
      "Requirement already satisfied: packaging in /Users/sagarshah/.pyenv/versions/3.10.7/envs/c4-chatbot/lib/python3.10/site-packages (from Scrapy) (23.1)\n",
      "Requirement already satisfied: PyDispatcher>=2.0.5 in /Users/sagarshah/.pyenv/versions/3.10.7/envs/c4-chatbot/lib/python3.10/site-packages (from Scrapy) (2.0.7)\n",
      "Requirement already satisfied: cssselect>=0.9.1 in /Users/sagarshah/.pyenv/versions/3.10.7/envs/c4-chatbot/lib/python3.10/site-packages (from Scrapy) (1.2.0)\n",
      "Requirement already satisfied: Twisted<23.8.0,>=18.9.0 in /Users/sagarshah/.pyenv/versions/3.10.7/envs/c4-chatbot/lib/python3.10/site-packages (from Scrapy) (22.10.0)\n",
      "Requirement already satisfied: service-identity>=18.1.0 in /Users/sagarshah/.pyenv/versions/3.10.7/envs/c4-chatbot/lib/python3.10/site-packages (from Scrapy) (23.1.0)\n",
      "Requirement already satisfied: pyOpenSSL>=21.0.0 in /Users/sagarshah/.pyenv/versions/3.10.7/envs/c4-chatbot/lib/python3.10/site-packages (from Scrapy) (23.2.0)\n",
      "Requirement already satisfied: w3lib>=1.17.0 in /Users/sagarshah/.pyenv/versions/3.10.7/envs/c4-chatbot/lib/python3.10/site-packages (from Scrapy) (2.1.2)\n",
      "Requirement already satisfied: protego>=0.1.15 in /Users/sagarshah/.pyenv/versions/3.10.7/envs/c4-chatbot/lib/python3.10/site-packages (from Scrapy) (0.3.0)\n",
      "Requirement already satisfied: queuelib>=1.4.2 in /Users/sagarshah/.pyenv/versions/3.10.7/envs/c4-chatbot/lib/python3.10/site-packages (from Scrapy) (1.6.2)\n",
      "Requirement already satisfied: cryptography>=36.0.0 in /Users/sagarshah/.pyenv/versions/3.10.7/envs/c4-chatbot/lib/python3.10/site-packages (from Scrapy) (41.0.3)\n",
      "Requirement already satisfied: setuptools in /Users/sagarshah/.pyenv/versions/3.10.7/envs/c4-chatbot/lib/python3.10/site-packages (from Scrapy) (63.2.0)\n",
      "Requirement already satisfied: parsel>=1.5.0 in /Users/sagarshah/.pyenv/versions/3.10.7/envs/c4-chatbot/lib/python3.10/site-packages (from Scrapy) (1.8.1)\n",
      "Requirement already satisfied: zope.interface>=5.1.0 in /Users/sagarshah/.pyenv/versions/3.10.7/envs/c4-chatbot/lib/python3.10/site-packages (from Scrapy) (6.0)\n",
      "Requirement already satisfied: itemloaders>=1.0.1 in /Users/sagarshah/.pyenv/versions/3.10.7/envs/c4-chatbot/lib/python3.10/site-packages (from Scrapy) (1.1.0)\n",
      "Requirement already satisfied: itemadapter>=0.1.0 in /Users/sagarshah/.pyenv/versions/3.10.7/envs/c4-chatbot/lib/python3.10/site-packages (from Scrapy) (0.8.0)\n",
      "Requirement already satisfied: lxml>=4.4.1 in /Users/sagarshah/.pyenv/versions/3.10.7/envs/c4-chatbot/lib/python3.10/site-packages (from Scrapy) (4.9.3)\n",
      "Requirement already satisfied: cffi>=1.12 in /Users/sagarshah/.pyenv/versions/3.10.7/envs/c4-chatbot/lib/python3.10/site-packages (from cryptography>=36.0.0->Scrapy) (1.15.1)\n",
      "Requirement already satisfied: jmespath>=0.9.5 in /Users/sagarshah/.pyenv/versions/3.10.7/envs/c4-chatbot/lib/python3.10/site-packages (from itemloaders>=1.0.1->Scrapy) (1.0.1)\n",
      "Requirement already satisfied: pyasn1 in /Users/sagarshah/.pyenv/versions/3.10.7/envs/c4-chatbot/lib/python3.10/site-packages (from service-identity>=18.1.0->Scrapy) (0.5.0)\n",
      "Requirement already satisfied: pyasn1-modules in /Users/sagarshah/.pyenv/versions/3.10.7/envs/c4-chatbot/lib/python3.10/site-packages (from service-identity>=18.1.0->Scrapy) (0.3.0)\n",
      "Requirement already satisfied: attrs>=19.1.0 in /Users/sagarshah/.pyenv/versions/3.10.7/envs/c4-chatbot/lib/python3.10/site-packages (from service-identity>=18.1.0->Scrapy) (23.1.0)\n",
      "Requirement already satisfied: constantly>=15.1 in /Users/sagarshah/.pyenv/versions/3.10.7/envs/c4-chatbot/lib/python3.10/site-packages (from Twisted<23.8.0,>=18.9.0->Scrapy) (15.1.0)\n",
      "Requirement already satisfied: typing-extensions>=3.6.5 in /Users/sagarshah/.pyenv/versions/3.10.7/envs/c4-chatbot/lib/python3.10/site-packages (from Twisted<23.8.0,>=18.9.0->Scrapy) (4.7.1)\n",
      "Requirement already satisfied: Automat>=0.8.0 in /Users/sagarshah/.pyenv/versions/3.10.7/envs/c4-chatbot/lib/python3.10/site-packages (from Twisted<23.8.0,>=18.9.0->Scrapy) (22.10.0)\n",
      "Requirement already satisfied: hyperlink>=17.1.1 in /Users/sagarshah/.pyenv/versions/3.10.7/envs/c4-chatbot/lib/python3.10/site-packages (from Twisted<23.8.0,>=18.9.0->Scrapy) (21.0.0)\n",
      "Requirement already satisfied: incremental>=21.3.0 in /Users/sagarshah/.pyenv/versions/3.10.7/envs/c4-chatbot/lib/python3.10/site-packages (from Twisted<23.8.0,>=18.9.0->Scrapy) (22.10.0)\n",
      "Requirement already satisfied: filelock>=3.0.8 in /Users/sagarshah/.pyenv/versions/3.10.7/envs/c4-chatbot/lib/python3.10/site-packages (from tldextract->Scrapy) (3.12.3)\n",
      "Requirement already satisfied: idna in /Users/sagarshah/.pyenv/versions/3.10.7/envs/c4-chatbot/lib/python3.10/site-packages (from tldextract->Scrapy) (3.4)\n",
      "Requirement already satisfied: requests>=2.1.0 in /Users/sagarshah/.pyenv/versions/3.10.7/envs/c4-chatbot/lib/python3.10/site-packages (from tldextract->Scrapy) (2.31.0)\n",
      "Requirement already satisfied: requests-file>=1.4 in /Users/sagarshah/.pyenv/versions/3.10.7/envs/c4-chatbot/lib/python3.10/site-packages (from tldextract->Scrapy) (1.5.1)\n",
      "Requirement already satisfied: six in /Users/sagarshah/.pyenv/versions/3.10.7/envs/c4-chatbot/lib/python3.10/site-packages (from Automat>=0.8.0->Twisted<23.8.0,>=18.9.0->Scrapy) (1.16.0)\n",
      "Requirement already satisfied: pycparser in /Users/sagarshah/.pyenv/versions/3.10.7/envs/c4-chatbot/lib/python3.10/site-packages (from cffi>=1.12->cryptography>=36.0.0->Scrapy) (2.21)\n",
      "Requirement already satisfied: urllib3<3,>=1.21.1 in /Users/sagarshah/.pyenv/versions/3.10.7/envs/c4-chatbot/lib/python3.10/site-packages (from requests>=2.1.0->tldextract->Scrapy) (2.0.4)\n",
      "Requirement already satisfied: certifi>=2017.4.17 in /Users/sagarshah/.pyenv/versions/3.10.7/envs/c4-chatbot/lib/python3.10/site-packages (from requests>=2.1.0->tldextract->Scrapy) (2023.7.22)\n",
      "Requirement already satisfied: charset-normalizer<4,>=2 in /Users/sagarshah/.pyenv/versions/3.10.7/envs/c4-chatbot/lib/python3.10/site-packages (from requests>=2.1.0->tldextract->Scrapy) (3.2.0)\n",
      "\n",
      "\u001b[1m[\u001b[0m\u001b[34;49mnotice\u001b[0m\u001b[1;39;49m]\u001b[0m\u001b[39;49m A new release of pip available: \u001b[0m\u001b[31;49m22.2.2\u001b[0m\u001b[39;49m -> \u001b[0m\u001b[32;49m23.2.1\u001b[0m\n",
      "\u001b[1m[\u001b[0m\u001b[34;49mnotice\u001b[0m\u001b[1;39;49m]\u001b[0m\u001b[39;49m To update, run: \u001b[0m\u001b[32;49mpip install --upgrade pip\u001b[0m\n",
      "Requirement already satisfied: html2text in /Users/sagarshah/.pyenv/versions/3.10.7/envs/c4-chatbot/lib/python3.10/site-packages (2020.1.16)\n",
      "\n",
      "\u001b[1m[\u001b[0m\u001b[34;49mnotice\u001b[0m\u001b[1;39;49m]\u001b[0m\u001b[39;49m A new release of pip available: \u001b[0m\u001b[31;49m22.2.2\u001b[0m\u001b[39;49m -> \u001b[0m\u001b[32;49m23.2.1\u001b[0m\n",
      "\u001b[1m[\u001b[0m\u001b[34;49mnotice\u001b[0m\u001b[1;39;49m]\u001b[0m\u001b[39;49m To update, run: \u001b[0m\u001b[32;49mpip install --upgrade pip\u001b[0m\n",
      "Requirement already satisfied: lxml in /Users/sagarshah/.pyenv/versions/3.10.7/envs/c4-chatbot/lib/python3.10/site-packages (4.9.3)\n",
      "\n",
      "\u001b[1m[\u001b[0m\u001b[34;49mnotice\u001b[0m\u001b[1;39;49m]\u001b[0m\u001b[39;49m A new release of pip available: \u001b[0m\u001b[31;49m22.2.2\u001b[0m\u001b[39;49m -> \u001b[0m\u001b[32;49m23.2.1\u001b[0m\n",
      "\u001b[1m[\u001b[0m\u001b[34;49mnotice\u001b[0m\u001b[1;39;49m]\u001b[0m\u001b[39;49m To update, run: \u001b[0m\u001b[32;49mpip install --upgrade pip\u001b[0m\n",
      "Requirement already satisfied: python-dotenv in /Users/sagarshah/.pyenv/versions/3.10.7/envs/c4-chatbot/lib/python3.10/site-packages (1.0.0)\n",
      "\n",
      "\u001b[1m[\u001b[0m\u001b[34;49mnotice\u001b[0m\u001b[1;39;49m]\u001b[0m\u001b[39;49m A new release of pip available: \u001b[0m\u001b[31;49m22.2.2\u001b[0m\u001b[39;49m -> \u001b[0m\u001b[32;49m23.2.1\u001b[0m\n",
      "\u001b[1m[\u001b[0m\u001b[34;49mnotice\u001b[0m\u001b[1;39;49m]\u001b[0m\u001b[39;49m To update, run: \u001b[0m\u001b[32;49mpip install --upgrade pip\u001b[0m\n",
      "Requirement already satisfied: unstructured[all-docs] in /Users/sagarshah/.pyenv/versions/3.10.7/envs/c4-chatbot/lib/python3.10/site-packages (0.10.11)\n",
      "Requirement already satisfied: nltk in /Users/sagarshah/.pyenv/versions/3.10.7/envs/c4-chatbot/lib/python3.10/site-packages (from unstructured[all-docs]) (3.8.1)\n",
      "Requirement already satisfied: filetype in /Users/sagarshah/.pyenv/versions/3.10.7/envs/c4-chatbot/lib/python3.10/site-packages (from unstructured[all-docs]) (1.2.0)\n",
      "Requirement already satisfied: chardet in /Users/sagarshah/.pyenv/versions/3.10.7/envs/c4-chatbot/lib/python3.10/site-packages (from unstructured[all-docs]) (5.2.0)\n",
      "Requirement already satisfied: beautifulsoup4 in /Users/sagarshah/.pyenv/versions/3.10.7/envs/c4-chatbot/lib/python3.10/site-packages (from unstructured[all-docs]) (4.12.2)\n",
      "Requirement already satisfied: requests in /Users/sagarshah/.pyenv/versions/3.10.7/envs/c4-chatbot/lib/python3.10/site-packages (from unstructured[all-docs]) (2.31.0)\n",
      "Requirement already satisfied: python-magic in /Users/sagarshah/.pyenv/versions/3.10.7/envs/c4-chatbot/lib/python3.10/site-packages (from unstructured[all-docs]) (0.4.27)\n",
      "Requirement already satisfied: emoji in /Users/sagarshah/.pyenv/versions/3.10.7/envs/c4-chatbot/lib/python3.10/site-packages (from unstructured[all-docs]) (2.8.0)\n",
      "Requirement already satisfied: tabulate in /Users/sagarshah/.pyenv/versions/3.10.7/envs/c4-chatbot/lib/python3.10/site-packages (from unstructured[all-docs]) (0.9.0)\n",
      "Requirement already satisfied: dataclasses-json in /Users/sagarshah/.pyenv/versions/3.10.7/envs/c4-chatbot/lib/python3.10/site-packages (from unstructured[all-docs]) (0.5.14)\n",
      "Requirement already satisfied: lxml in /Users/sagarshah/.pyenv/versions/3.10.7/envs/c4-chatbot/lib/python3.10/site-packages (from unstructured[all-docs]) (4.9.3)\n",
      "Requirement already satisfied: openpyxl in /Users/sagarshah/.pyenv/versions/3.10.7/envs/c4-chatbot/lib/python3.10/site-packages (from unstructured[all-docs]) (3.1.2)\n",
      "Requirement already satisfied: python-docx in /Users/sagarshah/.pyenv/versions/3.10.7/envs/c4-chatbot/lib/python3.10/site-packages (from unstructured[all-docs]) (0.8.11)\n",
      "Requirement already satisfied: ebooklib in /Users/sagarshah/.pyenv/versions/3.10.7/envs/c4-chatbot/lib/python3.10/site-packages (from unstructured[all-docs]) (0.18)\n",
      "Requirement already satisfied: msg-parser in /Users/sagarshah/.pyenv/versions/3.10.7/envs/c4-chatbot/lib/python3.10/site-packages (from unstructured[all-docs]) (1.2.0)\n",
      "Requirement already satisfied: unstructured-inference in /Users/sagarshah/.pyenv/versions/3.10.7/envs/c4-chatbot/lib/python3.10/site-packages (from unstructured[all-docs]) (0.5.19)\n",
      "Requirement already satisfied: Pillow<10 in /Users/sagarshah/.pyenv/versions/3.10.7/envs/c4-chatbot/lib/python3.10/site-packages (from unstructured[all-docs]) (9.5.0)\n",
      "Requirement already satisfied: pdfminer.six in /Users/sagarshah/.pyenv/versions/3.10.7/envs/c4-chatbot/lib/python3.10/site-packages (from unstructured[all-docs]) (20221105)\n",
      "Requirement already satisfied: pdf2image in /Users/sagarshah/.pyenv/versions/3.10.7/envs/c4-chatbot/lib/python3.10/site-packages (from unstructured[all-docs]) (1.16.3)\n",
      "Requirement already satisfied: markdown in /Users/sagarshah/.pyenv/versions/3.10.7/envs/c4-chatbot/lib/python3.10/site-packages (from unstructured[all-docs]) (3.4.4)\n",
      "Requirement already satisfied: pypandoc in /Users/sagarshah/.pyenv/versions/3.10.7/envs/c4-chatbot/lib/python3.10/site-packages (from unstructured[all-docs]) (1.11)\n",
      "Requirement already satisfied: python-pptx in /Users/sagarshah/.pyenv/versions/3.10.7/envs/c4-chatbot/lib/python3.10/site-packages (from unstructured[all-docs]) (0.6.22)\n",
      "Requirement already satisfied: pandas in /Users/sagarshah/.pyenv/versions/3.10.7/envs/c4-chatbot/lib/python3.10/site-packages (from unstructured[all-docs]) (2.1.0)\n",
      "Requirement already satisfied: xlrd in /Users/sagarshah/.pyenv/versions/3.10.7/envs/c4-chatbot/lib/python3.10/site-packages (from unstructured[all-docs]) (2.0.1)\n",
      "Requirement already satisfied: soupsieve>1.2 in /Users/sagarshah/.pyenv/versions/3.10.7/envs/c4-chatbot/lib/python3.10/site-packages (from beautifulsoup4->unstructured[all-docs]) (2.4.1)\n",
      "Requirement already satisfied: marshmallow<4.0.0,>=3.18.0 in /Users/sagarshah/.pyenv/versions/3.10.7/envs/c4-chatbot/lib/python3.10/site-packages (from dataclasses-json->unstructured[all-docs]) (3.20.1)\n",
      "Requirement already satisfied: typing-inspect<1,>=0.4.0 in /Users/sagarshah/.pyenv/versions/3.10.7/envs/c4-chatbot/lib/python3.10/site-packages (from dataclasses-json->unstructured[all-docs]) (0.9.0)\n",
      "Requirement already satisfied: six in /Users/sagarshah/.pyenv/versions/3.10.7/envs/c4-chatbot/lib/python3.10/site-packages (from ebooklib->unstructured[all-docs]) (1.16.0)\n",
      "Requirement already satisfied: olefile>=0.46 in /Users/sagarshah/.pyenv/versions/3.10.7/envs/c4-chatbot/lib/python3.10/site-packages (from msg-parser->unstructured[all-docs]) (0.46)\n",
      "Requirement already satisfied: joblib in /Users/sagarshah/.pyenv/versions/3.10.7/envs/c4-chatbot/lib/python3.10/site-packages (from nltk->unstructured[all-docs]) (1.3.2)\n",
      "Requirement already satisfied: regex>=2021.8.3 in /Users/sagarshah/.pyenv/versions/3.10.7/envs/c4-chatbot/lib/python3.10/site-packages (from nltk->unstructured[all-docs]) (2023.8.8)\n",
      "Requirement already satisfied: click in /Users/sagarshah/.pyenv/versions/3.10.7/envs/c4-chatbot/lib/python3.10/site-packages (from nltk->unstructured[all-docs]) (8.1.7)\n",
      "Requirement already satisfied: tqdm in /Users/sagarshah/.pyenv/versions/3.10.7/envs/c4-chatbot/lib/python3.10/site-packages (from nltk->unstructured[all-docs]) (4.64.1)\n",
      "Requirement already satisfied: et-xmlfile in /Users/sagarshah/.pyenv/versions/3.10.7/envs/c4-chatbot/lib/python3.10/site-packages (from openpyxl->unstructured[all-docs]) (1.1.0)\n",
      "Requirement already satisfied: numpy>=1.22.4 in /Users/sagarshah/.pyenv/versions/3.10.7/envs/c4-chatbot/lib/python3.10/site-packages (from pandas->unstructured[all-docs]) (1.25.2)\n",
      "Requirement already satisfied: pytz>=2020.1 in /Users/sagarshah/.pyenv/versions/3.10.7/envs/c4-chatbot/lib/python3.10/site-packages (from pandas->unstructured[all-docs]) (2023.3)\n",
      "Requirement already satisfied: python-dateutil>=2.8.2 in /Users/sagarshah/.pyenv/versions/3.10.7/envs/c4-chatbot/lib/python3.10/site-packages (from pandas->unstructured[all-docs]) (2.8.2)\n",
      "Requirement already satisfied: tzdata>=2022.1 in /Users/sagarshah/.pyenv/versions/3.10.7/envs/c4-chatbot/lib/python3.10/site-packages (from pandas->unstructured[all-docs]) (2023.3)\n",
      "Requirement already satisfied: charset-normalizer>=2.0.0 in /Users/sagarshah/.pyenv/versions/3.10.7/envs/c4-chatbot/lib/python3.10/site-packages (from pdfminer.six->unstructured[all-docs]) (3.2.0)\n",
      "Requirement already satisfied: cryptography>=36.0.0 in /Users/sagarshah/.pyenv/versions/3.10.7/envs/c4-chatbot/lib/python3.10/site-packages (from pdfminer.six->unstructured[all-docs]) (41.0.3)\n",
      "Requirement already satisfied: XlsxWriter>=0.5.7 in /Users/sagarshah/.pyenv/versions/3.10.7/envs/c4-chatbot/lib/python3.10/site-packages (from python-pptx->unstructured[all-docs]) (3.1.2)\n",
      "Requirement already satisfied: urllib3<3,>=1.21.1 in /Users/sagarshah/.pyenv/versions/3.10.7/envs/c4-chatbot/lib/python3.10/site-packages (from requests->unstructured[all-docs]) (2.0.4)\n",
      "Requirement already satisfied: idna<4,>=2.5 in /Users/sagarshah/.pyenv/versions/3.10.7/envs/c4-chatbot/lib/python3.10/site-packages (from requests->unstructured[all-docs]) (3.4)\n",
      "Requirement already satisfied: certifi>=2017.4.17 in /Users/sagarshah/.pyenv/versions/3.10.7/envs/c4-chatbot/lib/python3.10/site-packages (from requests->unstructured[all-docs]) (2023.7.22)\n",
      "Requirement already satisfied: opencv-python!=4.7.0.68 in /Users/sagarshah/.pyenv/versions/3.10.7/envs/c4-chatbot/lib/python3.10/site-packages (from unstructured-inference->unstructured[all-docs]) (4.8.0.76)\n",
      "Requirement already satisfied: onnxruntime in /Users/sagarshah/.pyenv/versions/3.10.7/envs/c4-chatbot/lib/python3.10/site-packages (from unstructured-inference->unstructured[all-docs]) (1.15.1)\n",
      "Requirement already satisfied: huggingface-hub in /Users/sagarshah/.pyenv/versions/3.10.7/envs/c4-chatbot/lib/python3.10/site-packages (from unstructured-inference->unstructured[all-docs]) (0.16.4)\n",
      "Requirement already satisfied: python-multipart in /Users/sagarshah/.pyenv/versions/3.10.7/envs/c4-chatbot/lib/python3.10/site-packages (from unstructured-inference->unstructured[all-docs]) (0.0.6)\n",
      "Requirement already satisfied: transformers>=4.25.1 in /Users/sagarshah/.pyenv/versions/3.10.7/envs/c4-chatbot/lib/python3.10/site-packages (from unstructured-inference->unstructured[all-docs]) (4.32.1)\n",
      "Requirement already satisfied: layoutparser[layoutmodels,tesseract] in /Users/sagarshah/.pyenv/versions/3.10.7/envs/c4-chatbot/lib/python3.10/site-packages (from unstructured-inference->unstructured[all-docs]) (0.3.4)\n",
      "Requirement already satisfied: cffi>=1.12 in /Users/sagarshah/.pyenv/versions/3.10.7/envs/c4-chatbot/lib/python3.10/site-packages (from cryptography>=36.0.0->pdfminer.six->unstructured[all-docs]) (1.15.1)\n",
      "Requirement already satisfied: packaging>=17.0 in /Users/sagarshah/.pyenv/versions/3.10.7/envs/c4-chatbot/lib/python3.10/site-packages (from marshmallow<4.0.0,>=3.18.0->dataclasses-json->unstructured[all-docs]) (23.1)\n",
      "Requirement already satisfied: pyyaml>=5.1 in /Users/sagarshah/.pyenv/versions/3.10.7/envs/c4-chatbot/lib/python3.10/site-packages (from transformers>=4.25.1->unstructured-inference->unstructured[all-docs]) (6.0.1)\n",
      "Requirement already satisfied: tokenizers!=0.11.3,<0.14,>=0.11.1 in /Users/sagarshah/.pyenv/versions/3.10.7/envs/c4-chatbot/lib/python3.10/site-packages (from transformers>=4.25.1->unstructured-inference->unstructured[all-docs]) (0.13.3)\n",
      "Requirement already satisfied: filelock in /Users/sagarshah/.pyenv/versions/3.10.7/envs/c4-chatbot/lib/python3.10/site-packages (from transformers>=4.25.1->unstructured-inference->unstructured[all-docs]) (3.12.3)\n",
      "Requirement already satisfied: safetensors>=0.3.1 in /Users/sagarshah/.pyenv/versions/3.10.7/envs/c4-chatbot/lib/python3.10/site-packages (from transformers>=4.25.1->unstructured-inference->unstructured[all-docs]) (0.3.3)\n",
      "Requirement already satisfied: typing-extensions>=3.7.4.3 in /Users/sagarshah/.pyenv/versions/3.10.7/envs/c4-chatbot/lib/python3.10/site-packages (from huggingface-hub->unstructured-inference->unstructured[all-docs]) (4.7.1)\n",
      "Requirement already satisfied: fsspec in /Users/sagarshah/.pyenv/versions/3.10.7/envs/c4-chatbot/lib/python3.10/site-packages (from huggingface-hub->unstructured-inference->unstructured[all-docs]) (2023.6.0)\n",
      "Requirement already satisfied: mypy-extensions>=0.3.0 in /Users/sagarshah/.pyenv/versions/3.10.7/envs/c4-chatbot/lib/python3.10/site-packages (from typing-inspect<1,>=0.4.0->dataclasses-json->unstructured[all-docs]) (1.0.0)\n",
      "Requirement already satisfied: pdfplumber in /Users/sagarshah/.pyenv/versions/3.10.7/envs/c4-chatbot/lib/python3.10/site-packages (from layoutparser[layoutmodels,tesseract]->unstructured-inference->unstructured[all-docs]) (0.10.2)\n",
      "Requirement already satisfied: scipy in /Users/sagarshah/.pyenv/versions/3.10.7/envs/c4-chatbot/lib/python3.10/site-packages (from layoutparser[layoutmodels,tesseract]->unstructured-inference->unstructured[all-docs]) (1.11.2)\n",
      "Requirement already satisfied: iopath in /Users/sagarshah/.pyenv/versions/3.10.7/envs/c4-chatbot/lib/python3.10/site-packages (from layoutparser[layoutmodels,tesseract]->unstructured-inference->unstructured[all-docs]) (0.1.10)\n",
      "Requirement already satisfied: pytesseract in /Users/sagarshah/.pyenv/versions/3.10.7/envs/c4-chatbot/lib/python3.10/site-packages (from layoutparser[layoutmodels,tesseract]->unstructured-inference->unstructured[all-docs]) (0.3.10)\n",
      "Requirement already satisfied: effdet in /Users/sagarshah/.pyenv/versions/3.10.7/envs/c4-chatbot/lib/python3.10/site-packages (from layoutparser[layoutmodels,tesseract]->unstructured-inference->unstructured[all-docs]) (0.4.1)\n",
      "Requirement already satisfied: torchvision in /Users/sagarshah/.pyenv/versions/3.10.7/envs/c4-chatbot/lib/python3.10/site-packages (from layoutparser[layoutmodels,tesseract]->unstructured-inference->unstructured[all-docs]) (0.15.2)\n",
      "Requirement already satisfied: torch in /Users/sagarshah/.pyenv/versions/3.10.7/envs/c4-chatbot/lib/python3.10/site-packages (from layoutparser[layoutmodels,tesseract]->unstructured-inference->unstructured[all-docs]) (2.0.1)\n",
      "Requirement already satisfied: sympy in /Users/sagarshah/.pyenv/versions/3.10.7/envs/c4-chatbot/lib/python3.10/site-packages (from onnxruntime->unstructured-inference->unstructured[all-docs]) (1.12)\n",
      "Requirement already satisfied: protobuf in /Users/sagarshah/.pyenv/versions/3.10.7/envs/c4-chatbot/lib/python3.10/site-packages (from onnxruntime->unstructured-inference->unstructured[all-docs]) (4.24.2)\n",
      "Requirement already satisfied: coloredlogs in /Users/sagarshah/.pyenv/versions/3.10.7/envs/c4-chatbot/lib/python3.10/site-packages (from onnxruntime->unstructured-inference->unstructured[all-docs]) (15.0.1)\n",
      "Requirement already satisfied: flatbuffers in /Users/sagarshah/.pyenv/versions/3.10.7/envs/c4-chatbot/lib/python3.10/site-packages (from onnxruntime->unstructured-inference->unstructured[all-docs]) (23.5.26)\n",
      "Requirement already satisfied: pycparser in /Users/sagarshah/.pyenv/versions/3.10.7/envs/c4-chatbot/lib/python3.10/site-packages (from cffi>=1.12->cryptography>=36.0.0->pdfminer.six->unstructured[all-docs]) (2.21)\n",
      "Requirement already satisfied: humanfriendly>=9.1 in /Users/sagarshah/.pyenv/versions/3.10.7/envs/c4-chatbot/lib/python3.10/site-packages (from coloredlogs->onnxruntime->unstructured-inference->unstructured[all-docs]) (10.0)\n",
      "Requirement already satisfied: pycocotools>=2.0.2 in /Users/sagarshah/.pyenv/versions/3.10.7/envs/c4-chatbot/lib/python3.10/site-packages (from effdet->layoutparser[layoutmodels,tesseract]->unstructured-inference->unstructured[all-docs]) (2.0.7)\n",
      "Requirement already satisfied: omegaconf>=2.0 in /Users/sagarshah/.pyenv/versions/3.10.7/envs/c4-chatbot/lib/python3.10/site-packages (from effdet->layoutparser[layoutmodels,tesseract]->unstructured-inference->unstructured[all-docs]) (2.3.0)\n",
      "Requirement already satisfied: timm>=0.9.2 in /Users/sagarshah/.pyenv/versions/3.10.7/envs/c4-chatbot/lib/python3.10/site-packages (from effdet->layoutparser[layoutmodels,tesseract]->unstructured-inference->unstructured[all-docs]) (0.9.6)\n",
      "Requirement already satisfied: networkx in /Users/sagarshah/.pyenv/versions/3.10.7/envs/c4-chatbot/lib/python3.10/site-packages (from torch->layoutparser[layoutmodels,tesseract]->unstructured-inference->unstructured[all-docs]) (3.1)\n",
      "Requirement already satisfied: jinja2 in /Users/sagarshah/.pyenv/versions/3.10.7/envs/c4-chatbot/lib/python3.10/site-packages (from torch->layoutparser[layoutmodels,tesseract]->unstructured-inference->unstructured[all-docs]) (3.1.2)\n",
      "Requirement already satisfied: portalocker in /Users/sagarshah/.pyenv/versions/3.10.7/envs/c4-chatbot/lib/python3.10/site-packages (from iopath->layoutparser[layoutmodels,tesseract]->unstructured-inference->unstructured[all-docs]) (2.7.0)\n",
      "Requirement already satisfied: pypdfium2>=4.18.0 in /Users/sagarshah/.pyenv/versions/3.10.7/envs/c4-chatbot/lib/python3.10/site-packages (from pdfplumber->layoutparser[layoutmodels,tesseract]->unstructured-inference->unstructured[all-docs]) (4.19.0)\n",
      "Requirement already satisfied: mpmath>=0.19 in /Users/sagarshah/.pyenv/versions/3.10.7/envs/c4-chatbot/lib/python3.10/site-packages (from sympy->onnxruntime->unstructured-inference->unstructured[all-docs]) (1.3.0)\n",
      "Requirement already satisfied: antlr4-python3-runtime==4.9.* in /Users/sagarshah/.pyenv/versions/3.10.7/envs/c4-chatbot/lib/python3.10/site-packages (from omegaconf>=2.0->effdet->layoutparser[layoutmodels,tesseract]->unstructured-inference->unstructured[all-docs]) (4.9.3)\n",
      "Requirement already satisfied: matplotlib>=2.1.0 in /Users/sagarshah/.pyenv/versions/3.10.7/envs/c4-chatbot/lib/python3.10/site-packages (from pycocotools>=2.0.2->effdet->layoutparser[layoutmodels,tesseract]->unstructured-inference->unstructured[all-docs]) (3.7.2)\n",
      "Requirement already satisfied: MarkupSafe>=2.0 in /Users/sagarshah/.pyenv/versions/3.10.7/envs/c4-chatbot/lib/python3.10/site-packages (from jinja2->torch->layoutparser[layoutmodels,tesseract]->unstructured-inference->unstructured[all-docs]) (2.1.3)\n",
      "Requirement already satisfied: cycler>=0.10 in /Users/sagarshah/.pyenv/versions/3.10.7/envs/c4-chatbot/lib/python3.10/site-packages (from matplotlib>=2.1.0->pycocotools>=2.0.2->effdet->layoutparser[layoutmodels,tesseract]->unstructured-inference->unstructured[all-docs]) (0.11.0)\n",
      "Requirement already satisfied: kiwisolver>=1.0.1 in /Users/sagarshah/.pyenv/versions/3.10.7/envs/c4-chatbot/lib/python3.10/site-packages (from matplotlib>=2.1.0->pycocotools>=2.0.2->effdet->layoutparser[layoutmodels,tesseract]->unstructured-inference->unstructured[all-docs]) (1.4.5)\n",
      "Requirement already satisfied: pyparsing<3.1,>=2.3.1 in /Users/sagarshah/.pyenv/versions/3.10.7/envs/c4-chatbot/lib/python3.10/site-packages (from matplotlib>=2.1.0->pycocotools>=2.0.2->effdet->layoutparser[layoutmodels,tesseract]->unstructured-inference->unstructured[all-docs]) (3.0.9)\n",
      "Requirement already satisfied: contourpy>=1.0.1 in /Users/sagarshah/.pyenv/versions/3.10.7/envs/c4-chatbot/lib/python3.10/site-packages (from matplotlib>=2.1.0->pycocotools>=2.0.2->effdet->layoutparser[layoutmodels,tesseract]->unstructured-inference->unstructured[all-docs]) (1.1.0)\n",
      "Requirement already satisfied: fonttools>=4.22.0 in /Users/sagarshah/.pyenv/versions/3.10.7/envs/c4-chatbot/lib/python3.10/site-packages (from matplotlib>=2.1.0->pycocotools>=2.0.2->effdet->layoutparser[layoutmodels,tesseract]->unstructured-inference->unstructured[all-docs]) (4.42.1)\n",
      "\n",
      "\u001b[1m[\u001b[0m\u001b[34;49mnotice\u001b[0m\u001b[1;39;49m]\u001b[0m\u001b[39;49m A new release of pip available: \u001b[0m\u001b[31;49m22.2.2\u001b[0m\u001b[39;49m -> \u001b[0m\u001b[32;49m23.2.1\u001b[0m\n",
      "\u001b[1m[\u001b[0m\u001b[34;49mnotice\u001b[0m\u001b[1;39;49m]\u001b[0m\u001b[39;49m To update, run: \u001b[0m\u001b[32;49mpip install --upgrade pip\u001b[0m\n",
      "Requirement already satisfied: tiktoken in /Users/sagarshah/.pyenv/versions/3.10.7/envs/c4-chatbot/lib/python3.10/site-packages (0.4.0)\n",
      "Requirement already satisfied: regex>=2022.1.18 in /Users/sagarshah/.pyenv/versions/3.10.7/envs/c4-chatbot/lib/python3.10/site-packages (from tiktoken) (2023.8.8)\n",
      "Requirement already satisfied: requests>=2.26.0 in /Users/sagarshah/.pyenv/versions/3.10.7/envs/c4-chatbot/lib/python3.10/site-packages (from tiktoken) (2.31.0)\n",
      "Requirement already satisfied: charset-normalizer<4,>=2 in /Users/sagarshah/.pyenv/versions/3.10.7/envs/c4-chatbot/lib/python3.10/site-packages (from requests>=2.26.0->tiktoken) (3.2.0)\n",
      "Requirement already satisfied: urllib3<3,>=1.21.1 in /Users/sagarshah/.pyenv/versions/3.10.7/envs/c4-chatbot/lib/python3.10/site-packages (from requests>=2.26.0->tiktoken) (2.0.4)\n",
      "Requirement already satisfied: idna<4,>=2.5 in /Users/sagarshah/.pyenv/versions/3.10.7/envs/c4-chatbot/lib/python3.10/site-packages (from requests>=2.26.0->tiktoken) (3.4)\n",
      "Requirement already satisfied: certifi>=2017.4.17 in /Users/sagarshah/.pyenv/versions/3.10.7/envs/c4-chatbot/lib/python3.10/site-packages (from requests>=2.26.0->tiktoken) (2023.7.22)\n",
      "\n",
      "\u001b[1m[\u001b[0m\u001b[34;49mnotice\u001b[0m\u001b[1;39;49m]\u001b[0m\u001b[39;49m A new release of pip available: \u001b[0m\u001b[31;49m22.2.2\u001b[0m\u001b[39;49m -> \u001b[0m\u001b[32;49m23.2.1\u001b[0m\n",
      "\u001b[1m[\u001b[0m\u001b[34;49mnotice\u001b[0m\u001b[1;39;49m]\u001b[0m\u001b[39;49m To update, run: \u001b[0m\u001b[32;49mpip install --upgrade pip\u001b[0m\n",
      "Requirement already satisfied: faiss-cpu in /Users/sagarshah/.pyenv/versions/3.10.7/envs/c4-chatbot/lib/python3.10/site-packages (1.7.4)\n",
      "\n",
      "\u001b[1m[\u001b[0m\u001b[34;49mnotice\u001b[0m\u001b[1;39;49m]\u001b[0m\u001b[39;49m A new release of pip available: \u001b[0m\u001b[31;49m22.2.2\u001b[0m\u001b[39;49m -> \u001b[0m\u001b[32;49m23.2.1\u001b[0m\n",
      "\u001b[1m[\u001b[0m\u001b[34;49mnotice\u001b[0m\u001b[1;39;49m]\u001b[0m\u001b[39;49m To update, run: \u001b[0m\u001b[32;49mpip install --upgrade pip\u001b[0m\n",
      "Requirement already satisfied: GitPython in /Users/sagarshah/.pyenv/versions/3.10.7/envs/c4-chatbot/lib/python3.10/site-packages (3.1.33)\n",
      "Requirement already satisfied: gitdb<5,>=4.0.1 in /Users/sagarshah/.pyenv/versions/3.10.7/envs/c4-chatbot/lib/python3.10/site-packages (from GitPython) (4.0.10)\n",
      "Requirement already satisfied: smmap<6,>=3.0.1 in /Users/sagarshah/.pyenv/versions/3.10.7/envs/c4-chatbot/lib/python3.10/site-packages (from gitdb<5,>=4.0.1->GitPython) (5.0.0)\n",
      "\n",
      "\u001b[1m[\u001b[0m\u001b[34;49mnotice\u001b[0m\u001b[1;39;49m]\u001b[0m\u001b[39;49m A new release of pip available: \u001b[0m\u001b[31;49m22.2.2\u001b[0m\u001b[39;49m -> \u001b[0m\u001b[32;49m23.2.1\u001b[0m\n",
      "\u001b[1m[\u001b[0m\u001b[34;49mnotice\u001b[0m\u001b[1;39;49m]\u001b[0m\u001b[39;49m To update, run: \u001b[0m\u001b[32;49mpip install --upgrade pip\u001b[0m\n",
      "Requirement already satisfied: notebook in /Users/sagarshah/.pyenv/versions/3.10.7/envs/c4-chatbot/lib/python3.10/site-packages (7.0.3)\n",
      "Requirement already satisfied: tornado>=6.2.0 in /Users/sagarshah/.pyenv/versions/3.10.7/envs/c4-chatbot/lib/python3.10/site-packages (from notebook) (6.3.3)\n",
      "Requirement already satisfied: notebook-shim<0.3,>=0.2 in /Users/sagarshah/.pyenv/versions/3.10.7/envs/c4-chatbot/lib/python3.10/site-packages (from notebook) (0.2.3)\n",
      "Requirement already satisfied: jupyterlab-server<3,>=2.22.1 in /Users/sagarshah/.pyenv/versions/3.10.7/envs/c4-chatbot/lib/python3.10/site-packages (from notebook) (2.24.0)\n",
      "Requirement already satisfied: jupyter-server<3,>=2.4.0 in /Users/sagarshah/.pyenv/versions/3.10.7/envs/c4-chatbot/lib/python3.10/site-packages (from notebook) (2.7.3)\n",
      "Requirement already satisfied: jupyterlab<5,>=4.0.2 in /Users/sagarshah/.pyenv/versions/3.10.7/envs/c4-chatbot/lib/python3.10/site-packages (from notebook) (4.0.5)\n",
      "Requirement already satisfied: jupyter-events>=0.6.0 in /Users/sagarshah/.pyenv/versions/3.10.7/envs/c4-chatbot/lib/python3.10/site-packages (from jupyter-server<3,>=2.4.0->notebook) (0.7.0)\n",
      "Requirement already satisfied: anyio>=3.1.0 in /Users/sagarshah/.pyenv/versions/3.10.7/envs/c4-chatbot/lib/python3.10/site-packages (from jupyter-server<3,>=2.4.0->notebook) (4.0.0)\n",
      "Requirement already satisfied: pyzmq>=24 in /Users/sagarshah/.pyenv/versions/3.10.7/envs/c4-chatbot/lib/python3.10/site-packages (from jupyter-server<3,>=2.4.0->notebook) (25.1.1)\n",
      "Requirement already satisfied: jinja2 in /Users/sagarshah/.pyenv/versions/3.10.7/envs/c4-chatbot/lib/python3.10/site-packages (from jupyter-server<3,>=2.4.0->notebook) (3.1.2)\n",
      "Requirement already satisfied: prometheus-client in /Users/sagarshah/.pyenv/versions/3.10.7/envs/c4-chatbot/lib/python3.10/site-packages (from jupyter-server<3,>=2.4.0->notebook) (0.17.1)\n",
      "Requirement already satisfied: websocket-client in /Users/sagarshah/.pyenv/versions/3.10.7/envs/c4-chatbot/lib/python3.10/site-packages (from jupyter-server<3,>=2.4.0->notebook) (1.6.2)\n",
      "Requirement already satisfied: traitlets>=5.6.0 in /Users/sagarshah/.pyenv/versions/3.10.7/envs/c4-chatbot/lib/python3.10/site-packages (from jupyter-server<3,>=2.4.0->notebook) (5.9.0)\n",
      "Requirement already satisfied: jupyter-client>=7.4.4 in /Users/sagarshah/.pyenv/versions/3.10.7/envs/c4-chatbot/lib/python3.10/site-packages (from jupyter-server<3,>=2.4.0->notebook) (8.3.1)\n",
      "Requirement already satisfied: packaging in /Users/sagarshah/.pyenv/versions/3.10.7/envs/c4-chatbot/lib/python3.10/site-packages (from jupyter-server<3,>=2.4.0->notebook) (23.1)\n",
      "Requirement already satisfied: terminado>=0.8.3 in /Users/sagarshah/.pyenv/versions/3.10.7/envs/c4-chatbot/lib/python3.10/site-packages (from jupyter-server<3,>=2.4.0->notebook) (0.17.1)\n",
      "Requirement already satisfied: send2trash>=1.8.2 in /Users/sagarshah/.pyenv/versions/3.10.7/envs/c4-chatbot/lib/python3.10/site-packages (from jupyter-server<3,>=2.4.0->notebook) (1.8.2)\n",
      "Requirement already satisfied: jupyter-server-terminals in /Users/sagarshah/.pyenv/versions/3.10.7/envs/c4-chatbot/lib/python3.10/site-packages (from jupyter-server<3,>=2.4.0->notebook) (0.4.4)\n",
      "Requirement already satisfied: nbformat>=5.3.0 in /Users/sagarshah/.pyenv/versions/3.10.7/envs/c4-chatbot/lib/python3.10/site-packages (from jupyter-server<3,>=2.4.0->notebook) (5.9.2)\n",
      "Requirement already satisfied: overrides in /Users/sagarshah/.pyenv/versions/3.10.7/envs/c4-chatbot/lib/python3.10/site-packages (from jupyter-server<3,>=2.4.0->notebook) (7.4.0)\n",
      "Requirement already satisfied: argon2-cffi in /Users/sagarshah/.pyenv/versions/3.10.7/envs/c4-chatbot/lib/python3.10/site-packages (from jupyter-server<3,>=2.4.0->notebook) (23.1.0)\n",
      "Requirement already satisfied: nbconvert>=6.4.4 in /Users/sagarshah/.pyenv/versions/3.10.7/envs/c4-chatbot/lib/python3.10/site-packages (from jupyter-server<3,>=2.4.0->notebook) (7.8.0)\n",
      "Requirement already satisfied: jupyter-core!=5.0.*,>=4.12 in /Users/sagarshah/.pyenv/versions/3.10.7/envs/c4-chatbot/lib/python3.10/site-packages (from jupyter-server<3,>=2.4.0->notebook) (5.3.1)\n",
      "Requirement already satisfied: jupyter-lsp>=2.0.0 in /Users/sagarshah/.pyenv/versions/3.10.7/envs/c4-chatbot/lib/python3.10/site-packages (from jupyterlab<5,>=4.0.2->notebook) (2.2.0)\n",
      "Requirement already satisfied: ipykernel in /Users/sagarshah/.pyenv/versions/3.10.7/envs/c4-chatbot/lib/python3.10/site-packages (from jupyterlab<5,>=4.0.2->notebook) (6.25.1)\n",
      "Requirement already satisfied: async-lru>=1.0.0 in /Users/sagarshah/.pyenv/versions/3.10.7/envs/c4-chatbot/lib/python3.10/site-packages (from jupyterlab<5,>=4.0.2->notebook) (2.0.4)\n",
      "Requirement already satisfied: tomli in /Users/sagarshah/.pyenv/versions/3.10.7/envs/c4-chatbot/lib/python3.10/site-packages (from jupyterlab<5,>=4.0.2->notebook) (2.0.1)\n",
      "Requirement already satisfied: json5>=0.9.0 in /Users/sagarshah/.pyenv/versions/3.10.7/envs/c4-chatbot/lib/python3.10/site-packages (from jupyterlab-server<3,>=2.22.1->notebook) (0.9.14)\n",
      "Requirement already satisfied: jsonschema>=4.17.3 in /Users/sagarshah/.pyenv/versions/3.10.7/envs/c4-chatbot/lib/python3.10/site-packages (from jupyterlab-server<3,>=2.22.1->notebook) (4.19.0)\n",
      "Requirement already satisfied: babel>=2.10 in /Users/sagarshah/.pyenv/versions/3.10.7/envs/c4-chatbot/lib/python3.10/site-packages (from jupyterlab-server<3,>=2.22.1->notebook) (2.12.1)\n",
      "Requirement already satisfied: requests>=2.28 in /Users/sagarshah/.pyenv/versions/3.10.7/envs/c4-chatbot/lib/python3.10/site-packages (from jupyterlab-server<3,>=2.22.1->notebook) (2.31.0)\n",
      "Requirement already satisfied: sniffio>=1.1 in /Users/sagarshah/.pyenv/versions/3.10.7/envs/c4-chatbot/lib/python3.10/site-packages (from anyio>=3.1.0->jupyter-server<3,>=2.4.0->notebook) (1.3.0)\n",
      "Requirement already satisfied: idna>=2.8 in /Users/sagarshah/.pyenv/versions/3.10.7/envs/c4-chatbot/lib/python3.10/site-packages (from anyio>=3.1.0->jupyter-server<3,>=2.4.0->notebook) (3.4)\n",
      "Requirement already satisfied: exceptiongroup>=1.0.2 in /Users/sagarshah/.pyenv/versions/3.10.7/envs/c4-chatbot/lib/python3.10/site-packages (from anyio>=3.1.0->jupyter-server<3,>=2.4.0->notebook) (1.1.3)\n",
      "Requirement already satisfied: typing-extensions>=4.0.0 in /Users/sagarshah/.pyenv/versions/3.10.7/envs/c4-chatbot/lib/python3.10/site-packages (from async-lru>=1.0.0->jupyterlab<5,>=4.0.2->notebook) (4.7.1)\n",
      "Requirement already satisfied: MarkupSafe>=2.0 in /Users/sagarshah/.pyenv/versions/3.10.7/envs/c4-chatbot/lib/python3.10/site-packages (from jinja2->jupyter-server<3,>=2.4.0->notebook) (2.1.3)\n",
      "Requirement already satisfied: referencing>=0.28.4 in /Users/sagarshah/.pyenv/versions/3.10.7/envs/c4-chatbot/lib/python3.10/site-packages (from jsonschema>=4.17.3->jupyterlab-server<3,>=2.22.1->notebook) (0.30.2)\n",
      "Requirement already satisfied: jsonschema-specifications>=2023.03.6 in /Users/sagarshah/.pyenv/versions/3.10.7/envs/c4-chatbot/lib/python3.10/site-packages (from jsonschema>=4.17.3->jupyterlab-server<3,>=2.22.1->notebook) (2023.7.1)\n",
      "Requirement already satisfied: rpds-py>=0.7.1 in /Users/sagarshah/.pyenv/versions/3.10.7/envs/c4-chatbot/lib/python3.10/site-packages (from jsonschema>=4.17.3->jupyterlab-server<3,>=2.22.1->notebook) (0.10.2)\n",
      "Requirement already satisfied: attrs>=22.2.0 in /Users/sagarshah/.pyenv/versions/3.10.7/envs/c4-chatbot/lib/python3.10/site-packages (from jsonschema>=4.17.3->jupyterlab-server<3,>=2.22.1->notebook) (23.1.0)\n",
      "Requirement already satisfied: python-dateutil>=2.8.2 in /Users/sagarshah/.pyenv/versions/3.10.7/envs/c4-chatbot/lib/python3.10/site-packages (from jupyter-client>=7.4.4->jupyter-server<3,>=2.4.0->notebook) (2.8.2)\n",
      "Requirement already satisfied: platformdirs>=2.5 in /Users/sagarshah/.pyenv/versions/3.10.7/envs/c4-chatbot/lib/python3.10/site-packages (from jupyter-core!=5.0.*,>=4.12->jupyter-server<3,>=2.4.0->notebook) (3.10.0)\n",
      "Requirement already satisfied: rfc3339-validator in /Users/sagarshah/.pyenv/versions/3.10.7/envs/c4-chatbot/lib/python3.10/site-packages (from jupyter-events>=0.6.0->jupyter-server<3,>=2.4.0->notebook) (0.1.4)\n",
      "Requirement already satisfied: python-json-logger>=2.0.4 in /Users/sagarshah/.pyenv/versions/3.10.7/envs/c4-chatbot/lib/python3.10/site-packages (from jupyter-events>=0.6.0->jupyter-server<3,>=2.4.0->notebook) (2.0.7)\n",
      "Requirement already satisfied: pyyaml>=5.3 in /Users/sagarshah/.pyenv/versions/3.10.7/envs/c4-chatbot/lib/python3.10/site-packages (from jupyter-events>=0.6.0->jupyter-server<3,>=2.4.0->notebook) (6.0.1)\n",
      "Requirement already satisfied: rfc3986-validator>=0.1.1 in /Users/sagarshah/.pyenv/versions/3.10.7/envs/c4-chatbot/lib/python3.10/site-packages (from jupyter-events>=0.6.0->jupyter-server<3,>=2.4.0->notebook) (0.1.1)\n",
      "Requirement already satisfied: mistune<4,>=2.0.3 in /Users/sagarshah/.pyenv/versions/3.10.7/envs/c4-chatbot/lib/python3.10/site-packages (from nbconvert>=6.4.4->jupyter-server<3,>=2.4.0->notebook) (3.0.1)\n",
      "Requirement already satisfied: beautifulsoup4 in /Users/sagarshah/.pyenv/versions/3.10.7/envs/c4-chatbot/lib/python3.10/site-packages (from nbconvert>=6.4.4->jupyter-server<3,>=2.4.0->notebook) (4.12.2)\n",
      "Requirement already satisfied: bleach!=5.0.0 in /Users/sagarshah/.pyenv/versions/3.10.7/envs/c4-chatbot/lib/python3.10/site-packages (from nbconvert>=6.4.4->jupyter-server<3,>=2.4.0->notebook) (6.0.0)\n",
      "Requirement already satisfied: jupyterlab-pygments in /Users/sagarshah/.pyenv/versions/3.10.7/envs/c4-chatbot/lib/python3.10/site-packages (from nbconvert>=6.4.4->jupyter-server<3,>=2.4.0->notebook) (0.2.2)\n",
      "Requirement already satisfied: defusedxml in /Users/sagarshah/.pyenv/versions/3.10.7/envs/c4-chatbot/lib/python3.10/site-packages (from nbconvert>=6.4.4->jupyter-server<3,>=2.4.0->notebook) (0.7.1)\n",
      "Requirement already satisfied: pandocfilters>=1.4.1 in /Users/sagarshah/.pyenv/versions/3.10.7/envs/c4-chatbot/lib/python3.10/site-packages (from nbconvert>=6.4.4->jupyter-server<3,>=2.4.0->notebook) (1.5.0)\n",
      "Requirement already satisfied: tinycss2 in /Users/sagarshah/.pyenv/versions/3.10.7/envs/c4-chatbot/lib/python3.10/site-packages (from nbconvert>=6.4.4->jupyter-server<3,>=2.4.0->notebook) (1.2.1)\n",
      "Requirement already satisfied: nbclient>=0.5.0 in /Users/sagarshah/.pyenv/versions/3.10.7/envs/c4-chatbot/lib/python3.10/site-packages (from nbconvert>=6.4.4->jupyter-server<3,>=2.4.0->notebook) (0.8.0)\n",
      "Requirement already satisfied: pygments>=2.4.1 in /Users/sagarshah/.pyenv/versions/3.10.7/envs/c4-chatbot/lib/python3.10/site-packages (from nbconvert>=6.4.4->jupyter-server<3,>=2.4.0->notebook) (2.16.1)\n",
      "Requirement already satisfied: fastjsonschema in /Users/sagarshah/.pyenv/versions/3.10.7/envs/c4-chatbot/lib/python3.10/site-packages (from nbformat>=5.3.0->jupyter-server<3,>=2.4.0->notebook) (2.18.0)\n",
      "Requirement already satisfied: certifi>=2017.4.17 in /Users/sagarshah/.pyenv/versions/3.10.7/envs/c4-chatbot/lib/python3.10/site-packages (from requests>=2.28->jupyterlab-server<3,>=2.22.1->notebook) (2023.7.22)\n",
      "Requirement already satisfied: urllib3<3,>=1.21.1 in /Users/sagarshah/.pyenv/versions/3.10.7/envs/c4-chatbot/lib/python3.10/site-packages (from requests>=2.28->jupyterlab-server<3,>=2.22.1->notebook) (2.0.4)\n",
      "Requirement already satisfied: charset-normalizer<4,>=2 in /Users/sagarshah/.pyenv/versions/3.10.7/envs/c4-chatbot/lib/python3.10/site-packages (from requests>=2.28->jupyterlab-server<3,>=2.22.1->notebook) (3.2.0)\n",
      "Requirement already satisfied: ptyprocess in /Users/sagarshah/.pyenv/versions/3.10.7/envs/c4-chatbot/lib/python3.10/site-packages (from terminado>=0.8.3->jupyter-server<3,>=2.4.0->notebook) (0.7.0)\n",
      "Requirement already satisfied: argon2-cffi-bindings in /Users/sagarshah/.pyenv/versions/3.10.7/envs/c4-chatbot/lib/python3.10/site-packages (from argon2-cffi->jupyter-server<3,>=2.4.0->notebook) (21.2.0)\n",
      "Requirement already satisfied: debugpy>=1.6.5 in /Users/sagarshah/.pyenv/versions/3.10.7/envs/c4-chatbot/lib/python3.10/site-packages (from ipykernel->jupyterlab<5,>=4.0.2->notebook) (1.6.7.post1)\n",
      "Requirement already satisfied: ipython>=7.23.1 in /Users/sagarshah/.pyenv/versions/3.10.7/envs/c4-chatbot/lib/python3.10/site-packages (from ipykernel->jupyterlab<5,>=4.0.2->notebook) (8.14.0)\n",
      "Requirement already satisfied: matplotlib-inline>=0.1 in /Users/sagarshah/.pyenv/versions/3.10.7/envs/c4-chatbot/lib/python3.10/site-packages (from ipykernel->jupyterlab<5,>=4.0.2->notebook) (0.1.6)\n",
      "Requirement already satisfied: psutil in /Users/sagarshah/.pyenv/versions/3.10.7/envs/c4-chatbot/lib/python3.10/site-packages (from ipykernel->jupyterlab<5,>=4.0.2->notebook) (5.9.5)\n",
      "Requirement already satisfied: nest-asyncio in /Users/sagarshah/.pyenv/versions/3.10.7/envs/c4-chatbot/lib/python3.10/site-packages (from ipykernel->jupyterlab<5,>=4.0.2->notebook) (1.5.7)\n",
      "Requirement already satisfied: comm>=0.1.1 in /Users/sagarshah/.pyenv/versions/3.10.7/envs/c4-chatbot/lib/python3.10/site-packages (from ipykernel->jupyterlab<5,>=4.0.2->notebook) (0.1.4)\n",
      "Requirement already satisfied: appnope in /Users/sagarshah/.pyenv/versions/3.10.7/envs/c4-chatbot/lib/python3.10/site-packages (from ipykernel->jupyterlab<5,>=4.0.2->notebook) (0.1.3)\n",
      "Requirement already satisfied: six>=1.9.0 in /Users/sagarshah/.pyenv/versions/3.10.7/envs/c4-chatbot/lib/python3.10/site-packages (from bleach!=5.0.0->nbconvert>=6.4.4->jupyter-server<3,>=2.4.0->notebook) (1.16.0)\n",
      "Requirement already satisfied: webencodings in /Users/sagarshah/.pyenv/versions/3.10.7/envs/c4-chatbot/lib/python3.10/site-packages (from bleach!=5.0.0->nbconvert>=6.4.4->jupyter-server<3,>=2.4.0->notebook) (0.5.1)\n",
      "Requirement already satisfied: stack-data in /Users/sagarshah/.pyenv/versions/3.10.7/envs/c4-chatbot/lib/python3.10/site-packages (from ipython>=7.23.1->ipykernel->jupyterlab<5,>=4.0.2->notebook) (0.6.2)\n",
      "Requirement already satisfied: jedi>=0.16 in /Users/sagarshah/.pyenv/versions/3.10.7/envs/c4-chatbot/lib/python3.10/site-packages (from ipython>=7.23.1->ipykernel->jupyterlab<5,>=4.0.2->notebook) (0.19.0)\n",
      "Requirement already satisfied: prompt-toolkit!=3.0.37,<3.1.0,>=3.0.30 in /Users/sagarshah/.pyenv/versions/3.10.7/envs/c4-chatbot/lib/python3.10/site-packages (from ipython>=7.23.1->ipykernel->jupyterlab<5,>=4.0.2->notebook) (3.0.39)\n",
      "Requirement already satisfied: pexpect>4.3 in /Users/sagarshah/.pyenv/versions/3.10.7/envs/c4-chatbot/lib/python3.10/site-packages (from ipython>=7.23.1->ipykernel->jupyterlab<5,>=4.0.2->notebook) (4.8.0)\n",
      "Requirement already satisfied: pickleshare in /Users/sagarshah/.pyenv/versions/3.10.7/envs/c4-chatbot/lib/python3.10/site-packages (from ipython>=7.23.1->ipykernel->jupyterlab<5,>=4.0.2->notebook) (0.7.5)\n",
      "Requirement already satisfied: backcall in /Users/sagarshah/.pyenv/versions/3.10.7/envs/c4-chatbot/lib/python3.10/site-packages (from ipython>=7.23.1->ipykernel->jupyterlab<5,>=4.0.2->notebook) (0.2.0)\n",
      "Requirement already satisfied: decorator in /Users/sagarshah/.pyenv/versions/3.10.7/envs/c4-chatbot/lib/python3.10/site-packages (from ipython>=7.23.1->ipykernel->jupyterlab<5,>=4.0.2->notebook) (5.1.1)\n",
      "Requirement already satisfied: uri-template in /Users/sagarshah/.pyenv/versions/3.10.7/envs/c4-chatbot/lib/python3.10/site-packages (from jsonschema>=4.17.3->jupyterlab-server<3,>=2.22.1->notebook) (1.3.0)\n",
      "Requirement already satisfied: jsonpointer>1.13 in /Users/sagarshah/.pyenv/versions/3.10.7/envs/c4-chatbot/lib/python3.10/site-packages (from jsonschema>=4.17.3->jupyterlab-server<3,>=2.22.1->notebook) (2.4)\n",
      "Requirement already satisfied: fqdn in /Users/sagarshah/.pyenv/versions/3.10.7/envs/c4-chatbot/lib/python3.10/site-packages (from jsonschema>=4.17.3->jupyterlab-server<3,>=2.22.1->notebook) (1.5.1)\n",
      "Requirement already satisfied: isoduration in /Users/sagarshah/.pyenv/versions/3.10.7/envs/c4-chatbot/lib/python3.10/site-packages (from jsonschema>=4.17.3->jupyterlab-server<3,>=2.22.1->notebook) (20.11.0)\n",
      "Requirement already satisfied: webcolors>=1.11 in /Users/sagarshah/.pyenv/versions/3.10.7/envs/c4-chatbot/lib/python3.10/site-packages (from jsonschema>=4.17.3->jupyterlab-server<3,>=2.22.1->notebook) (1.13)\n",
      "Requirement already satisfied: cffi>=1.0.1 in /Users/sagarshah/.pyenv/versions/3.10.7/envs/c4-chatbot/lib/python3.10/site-packages (from argon2-cffi-bindings->argon2-cffi->jupyter-server<3,>=2.4.0->notebook) (1.15.1)\n",
      "Requirement already satisfied: soupsieve>1.2 in /Users/sagarshah/.pyenv/versions/3.10.7/envs/c4-chatbot/lib/python3.10/site-packages (from beautifulsoup4->nbconvert>=6.4.4->jupyter-server<3,>=2.4.0->notebook) (2.4.1)\n",
      "Requirement already satisfied: pycparser in /Users/sagarshah/.pyenv/versions/3.10.7/envs/c4-chatbot/lib/python3.10/site-packages (from cffi>=1.0.1->argon2-cffi-bindings->argon2-cffi->jupyter-server<3,>=2.4.0->notebook) (2.21)\n",
      "Requirement already satisfied: parso<0.9.0,>=0.8.3 in /Users/sagarshah/.pyenv/versions/3.10.7/envs/c4-chatbot/lib/python3.10/site-packages (from jedi>=0.16->ipython>=7.23.1->ipykernel->jupyterlab<5,>=4.0.2->notebook) (0.8.3)\n",
      "Requirement already satisfied: wcwidth in /Users/sagarshah/.pyenv/versions/3.10.7/envs/c4-chatbot/lib/python3.10/site-packages (from prompt-toolkit!=3.0.37,<3.1.0,>=3.0.30->ipython>=7.23.1->ipykernel->jupyterlab<5,>=4.0.2->notebook) (0.2.6)\n",
      "Requirement already satisfied: arrow>=0.15.0 in /Users/sagarshah/.pyenv/versions/3.10.7/envs/c4-chatbot/lib/python3.10/site-packages (from isoduration->jsonschema>=4.17.3->jupyterlab-server<3,>=2.22.1->notebook) (1.2.3)\n",
      "Requirement already satisfied: pure-eval in /Users/sagarshah/.pyenv/versions/3.10.7/envs/c4-chatbot/lib/python3.10/site-packages (from stack-data->ipython>=7.23.1->ipykernel->jupyterlab<5,>=4.0.2->notebook) (0.2.2)\n",
      "Requirement already satisfied: asttokens>=2.1.0 in /Users/sagarshah/.pyenv/versions/3.10.7/envs/c4-chatbot/lib/python3.10/site-packages (from stack-data->ipython>=7.23.1->ipykernel->jupyterlab<5,>=4.0.2->notebook) (2.2.1)\n",
      "Requirement already satisfied: executing>=1.2.0 in /Users/sagarshah/.pyenv/versions/3.10.7/envs/c4-chatbot/lib/python3.10/site-packages (from stack-data->ipython>=7.23.1->ipykernel->jupyterlab<5,>=4.0.2->notebook) (1.2.0)\n",
      "\n",
      "\u001b[1m[\u001b[0m\u001b[34;49mnotice\u001b[0m\u001b[1;39;49m]\u001b[0m\u001b[39;49m A new release of pip available: \u001b[0m\u001b[31;49m22.2.2\u001b[0m\u001b[39;49m -> \u001b[0m\u001b[32;49m23.2.1\u001b[0m\n",
      "\u001b[1m[\u001b[0m\u001b[34;49mnotice\u001b[0m\u001b[1;39;49m]\u001b[0m\u001b[39;49m To update, run: \u001b[0m\u001b[32;49mpip install --upgrade pip\u001b[0m\n",
      "Requirement already satisfied: chromadb in /Users/sagarshah/.pyenv/versions/3.10.7/envs/c4-chatbot/lib/python3.10/site-packages (0.4.8)\n",
      "Requirement already satisfied: pydantic<2.0,>=1.9 in /Users/sagarshah/.pyenv/versions/3.10.7/envs/c4-chatbot/lib/python3.10/site-packages (from chromadb) (1.10.12)\n",
      "Requirement already satisfied: chroma-hnswlib==0.7.2 in /Users/sagarshah/.pyenv/versions/3.10.7/envs/c4-chatbot/lib/python3.10/site-packages (from chromadb) (0.7.2)\n",
      "Requirement already satisfied: uvicorn[standard]>=0.18.3 in /Users/sagarshah/.pyenv/versions/3.10.7/envs/c4-chatbot/lib/python3.10/site-packages (from chromadb) (0.23.2)\n",
      "Requirement already satisfied: numpy>=1.21.6 in /Users/sagarshah/.pyenv/versions/3.10.7/envs/c4-chatbot/lib/python3.10/site-packages (from chromadb) (1.25.2)\n",
      "Requirement already satisfied: tokenizers>=0.13.2 in /Users/sagarshah/.pyenv/versions/3.10.7/envs/c4-chatbot/lib/python3.10/site-packages (from chromadb) (0.13.3)\n",
      "Requirement already satisfied: pypika>=0.48.9 in /Users/sagarshah/.pyenv/versions/3.10.7/envs/c4-chatbot/lib/python3.10/site-packages (from chromadb) (0.48.9)\n",
      "Requirement already satisfied: overrides>=7.3.1 in /Users/sagarshah/.pyenv/versions/3.10.7/envs/c4-chatbot/lib/python3.10/site-packages (from chromadb) (7.4.0)\n",
      "Collecting tqdm>=4.65.0\n",
      "  Using cached tqdm-4.66.1-py3-none-any.whl (78 kB)\n",
      "Requirement already satisfied: onnxruntime>=1.14.1 in /Users/sagarshah/.pyenv/versions/3.10.7/envs/c4-chatbot/lib/python3.10/site-packages (from chromadb) (1.15.1)\n",
      "Requirement already satisfied: posthog>=2.4.0 in /Users/sagarshah/.pyenv/versions/3.10.7/envs/c4-chatbot/lib/python3.10/site-packages (from chromadb) (3.0.2)\n",
      "Requirement already satisfied: importlib-resources in /Users/sagarshah/.pyenv/versions/3.10.7/envs/c4-chatbot/lib/python3.10/site-packages (from chromadb) (6.0.1)\n",
      "Requirement already satisfied: requests>=2.28 in /Users/sagarshah/.pyenv/versions/3.10.7/envs/c4-chatbot/lib/python3.10/site-packages (from chromadb) (2.31.0)\n",
      "Requirement already satisfied: pulsar-client>=3.1.0 in /Users/sagarshah/.pyenv/versions/3.10.7/envs/c4-chatbot/lib/python3.10/site-packages (from chromadb) (3.3.0)\n",
      "Requirement already satisfied: fastapi<0.100.0,>=0.95.2 in /Users/sagarshah/.pyenv/versions/3.10.7/envs/c4-chatbot/lib/python3.10/site-packages (from chromadb) (0.99.1)\n",
      "Requirement already satisfied: typing-extensions>=4.5.0 in /Users/sagarshah/.pyenv/versions/3.10.7/envs/c4-chatbot/lib/python3.10/site-packages (from chromadb) (4.7.1)\n",
      "Requirement already satisfied: bcrypt>=4.0.1 in /Users/sagarshah/.pyenv/versions/3.10.7/envs/c4-chatbot/lib/python3.10/site-packages (from chromadb) (4.0.1)\n",
      "Requirement already satisfied: starlette<0.28.0,>=0.27.0 in /Users/sagarshah/.pyenv/versions/3.10.7/envs/c4-chatbot/lib/python3.10/site-packages (from fastapi<0.100.0,>=0.95.2->chromadb) (0.27.0)\n",
      "Requirement already satisfied: protobuf in /Users/sagarshah/.pyenv/versions/3.10.7/envs/c4-chatbot/lib/python3.10/site-packages (from onnxruntime>=1.14.1->chromadb) (4.24.2)\n",
      "Requirement already satisfied: coloredlogs in /Users/sagarshah/.pyenv/versions/3.10.7/envs/c4-chatbot/lib/python3.10/site-packages (from onnxruntime>=1.14.1->chromadb) (15.0.1)\n",
      "Requirement already satisfied: sympy in /Users/sagarshah/.pyenv/versions/3.10.7/envs/c4-chatbot/lib/python3.10/site-packages (from onnxruntime>=1.14.1->chromadb) (1.12)\n",
      "Requirement already satisfied: flatbuffers in /Users/sagarshah/.pyenv/versions/3.10.7/envs/c4-chatbot/lib/python3.10/site-packages (from onnxruntime>=1.14.1->chromadb) (23.5.26)\n",
      "Requirement already satisfied: packaging in /Users/sagarshah/.pyenv/versions/3.10.7/envs/c4-chatbot/lib/python3.10/site-packages (from onnxruntime>=1.14.1->chromadb) (23.1)\n",
      "Requirement already satisfied: python-dateutil>2.1 in /Users/sagarshah/.pyenv/versions/3.10.7/envs/c4-chatbot/lib/python3.10/site-packages (from posthog>=2.4.0->chromadb) (2.8.2)\n",
      "Requirement already satisfied: monotonic>=1.5 in /Users/sagarshah/.pyenv/versions/3.10.7/envs/c4-chatbot/lib/python3.10/site-packages (from posthog>=2.4.0->chromadb) (1.6)\n",
      "Requirement already satisfied: backoff>=1.10.0 in /Users/sagarshah/.pyenv/versions/3.10.7/envs/c4-chatbot/lib/python3.10/site-packages (from posthog>=2.4.0->chromadb) (2.2.1)\n",
      "Requirement already satisfied: six>=1.5 in /Users/sagarshah/.pyenv/versions/3.10.7/envs/c4-chatbot/lib/python3.10/site-packages (from posthog>=2.4.0->chromadb) (1.16.0)\n",
      "Requirement already satisfied: certifi in /Users/sagarshah/.pyenv/versions/3.10.7/envs/c4-chatbot/lib/python3.10/site-packages (from pulsar-client>=3.1.0->chromadb) (2023.7.22)\n",
      "Requirement already satisfied: charset-normalizer<4,>=2 in /Users/sagarshah/.pyenv/versions/3.10.7/envs/c4-chatbot/lib/python3.10/site-packages (from requests>=2.28->chromadb) (3.2.0)\n",
      "Requirement already satisfied: urllib3<3,>=1.21.1 in /Users/sagarshah/.pyenv/versions/3.10.7/envs/c4-chatbot/lib/python3.10/site-packages (from requests>=2.28->chromadb) (2.0.4)\n",
      "Requirement already satisfied: idna<4,>=2.5 in /Users/sagarshah/.pyenv/versions/3.10.7/envs/c4-chatbot/lib/python3.10/site-packages (from requests>=2.28->chromadb) (3.4)\n",
      "Requirement already satisfied: h11>=0.8 in /Users/sagarshah/.pyenv/versions/3.10.7/envs/c4-chatbot/lib/python3.10/site-packages (from uvicorn[standard]>=0.18.3->chromadb) (0.14.0)\n",
      "Requirement already satisfied: click>=7.0 in /Users/sagarshah/.pyenv/versions/3.10.7/envs/c4-chatbot/lib/python3.10/site-packages (from uvicorn[standard]>=0.18.3->chromadb) (8.1.7)\n",
      "Requirement already satisfied: httptools>=0.5.0 in /Users/sagarshah/.pyenv/versions/3.10.7/envs/c4-chatbot/lib/python3.10/site-packages (from uvicorn[standard]>=0.18.3->chromadb) (0.6.0)\n",
      "Requirement already satisfied: pyyaml>=5.1 in /Users/sagarshah/.pyenv/versions/3.10.7/envs/c4-chatbot/lib/python3.10/site-packages (from uvicorn[standard]>=0.18.3->chromadb) (6.0.1)\n",
      "Requirement already satisfied: python-dotenv>=0.13 in /Users/sagarshah/.pyenv/versions/3.10.7/envs/c4-chatbot/lib/python3.10/site-packages (from uvicorn[standard]>=0.18.3->chromadb) (1.0.0)\n",
      "Requirement already satisfied: watchfiles>=0.13 in /Users/sagarshah/.pyenv/versions/3.10.7/envs/c4-chatbot/lib/python3.10/site-packages (from uvicorn[standard]>=0.18.3->chromadb) (0.20.0)\n",
      "Requirement already satisfied: uvloop!=0.15.0,!=0.15.1,>=0.14.0 in /Users/sagarshah/.pyenv/versions/3.10.7/envs/c4-chatbot/lib/python3.10/site-packages (from uvicorn[standard]>=0.18.3->chromadb) (0.17.0)\n",
      "Requirement already satisfied: websockets>=10.4 in /Users/sagarshah/.pyenv/versions/3.10.7/envs/c4-chatbot/lib/python3.10/site-packages (from uvicorn[standard]>=0.18.3->chromadb) (11.0.3)\n",
      "Requirement already satisfied: anyio<5,>=3.4.0 in /Users/sagarshah/.pyenv/versions/3.10.7/envs/c4-chatbot/lib/python3.10/site-packages (from starlette<0.28.0,>=0.27.0->fastapi<0.100.0,>=0.95.2->chromadb) (4.0.0)\n",
      "Requirement already satisfied: humanfriendly>=9.1 in /Users/sagarshah/.pyenv/versions/3.10.7/envs/c4-chatbot/lib/python3.10/site-packages (from coloredlogs->onnxruntime>=1.14.1->chromadb) (10.0)\n",
      "Requirement already satisfied: mpmath>=0.19 in /Users/sagarshah/.pyenv/versions/3.10.7/envs/c4-chatbot/lib/python3.10/site-packages (from sympy->onnxruntime>=1.14.1->chromadb) (1.3.0)\n",
      "Requirement already satisfied: sniffio>=1.1 in /Users/sagarshah/.pyenv/versions/3.10.7/envs/c4-chatbot/lib/python3.10/site-packages (from anyio<5,>=3.4.0->starlette<0.28.0,>=0.27.0->fastapi<0.100.0,>=0.95.2->chromadb) (1.3.0)\n",
      "Requirement already satisfied: exceptiongroup>=1.0.2 in /Users/sagarshah/.pyenv/versions/3.10.7/envs/c4-chatbot/lib/python3.10/site-packages (from anyio<5,>=3.4.0->starlette<0.28.0,>=0.27.0->fastapi<0.100.0,>=0.95.2->chromadb) (1.1.3)\n",
      "Installing collected packages: tqdm\n",
      "  Attempting uninstall: tqdm\n",
      "    Found existing installation: tqdm 4.64.1\n",
      "    Uninstalling tqdm-4.64.1:\n",
      "      Successfully uninstalled tqdm-4.64.1\n",
      "\u001b[31mERROR: pip's dependency resolver does not currently take into account all the packages that are installed. This behaviour is the source of the following dependency conflicts.\n",
      "clarifai 9.7.6 requires tqdm==4.64.1, but you have tqdm 4.66.1 which is incompatible.\u001b[0m\u001b[31m\n",
      "\u001b[0mSuccessfully installed tqdm-4.66.1\n",
      "\n",
      "\u001b[1m[\u001b[0m\u001b[34;49mnotice\u001b[0m\u001b[1;39;49m]\u001b[0m\u001b[39;49m A new release of pip available: \u001b[0m\u001b[31;49m22.2.2\u001b[0m\u001b[39;49m -> \u001b[0m\u001b[32;49m23.2.1\u001b[0m\n",
      "\u001b[1m[\u001b[0m\u001b[34;49mnotice\u001b[0m\u001b[1;39;49m]\u001b[0m\u001b[39;49m To update, run: \u001b[0m\u001b[32;49mpip install --upgrade pip\u001b[0m\n",
      "Requirement already satisfied: pandas in /Users/sagarshah/.pyenv/versions/3.10.7/envs/c4-chatbot/lib/python3.10/site-packages (2.1.0)\n",
      "Requirement already satisfied: pytz>=2020.1 in /Users/sagarshah/.pyenv/versions/3.10.7/envs/c4-chatbot/lib/python3.10/site-packages (from pandas) (2023.3)\n",
      "Requirement already satisfied: numpy>=1.22.4 in /Users/sagarshah/.pyenv/versions/3.10.7/envs/c4-chatbot/lib/python3.10/site-packages (from pandas) (1.25.2)\n",
      "Requirement already satisfied: python-dateutil>=2.8.2 in /Users/sagarshah/.pyenv/versions/3.10.7/envs/c4-chatbot/lib/python3.10/site-packages (from pandas) (2.8.2)\n",
      "Requirement already satisfied: tzdata>=2022.1 in /Users/sagarshah/.pyenv/versions/3.10.7/envs/c4-chatbot/lib/python3.10/site-packages (from pandas) (2023.3)\n",
      "Requirement already satisfied: six>=1.5 in /Users/sagarshah/.pyenv/versions/3.10.7/envs/c4-chatbot/lib/python3.10/site-packages (from python-dateutil>=2.8.2->pandas) (1.16.0)\n",
      "\n",
      "\u001b[1m[\u001b[0m\u001b[34;49mnotice\u001b[0m\u001b[1;39;49m]\u001b[0m\u001b[39;49m A new release of pip available: \u001b[0m\u001b[31;49m22.2.2\u001b[0m\u001b[39;49m -> \u001b[0m\u001b[32;49m23.2.1\u001b[0m\n",
      "\u001b[1m[\u001b[0m\u001b[34;49mnotice\u001b[0m\u001b[1;39;49m]\u001b[0m\u001b[39;49m To update, run: \u001b[0m\u001b[32;49mpip install --upgrade pip\u001b[0m\n"
     ]
    }
   ],
   "source": [
    "# Install all the third-party packages\n",
    "\n",
    "!pip install 'langchain[llms]'\n",
    "!pip install Scrapy\n",
    "!pip install html2text\n",
    "!pip install lxml\n",
    "!pip install python-dotenv\n",
    "!pip install \"unstructured[all-docs]\"\n",
    "!pip install tiktoken\n",
    "!pip install faiss-cpu \n",
    "!pip install GitPython\n",
    "!pip install notebook\n",
    "!pip install chromadb\n",
    "!pip install pandas"
   ]
  },
  {
   "cell_type": "code",
   "execution_count": 27,
   "metadata": {},
   "outputs": [
    {
     "data": {
      "text/plain": [
       "True"
      ]
     },
     "execution_count": 27,
     "metadata": {},
     "output_type": "execute_result"
    }
   ],
   "source": [
    "# General setup - you can specify OPENAI_API_KEY in .env file\n",
    "\n",
    "import logging\n",
    "from dotenv import load_dotenv\n",
    "from IPython.display import display, Markdown, Latex\n",
    "\n",
    "logging.getLogger().setLevel(logging.INFO)\n",
    "load_dotenv()"
   ]
  },
  {
   "cell_type": "code",
   "execution_count": 28,
   "metadata": {},
   "outputs": [],
   "source": [
    "import getpass\n",
    "import os\n",
    "\n",
    "OPENAI_API_KEY = os.environ.get('OPENAI_API_KEY') or getpass.getpass('Enter your OpenAI API key: ')\n",
    "\n",
    "assert OPENAI_API_KEY, \"Please set OPENAI_API_KEY in your environment variables\""
   ]
  },
  {
   "cell_type": "code",
   "execution_count": 29,
   "metadata": {},
   "outputs": [],
   "source": [
    "# Paths to the data\n",
    "\n",
    "C4_WEBSITE_STORAGE_DIR = \"knowledge_base/c4/website\"\n",
    "C4_DOCS_STORAGE_DIR = \"knowledge_base/c4/docs\"\n",
    "C4_GH_DOCS_STORAGE_DIR = \"knowledge_base/c4/gh_docs\""
   ]
  },
  {
   "cell_type": "markdown",
   "metadata": {},
   "source": [
    "### Crawling and Scraping using Scrapy"
   ]
  },
  {
   "cell_type": "code",
   "execution_count": 30,
   "metadata": {},
   "outputs": [],
   "source": [
    "import os\n",
    "import scrapy\n",
    "import html2text\n",
    "import lxml.html\n",
    "import json\n",
    "from urllib.parse import urlparse\n",
    "\n",
    "class GenericSpider(scrapy.Spider):\n",
    "    name = 'generic'\n",
    "\n",
    "    def __init__(self, domain='', storage_dir='.', *args, **kwargs):\n",
    "        super(GenericSpider, self).__init__(*args, **kwargs)\n",
    "        self.allowed_domains = [domain]\n",
    "        self.start_urls = [f'http://{domain}/']\n",
    "        self.storage_dir = storage_dir\n",
    "    \n",
    "    def parse(self, response):\n",
    "        # Remove unwanted elements using lxml\n",
    "        tree = lxml.html.fromstring(response.text)\n",
    "        \n",
    "        # Remove non-text related tags\n",
    "        for unwanted in tree.xpath('//script|//img|//video|//audio|//iframe|//object|//embed|//canvas|//svg|//link|//source|//track|//map|//area'):\n",
    "            unwanted.drop_tree()\n",
    "\n",
    "        cleaned_html = lxml.html.tostring(tree).decode('utf-8')\n",
    "\n",
    "        # Convert HTML to Markdown\n",
    "        converter = html2text.HTML2Text()\n",
    "        markdown_text = converter.handle(cleaned_html)\n",
    "\n",
    "        # Save to a markdown file in the specified directory\n",
    "        if not os.path.exists(self.storage_dir):\n",
    "            os.makedirs(self.storage_dir)\n",
    "\n",
    "        url = response.url\n",
    "        page_name = response.url.split(\"/\")[-1] if response.url.split(\"/\")[-1] else \"index\"\n",
    "\n",
    "        filename = os.path.join(self.storage_dir, f'{page_name}.json')\n",
    "\n",
    "        with open(filename, 'w') as f:\n",
    "            # Store the URL and markdown text in JSON format\n",
    "            json.dump({'url': url, 'md_content': markdown_text}, f)\n",
    "\n",
    "        # Recursively follow relative links to other pages on the same domain\n",
    "        for href in response.css('a::attr(href)').getall():\n",
    "            url = response.urljoin(href)\n",
    "            if urlparse(url).netloc in self.allowed_domains:\n",
    "                yield scrapy.Request(url, self.parse)\n"
   ]
  },
  {
   "cell_type": "markdown",
   "metadata": {},
   "source": [
    "NOTE: Data has already been scraped and saved locally as JSON files in the 'knowledge_base/c4' directory. To re-run the scraping, uncomment the code in the cell below.\n",
    "\n",
    "On re-running the crawler, if you get 'ReactorNotRestartable' error, the notebook kernel would need to be restarted."
   ]
  },
  {
   "cell_type": "code",
   "execution_count": 11,
   "metadata": {},
   "outputs": [],
   "source": [
    "# from scrapy.crawler import CrawlerRunner\n",
    "# from scrapy.utils.project import get_project_settings\n",
    "# from twisted.internet import reactor\n",
    "\n",
    "# settings = get_project_settings()\n",
    "\n",
    "# runner = CrawlerRunner(settings)\n",
    "# runner.crawl(GenericSpider, domain=\"code4rena.com\", storage_dir=C4_WEBSITE_STORAGE_DIR)\n",
    "# runner.crawl(GenericSpider, domain=\"docs.code4rena.com\", storage_dir=C4_DOCS_STORAGE_DIR)\n",
    "# d = runner.join()\n",
    "# d.addBoth(lambda _: reactor.stop())\n",
    "# reactor.run()"
   ]
  },
  {
   "cell_type": "markdown",
   "metadata": {},
   "source": [
    "#### Get docs from Github Repo"
   ]
  },
  {
   "cell_type": "code",
   "execution_count": null,
   "metadata": {},
   "outputs": [],
   "source": [
    "# from git import Repo\n",
    "\n",
    "# repo = Repo.clone_from(\n",
    "#     \"https://github.com/code-423n4/docs\", to_path=C4_GH_DOCS_STORAGE_DIR\n",
    "# )"
   ]
  },
  {
   "cell_type": "markdown",
   "metadata": {},
   "source": [
    "### Retrieval Augmented Generation using LangChain"
   ]
  },
  {
   "cell_type": "markdown",
   "metadata": {},
   "source": [
    "#### Load locally saved scraped data"
   ]
  },
  {
   "cell_type": "code",
   "execution_count": 31,
   "metadata": {},
   "outputs": [],
   "source": [
    "import json\n",
    "from langchain.document_loaders import DirectoryLoader\n",
    "from langchain.document_loaders import TextLoader\n",
    "\n",
    "def load_json_files(dir):\n",
    "    loader = DirectoryLoader(dir, loader_cls=TextLoader)\n",
    "    documents = loader.load()\n",
    "    for d in documents:\n",
    "        page_content_dict = json.loads(d.page_content)\n",
    "        d.page_content = page_content_dict['md_content']\n",
    "        d.metadata['url'] = page_content_dict['url']\n",
    "    return documents\n",
    "\n",
    "c4_website_data_list = load_json_files(C4_WEBSITE_STORAGE_DIR)\n",
    "c4_docs_data_list = load_json_files(C4_DOCS_STORAGE_DIR)"
   ]
  },
  {
   "cell_type": "code",
   "execution_count": 32,
   "metadata": {},
   "outputs": [],
   "source": [
    "from langchain.document_loaders import DirectoryLoader\n",
    "from langchain.document_loaders import TextLoader\n",
    "\n",
    "loader = DirectoryLoader(C4_GH_DOCS_STORAGE_DIR, loader_cls=TextLoader)\n",
    "c4_gh_docs_data_list = loader.load()\n"
   ]
  },
  {
   "cell_type": "markdown",
   "metadata": {},
   "source": [
    "#### Split the markdown content into semantic chunks"
   ]
  },
  {
   "cell_type": "code",
   "execution_count": 322,
   "metadata": {},
   "outputs": [
    {
     "name": "stdout",
     "output_type": "stream",
     "text": [
      "89\n",
      "97\n",
      "72\n"
     ]
    }
   ],
   "source": [
    "from langchain.text_splitter import (\n",
    "    RecursiveCharacterTextSplitter,\n",
    "    Language,\n",
    ")\n",
    "\n",
    "md_splitter = RecursiveCharacterTextSplitter.from_language(\n",
    "    language=Language.MARKDOWN, chunk_size=2000, chunk_overlap=200\n",
    ")\n",
    "\n",
    "\n",
    "website_chunks =  md_splitter.split_documents(c4_website_data_list)\n",
    "docs_chunks =  md_splitter.split_documents(c4_docs_data_list)\n",
    "gh_docs_chunks = md_splitter.split_documents(c4_gh_docs_data_list)\n",
    "\n",
    "print(len(website_chunks))\n",
    "print(len(docs_chunks))\n",
    "print(len(gh_docs_chunks))"
   ]
  },
  {
   "cell_type": "markdown",
   "metadata": {},
   "source": [
    "#### Embed the semantic chunks and store in an in-memory vector db"
   ]
  },
  {
   "cell_type": "code",
   "execution_count": 271,
   "metadata": {},
   "outputs": [
    {
     "data": {
      "text/plain": [
       "['72e47726-5246-11ee-8d9d-367dda1ae1c5',\n",
       " '72e4782a-5246-11ee-8d9d-367dda1ae1c5',\n",
       " '72e47866-5246-11ee-8d9d-367dda1ae1c5',\n",
       " '72e47898-5246-11ee-8d9d-367dda1ae1c5',\n",
       " '72e478c0-5246-11ee-8d9d-367dda1ae1c5',\n",
       " '72e478e8-5246-11ee-8d9d-367dda1ae1c5',\n",
       " '72e47910-5246-11ee-8d9d-367dda1ae1c5',\n",
       " '72e47938-5246-11ee-8d9d-367dda1ae1c5',\n",
       " '72e47960-5246-11ee-8d9d-367dda1ae1c5',\n",
       " '72e47988-5246-11ee-8d9d-367dda1ae1c5',\n",
       " '72e479b0-5246-11ee-8d9d-367dda1ae1c5',\n",
       " '72e479d8-5246-11ee-8d9d-367dda1ae1c5',\n",
       " '72e47a00-5246-11ee-8d9d-367dda1ae1c5',\n",
       " '72e47a28-5246-11ee-8d9d-367dda1ae1c5',\n",
       " '72e47a50-5246-11ee-8d9d-367dda1ae1c5',\n",
       " '72e47a78-5246-11ee-8d9d-367dda1ae1c5',\n",
       " '72e47a96-5246-11ee-8d9d-367dda1ae1c5',\n",
       " '72e47abe-5246-11ee-8d9d-367dda1ae1c5',\n",
       " '72e47ae6-5246-11ee-8d9d-367dda1ae1c5',\n",
       " '72e47b0e-5246-11ee-8d9d-367dda1ae1c5',\n",
       " '72e47b36-5246-11ee-8d9d-367dda1ae1c5',\n",
       " '72e47b5e-5246-11ee-8d9d-367dda1ae1c5',\n",
       " '72e47b86-5246-11ee-8d9d-367dda1ae1c5',\n",
       " '72e47ba4-5246-11ee-8d9d-367dda1ae1c5',\n",
       " '72e47bcc-5246-11ee-8d9d-367dda1ae1c5',\n",
       " '72e47bf4-5246-11ee-8d9d-367dda1ae1c5',\n",
       " '72e47c1c-5246-11ee-8d9d-367dda1ae1c5',\n",
       " '72e47c44-5246-11ee-8d9d-367dda1ae1c5',\n",
       " '72e47c6c-5246-11ee-8d9d-367dda1ae1c5',\n",
       " '72e47c8a-5246-11ee-8d9d-367dda1ae1c5',\n",
       " '72e47cb2-5246-11ee-8d9d-367dda1ae1c5',\n",
       " '72e47cda-5246-11ee-8d9d-367dda1ae1c5',\n",
       " '72e47d02-5246-11ee-8d9d-367dda1ae1c5',\n",
       " '72e47d2a-5246-11ee-8d9d-367dda1ae1c5',\n",
       " '72e47d52-5246-11ee-8d9d-367dda1ae1c5',\n",
       " '72e47d70-5246-11ee-8d9d-367dda1ae1c5',\n",
       " '72e47d98-5246-11ee-8d9d-367dda1ae1c5',\n",
       " '72e47dc0-5246-11ee-8d9d-367dda1ae1c5',\n",
       " '72e47de8-5246-11ee-8d9d-367dda1ae1c5',\n",
       " '72e47e10-5246-11ee-8d9d-367dda1ae1c5',\n",
       " '72e47e38-5246-11ee-8d9d-367dda1ae1c5',\n",
       " '72e47e60-5246-11ee-8d9d-367dda1ae1c5',\n",
       " '72e47e7e-5246-11ee-8d9d-367dda1ae1c5',\n",
       " '72e47ea6-5246-11ee-8d9d-367dda1ae1c5',\n",
       " '72e47ece-5246-11ee-8d9d-367dda1ae1c5',\n",
       " '72e47ef6-5246-11ee-8d9d-367dda1ae1c5',\n",
       " '72e47f1e-5246-11ee-8d9d-367dda1ae1c5',\n",
       " '72e47f3c-5246-11ee-8d9d-367dda1ae1c5',\n",
       " '72e47f64-5246-11ee-8d9d-367dda1ae1c5',\n",
       " '72e47f8c-5246-11ee-8d9d-367dda1ae1c5',\n",
       " '72e47fb4-5246-11ee-8d9d-367dda1ae1c5',\n",
       " '72e47fdc-5246-11ee-8d9d-367dda1ae1c5',\n",
       " '72e48004-5246-11ee-8d9d-367dda1ae1c5',\n",
       " '72e4802c-5246-11ee-8d9d-367dda1ae1c5',\n",
       " '72e4804a-5246-11ee-8d9d-367dda1ae1c5',\n",
       " '72e48072-5246-11ee-8d9d-367dda1ae1c5',\n",
       " '72e4809a-5246-11ee-8d9d-367dda1ae1c5',\n",
       " '72e480c2-5246-11ee-8d9d-367dda1ae1c5',\n",
       " '72e480ea-5246-11ee-8d9d-367dda1ae1c5',\n",
       " '72e48112-5246-11ee-8d9d-367dda1ae1c5',\n",
       " '72e48130-5246-11ee-8d9d-367dda1ae1c5',\n",
       " '72e48158-5246-11ee-8d9d-367dda1ae1c5',\n",
       " '72e48180-5246-11ee-8d9d-367dda1ae1c5',\n",
       " '72e481a8-5246-11ee-8d9d-367dda1ae1c5',\n",
       " '72e481d0-5246-11ee-8d9d-367dda1ae1c5',\n",
       " '72e481f8-5246-11ee-8d9d-367dda1ae1c5',\n",
       " '72e48220-5246-11ee-8d9d-367dda1ae1c5',\n",
       " '72e48248-5246-11ee-8d9d-367dda1ae1c5',\n",
       " '72e48270-5246-11ee-8d9d-367dda1ae1c5',\n",
       " '72e4828e-5246-11ee-8d9d-367dda1ae1c5',\n",
       " '72e482b6-5246-11ee-8d9d-367dda1ae1c5',\n",
       " '72e482de-5246-11ee-8d9d-367dda1ae1c5']"
      ]
     },
     "execution_count": 271,
     "metadata": {},
     "output_type": "execute_result"
    }
   ],
   "source": [
    "from langchain.vectorstores import FAISS\n",
    "from langchain.embeddings import OpenAIEmbeddings\n",
    "from langchain.vectorstores import Chroma\n",
    "\n",
    "# NOTE: At times, OpenAI Embedding service can fail intermittently and return errorneous values such as [NaN], more info: https://github.com/langchain-ai/langchain/pull/7070\n",
    "\n",
    "embeddings = OpenAIEmbeddings()\n",
    "vectorstore = Chroma(\"vectorstore_1\", embeddings, collection_metadata={\"hnsw:space\": \"cosine\"})\n",
    "\n",
    "vectorstore.add_documents(website_chunks)\n",
    "#vectorstore.add_documents(docs_chunks)\n",
    "vectorstore.add_documents(gh_docs_chunks)\n"
   ]
  },
  {
   "cell_type": "markdown",
   "metadata": {},
   "source": [
    "#### Retrieval Augmented Generation\n",
    "Workflow \n",
    "1. Use faster LLM (GPT-3.5) to generate 3 rephrased variants of the original user question to improve question quality which in-turn should improve retrieval\n",
    "2. Use the rephrased question to generate the final answer using RAG"
   ]
  },
  {
   "cell_type": "markdown",
   "metadata": {},
   "source": [
    "##### Generate rephrased questions\n",
    "Use faster LLM (GPT-3.5) to generate 3 rephrased variants of the original user question to improve question quality which in-turn should improve retrieval"
   ]
  },
  {
   "cell_type": "code",
   "execution_count": 363,
   "metadata": {},
   "outputs": [
    {
     "data": {
      "text/plain": [
       "['What is the meaning of scout awards?',\n",
       " 'Can you explain what scout awards are?',\n",
       " 'Could you provide a description of scout awards?']"
      ]
     },
     "execution_count": 363,
     "metadata": {},
     "output_type": "execute_result"
    }
   ],
   "source": [
    "from langchain.chains import LLMChain\n",
    "from langchain.chat_models import ChatOpenAI\n",
    "from langchain.prompts import PromptTemplate\n",
    "\n",
    "prompt_template = \"\"\"You are a teacher who is helping a student ask the right questions about a service so that they can look in the most relevant places to find the answer. \n",
    "# INSTRUCTIONS\n",
    "- You are given student's question below\n",
    "- Using the original question, generate 3 alternative questions that are rephrased to be not vague or ambiguous so as to clearly convey the same meaning and context as the original question\n",
    "- Return the final result as a JSON object containing a list of rephrased questions as \"new_questions\" field\n",
    "\n",
    "# QUESTION\n",
    "{question}\n",
    "\n",
    "# RESULT\n",
    "\"\"\"\n",
    "\n",
    "\n",
    "def generate_rephrased_questions(question):\n",
    "    chat = ChatOpenAI(model_name=\"gpt-3.5-turbo\", temperature=0)\n",
    "    llm_chain = LLMChain(llm=chat, prompt=PromptTemplate.from_template(prompt_template))\n",
    "\n",
    "    result = llm_chain(inputs={\"question\": question}, return_only_outputs=True)\n",
    "    result_dict = json.loads(result['text'])\n",
    "    new_questions = result_dict['new_questions']\n",
    "    return new_questions\n",
    "\n",
    "generate_rephrased_questions(\"What are scout awards?\")"
   ]
  },
  {
   "cell_type": "markdown",
   "metadata": {},
   "source": [
    "##### Generate final answer using RAG"
   ]
  },
  {
   "cell_type": "code",
   "execution_count": 296,
   "metadata": {},
   "outputs": [],
   "source": [
    "def display_result(question, result):\n",
    "    display(Markdown(f\"### Question\"))\n",
    "    display(Markdown(\"ORIGINAL: \" + question))\n",
    "    display(Markdown(\"REPHRASED: \" + f\"{result['rephrased_question'] if result['rephrased_question'] else 'None'}\"))\n",
    "\n",
    "    display(Markdown(f\"### Answer\"))\n",
    "    display(Markdown(result[\"result\"]))\n",
    "\n",
    "    display(Markdown(f\"### Sources\"))\n",
    "    sources = [r.metadata['url'] if 'url' in r.metadata else r.metadata['source'] for r in result[\"source_documents\"] ]\n",
    "    print(\", \".join(sources))"
   ]
  },
  {
   "cell_type": "code",
   "execution_count": 354,
   "metadata": {},
   "outputs": [],
   "source": [
    "from langchain.chains import RetrievalQA\n",
    "from langchain.chat_models import ChatOpenAI\n",
    "\n",
    "qa = RetrievalQA.from_chain_type(llm=ChatOpenAI(model_name=\"gpt-4\", temperature=0), chain_type=\"stuff\", retriever=vectorstore.as_retriever(), return_source_documents=True)\n",
    "\n",
    "\n",
    "def call_llm(question, use_rephrased_questions=True):\n",
    "    if not use_rephrased_questions:\n",
    "        result = qa({\"query\": question})\n",
    "        result['rephrased_question'] = None\n",
    "        return result\n",
    "\n",
    "\n",
    "    # Get rephrased questions\n",
    "    rephrased_questions = generate_rephrased_questions(question)\n",
    "\n",
    "    # Attempt each question until a valid result is found\n",
    "    for q in rephrased_questions:\n",
    "        result = qa({\"query\": q})\n",
    "        answer = result['result']\n",
    "        result['rephrased_question'] = None\n",
    "        \n",
    "        # If the model is unable to find an answer, it returns 'sorry' in the response, we try again with a different question\n",
    "        if 'sorry' in answer.lower():\n",
    "            continue\n",
    "        else:\n",
    "            result['rephrased_question'] = q\n",
    "            break\n",
    "\n",
    "    return result\n",
    " \n",
    "\n",
    "def ask(question, use_rephrased_questions=True):\n",
    "    result = call_llm(question, use_rephrased_questions)\n",
    "    display_result(question, result)\n"
   ]
  },
  {
   "cell_type": "markdown",
   "metadata": {},
   "source": [
    "#### AutoEvaluator\n",
    "Using LangChain's [AutoEvaluator technique](https://autoevaluator.langchain.com/) to evaluate the bot's performance on the dataset of C4 questions correctly answered by Mava as per team feedback\n"
   ]
  },
  {
   "cell_type": "code",
   "execution_count": 228,
   "metadata": {},
   "outputs": [],
   "source": [
    "import yaml\n",
    "\n",
    "# load yaml file\n",
    "with open('knowledge_base/c4/c4_test_qa.yaml') as file:\n",
    "    # The FullLoader parameter handles the conversion from YAML\n",
    "    # scalar values to Python the dictionary format\n",
    "    yaml_data = yaml.load(file, Loader=yaml.FullLoader)\n",
    "\n",
    "mava_questions = [d['question'] for d in yaml_data]\n"
   ]
  },
  {
   "cell_type": "code",
   "execution_count": 229,
   "metadata": {},
   "outputs": [],
   "source": [
    "from langchain.prompts import PromptTemplate\n",
    "\n",
    "template = \"\"\" \n",
    "    You are a grader trying to determine if a set of retrieved documents will help a student answer a question. \\n\n",
    "\n",
    "    Here is the question: \\n\n",
    "    {query}\n",
    "\n",
    "    Here are the documents retrieved to answer question: \\n\n",
    "    {result}\n",
    "    \n",
    "    Here is the correct answer to the question: \\n \n",
    "    {answer}\n",
    "   \n",
    "    Criteria: \n",
    "      relevance: Do all of the documents contain information that will help the student arrive that the correct answer to the question?\"\n",
    "\n",
    "    Your response should be as follows:\n",
    "\n",
    "    GRADE: (Correct or Incorrect, depending if all of the documents retrieved meet the criterion)\n",
    "    (line break)\n",
    "    JUSTIFICATION: (Write out in a step by step manner your reasoning about the criterion to be sure that your conclusion is correct. Use three sentences maximum. Keep the answer as concise as possible.)\n",
    "    \"\"\"\n",
    "\n",
    "GRADE_DOCS_PROMPT = PromptTemplate(input_variables=['result', 'answer', 'query'], template=template)\n",
    "\n",
    "template = \"\"\"You are a teacher grading a quiz. \n",
    "You are given a question, the student's answer, and the true answer, and are asked to score the student answer as either Correct or Incorrect.\n",
    "\n",
    "Example Format:\n",
    "QUESTION: question here\n",
    "STUDENT ANSWER: student's answer here\n",
    "TRUE ANSWER: true answer here\n",
    "GRADE: Correct or Incorrect here\n",
    "\n",
    "Grade the student answers based ONLY on their factual accuracy. Ignore differences in punctuation and phrasing between the student answer and true answer. It is OK if the student answer contains more information than the true answer, as long as it does not contain any conflicting statements. If the student answers that there is no specific information provided in the context, then the answer is Incorrect. Begin! \n",
    "\n",
    "QUESTION: {query}\n",
    "STUDENT ANSWER: {result}\n",
    "TRUE ANSWER: {answer}\n",
    "GRADE:\n",
    "\n",
    "Your response should be as follows:\n",
    "\n",
    "GRADE: (Correct or Incorrect)\n",
    "(line break)\n",
    "JUSTIFICATION: (Without mentioning the student/teacher framing of this prompt, explain why the STUDENT ANSWER is Correct or Incorrect. Use one or two sentences maximum. Keep the answer as concise as possible.)\n",
    "\"\"\"\n",
    "\n",
    "GRADE_ANSWER_PROMPT = PromptTemplate(input_variables=[\"query\", \"result\", \"answer\"], template=template)"
   ]
  },
  {
   "cell_type": "code",
   "execution_count": 230,
   "metadata": {},
   "outputs": [],
   "source": [
    "from langchain.evaluation.qa import QAEvalChain\n",
    "\n",
    "def grade_model_answer(predicted_dataset, predictions):\n",
    "\n",
    "    # Create an evaluation chain\n",
    "    eval_chain = QAEvalChain.from_llm(\n",
    "        llm=ChatOpenAI(model_name=\"gpt-4\", temperature=0),\n",
    "        prompt=GRADE_ANSWER_PROMPT\n",
    "    )\n",
    "\n",
    "    # Evaluate the predictions and ground truth using the evaluation chain\n",
    "    graded_outputs = eval_chain.evaluate(\n",
    "        predicted_dataset,\n",
    "        predictions,\n",
    "        question_key=\"question\",\n",
    "        prediction_key=\"result\"\n",
    "    )\n",
    "\n",
    "    return graded_outputs\n",
    "\n",
    "\n",
    "def grade_model_retrieval(gt_dataset, predictions):\n",
    "    # Create an evaluation chain\n",
    "    eval_chain = QAEvalChain.from_llm(\n",
    "        llm=ChatOpenAI(model_name=\"gpt-4\", temperature=0),\n",
    "        prompt=GRADE_DOCS_PROMPT\n",
    "    )\n",
    "\n",
    "    # Evaluate the predictions and ground truth using the evaluation chain\n",
    "    graded_outputs = eval_chain.evaluate(\n",
    "        gt_dataset,\n",
    "        predictions,\n",
    "        question_key=\"question\",\n",
    "        prediction_key=\"result\"\n",
    "    )\n",
    "    return graded_outputs"
   ]
  },
  {
   "cell_type": "code",
   "execution_count": 231,
   "metadata": {},
   "outputs": [],
   "source": [
    "bot_answers = []\n",
    "source_docs = []\n",
    "for d in yaml_data:\n",
    "    result = call_llm(d['question'])\n",
    "    bot_answers.append(result['result'])\n",
    "    source_docs.append(result['source_documents'])\n"
   ]
  },
  {
   "cell_type": "code",
   "execution_count": 232,
   "metadata": {},
   "outputs": [],
   "source": [
    "predictions = [{'result': a} for a in bot_answers]\n",
    "\n",
    "answer_grades = grade_model_retrieval(yaml_data, predictions)"
   ]
  },
  {
   "cell_type": "code",
   "execution_count": 233,
   "metadata": {},
   "outputs": [],
   "source": [
    "retrieved_docs = []\n",
    "for i, d in enumerate(yaml_data):\n",
    "    retrieved_doc_text = \"\"\n",
    "    for j, doc in enumerate(source_docs[i]):\n",
    "        retrieved_doc_text += \"Doc %s: \" % str(j + 1) + doc.page_content + \" \"\n",
    "    retrieved = {\"question\": d[\"question\"], \"answer\": d[\"answer\"], \"result\": retrieved_doc_text}\n",
    "    retrieved_docs.append(retrieved)\n",
    "\n",
    "retrieval_grades = grade_model_retrieval(yaml_data, predictions)"
   ]
  },
  {
   "cell_type": "code",
   "execution_count": 234,
   "metadata": {},
   "outputs": [
    {
     "data": {
      "text/html": [
       "<div>\n",
       "<style scoped>\n",
       "    .dataframe tbody tr th:only-of-type {\n",
       "        vertical-align: middle;\n",
       "    }\n",
       "\n",
       "    .dataframe tbody tr th {\n",
       "        vertical-align: top;\n",
       "    }\n",
       "\n",
       "    .dataframe thead th {\n",
       "        text-align: right;\n",
       "    }\n",
       "</style>\n",
       "<table border=\"1\" class=\"dataframe\">\n",
       "  <thead>\n",
       "    <tr style=\"text-align: right;\">\n",
       "      <th></th>\n",
       "      <th>question</th>\n",
       "      <th>Mava correct answer (True value)</th>\n",
       "      <th>Bot answers</th>\n",
       "      <th>Retrieval relevancy score</th>\n",
       "      <th>Answer similarity score</th>\n",
       "    </tr>\n",
       "  </thead>\n",
       "  <tbody>\n",
       "    <tr>\n",
       "      <th>0</th>\n",
       "      <td>Hi, how can I get backstage access?</td>\n",
       "      <td>To get backstage access, you need to become a ...</td>\n",
       "      <td>To obtain +Backstage access, you need to meet ...</td>\n",
       "      <td>Correct</td>\n",
       "      <td>Correct</td>\n",
       "    </tr>\n",
       "    <tr>\n",
       "      <th>1</th>\n",
       "      <td>how long does it take until findings are relea...</td>\n",
       "      <td>Based on the context provided, the findings fr...</td>\n",
       "      <td>The findings are released and made public when...</td>\n",
       "      <td>Correct</td>\n",
       "      <td>Correct</td>\n",
       "    </tr>\n",
       "    <tr>\n",
       "      <th>2</th>\n",
       "      <td>When can I talk about findings?</td>\n",
       "      <td>You can talk about your findings after the con...</td>\n",
       "      <td>The appropriate time to discuss findings is af...</td>\n",
       "      <td>Incorrect</td>\n",
       "      <td>Incorrect</td>\n",
       "    </tr>\n",
       "    <tr>\n",
       "      <th>3</th>\n",
       "      <td>How do I change my wallet address?</td>\n",
       "      <td>To change your wallet address, follow these st...</td>\n",
       "      <td>To update your wallet address, follow these st...</td>\n",
       "      <td>Correct</td>\n",
       "      <td>Correct</td>\n",
       "    </tr>\n",
       "    <tr>\n",
       "      <th>4</th>\n",
       "      <td>What are scouts?</td>\n",
       "      <td>In the context of Code4rena, Scouts are indivi...</td>\n",
       "      <td>Scouts are individuals who focus on scoping an...</td>\n",
       "      <td>Correct</td>\n",
       "      <td>Correct</td>\n",
       "    </tr>\n",
       "    <tr>\n",
       "      <th>5</th>\n",
       "      <td>How long does the contest process usually take?</td>\n",
       "      <td>Based on the provided context, the contest pro...</td>\n",
       "      <td>The typical duration of the contest process, f...</td>\n",
       "      <td>Correct</td>\n",
       "      <td>Correct</td>\n",
       "    </tr>\n",
       "    <tr>\n",
       "      <th>6</th>\n",
       "      <td>how does certification work?</td>\n",
       "      <td>The certification process at Code4rena works i...</td>\n",
       "      <td>To obtain certification, you need to submit th...</td>\n",
       "      <td>Correct</td>\n",
       "      <td>Correct</td>\n",
       "    </tr>\n",
       "    <tr>\n",
       "      <th>7</th>\n",
       "      <td>Can I use bots to analyze code?</td>\n",
       "      <td>Yes, you can use bots to analyze code. In fact...</td>\n",
       "      <td>Yes, it is possible to utilize bots for code a...</td>\n",
       "      <td>Correct</td>\n",
       "      <td>Correct</td>\n",
       "    </tr>\n",
       "    <tr>\n",
       "      <th>8</th>\n",
       "      <td>What is a lookout?</td>\n",
       "      <td>In the context provided, a lookout is a role i...</td>\n",
       "      <td>A Lookout is a role in Code4rena's competition...</td>\n",
       "      <td>Correct</td>\n",
       "      <td>Correct</td>\n",
       "    </tr>\n",
       "  </tbody>\n",
       "</table>\n",
       "</div>"
      ],
      "text/plain": [
       "                                            question  \\\n",
       "0                Hi, how can I get backstage access?   \n",
       "1  how long does it take until findings are relea...   \n",
       "2                    When can I talk about findings?   \n",
       "3                 How do I change my wallet address?   \n",
       "4                                   What are scouts?   \n",
       "5    How long does the contest process usually take?   \n",
       "6                       how does certification work?   \n",
       "7                    Can I use bots to analyze code?   \n",
       "8                                 What is a lookout?   \n",
       "\n",
       "                    Mava correct answer (True value)  \\\n",
       "0  To get backstage access, you need to become a ...   \n",
       "1  Based on the context provided, the findings fr...   \n",
       "2  You can talk about your findings after the con...   \n",
       "3  To change your wallet address, follow these st...   \n",
       "4  In the context of Code4rena, Scouts are indivi...   \n",
       "5  Based on the provided context, the contest pro...   \n",
       "6  The certification process at Code4rena works i...   \n",
       "7  Yes, you can use bots to analyze code. In fact...   \n",
       "8  In the context provided, a lookout is a role i...   \n",
       "\n",
       "                                         Bot answers  \\\n",
       "0  To obtain +Backstage access, you need to meet ...   \n",
       "1  The findings are released and made public when...   \n",
       "2  The appropriate time to discuss findings is af...   \n",
       "3  To update your wallet address, follow these st...   \n",
       "4  Scouts are individuals who focus on scoping an...   \n",
       "5  The typical duration of the contest process, f...   \n",
       "6  To obtain certification, you need to submit th...   \n",
       "7  Yes, it is possible to utilize bots for code a...   \n",
       "8  A Lookout is a role in Code4rena's competition...   \n",
       "\n",
       "  Retrieval relevancy score Answer similarity score  \n",
       "0                   Correct                 Correct  \n",
       "1                   Correct                 Correct  \n",
       "2                 Incorrect               Incorrect  \n",
       "3                   Correct                 Correct  \n",
       "4                   Correct                 Correct  \n",
       "5                   Correct                 Correct  \n",
       "6                   Correct                 Correct  \n",
       "7                   Correct                 Correct  \n",
       "8                   Correct                 Correct  "
      ]
     },
     "execution_count": 234,
     "metadata": {},
     "output_type": "execute_result"
    }
   ],
   "source": [
    "import pandas as pd\n",
    "\n",
    "df = pd.DataFrame({\n",
    "    \"question\": [d['question'] for d in yaml_data],\n",
    "    \"Mava correct answer (True value)\": [d['answer'] for d in yaml_data],\n",
    "    \"Bot answers\": [p['result'] for p in predictions],\n",
    "    \"Retrieval relevancy score\": ['Incorrect' if 'Incorrect' in g['results'] else 'Correct' for g in retrieval_grades],\n",
    "    \"Answer similarity score\": ['Incorrect' if 'Incorrect' in g['results'] else 'Correct' for g in answer_grades]\n",
    "})\n",
    "df"
   ]
  },
  {
   "cell_type": "code",
   "execution_count": 235,
   "metadata": {},
   "outputs": [
    {
     "name": "stdout",
     "output_type": "stream",
     "text": [
      "Bot Accuracy: 0.8888888888888888\n"
     ]
    }
   ],
   "source": [
    "print(f\"Bot Accuracy: {df['Answer similarity score'].value_counts()['Correct'] / len(df['Answer similarity score'])}\")"
   ]
  },
  {
   "cell_type": "markdown",
   "metadata": {},
   "source": [
    "### HyDE technique\n",
    "This technique can help improve information retrieval\n",
    "\n",
    "https://python.langchain.com/docs/use_cases/question_answering/how_to/hyde"
   ]
  },
  {
   "cell_type": "code",
   "execution_count": null,
   "metadata": {},
   "outputs": [],
   "source": [
    "vectorstore_hyde = Chroma(\"store_hyde_1\", embeddings, collection_metadata={\"hnsw:space\": \"cosine\"})\n",
    "vectorstore_hyde.add_documents(website_chunks)\n",
    "vectorstore_hyde.add_documents(gh_docs_chunks)"
   ]
  },
  {
   "cell_type": "code",
   "execution_count": null,
   "metadata": {},
   "outputs": [],
   "source": [
    "from langchain.vectorstores.base import VectorStoreRetriever\n",
    "from langchain.callbacks.manager import (\n",
    "    AsyncCallbackManagerForRetrieverRun,\n",
    "    CallbackManagerForRetrieverRun,\n",
    ")\n",
    "from langchain.docstore.document import Document\n",
    "from typing import List\n",
    "\n",
    "class HydeRetriever(VectorStoreRetriever):\n",
    "\n",
    "    def _get_relevant_documents(\n",
    "        self, query: str, *, run_manager: CallbackManagerForRetrieverRun\n",
    "    ) -> List[Document]:\n",
    "        llm = ChatOpenAI(model_name=\"gpt-3.5-turbo\", temperature=0)\n",
    "\n",
    "        web_search_template = \"\"\"Please write a passage to answer the question \n",
    "        Question: {QUESTION}\n",
    "        Passage:\"\"\"\n",
    "\n",
    "        web_search = PromptTemplate(template=web_search_template, input_variables=[\"QUESTION\"])\n",
    "\n",
    "        llm_chain = LLMChain(llm=llm, prompt=web_search)\n",
    "\n",
    "        result = llm_chain(inputs={\"QUESTION\": query}, return_only_outputs=True)\n",
    "        hyquery = result['text']\n",
    "\n",
    "        return super()._get_relevant_documents(hyquery, run_manager=run_manager)\n",
    "\n",
    "\n",
    "hyde_retriever = HydeRetriever(vectorstore=vectorstore_hyde)\n",
    "\n",
    "hyde_retriever.get_relevant_documents(\"How can I access findings.csv\")"
   ]
  },
  {
   "cell_type": "code",
   "execution_count": 299,
   "metadata": {},
   "outputs": [],
   "source": [
    "\n",
    "qa = RetrievalQA.from_chain_type(llm=ChatOpenAI(model_name=\"gpt-4\", temperature=0), chain_type=\"stuff\", retriever=hyde_retriever, return_source_documents=True)\n",
    "\n",
    "\n",
    "def call_hyde_llm(question):\n",
    "    result = qa({\"query\": question})\n",
    "    result['rephrased_question'] = None\n",
    "    return result\n",
    "\n",
    "def ask_hyde(question):\n",
    "    result = call_hyde_llm(question)\n",
    "    display_result(question, result)"
   ]
  },
  {
   "cell_type": "markdown",
   "metadata": {},
   "source": [
    "#### Final Implementation"
   ]
  },
  {
   "cell_type": "code",
   "execution_count": 325,
   "metadata": {},
   "outputs": [],
   "source": [
    "from langchain.embeddings import OpenAIEmbeddings\n",
    "from langchain.vectorstores import Chroma\n",
    "\n",
    "# NOTE: At times, OpenAI Embedding service can fail intermittently and return errorneous values such as [NaN], more info: https://github.com/langchain-ai/langchain/pull/7070\n",
    "\n",
    "embeddings = OpenAIEmbeddings()\n",
    "vectorstore_with_sources = Chroma(\"vectorstore_with_sources3\", embeddings, collection_metadata={\"hnsw:space\": \"cosine\"})\n",
    "\n",
    "for i, d in enumerate(website_chunks):\n",
    "    d.metadata['source'] = f\"w{i}-pl\"\n",
    "    vectorstore_with_sources.add_documents([d])\n",
    "\n",
    "for i, d in enumerate(gh_docs_chunks):\n",
    "    local_path = d.metadata['source']\n",
    "    d.metadata['source'] = f\"g{i}-pl\"\n",
    "    d.metadata['url'] = f\"{local_path.replace(C4_GH_DOCS_STORAGE_DIR, 'https://github.com/code-423n4/docs/blob/main/')}\"\n",
    "    vectorstore_with_sources.add_documents([d])"
   ]
  },
  {
   "cell_type": "code",
   "execution_count": 372,
   "metadata": {},
   "outputs": [
    {
     "name": "stderr",
     "output_type": "stream",
     "text": [
      "INFO:langchain.retrievers.multi_query:Generated queries: ['1. Can you provide information about the different types of scout awards?', '2. How can I learn more about the various scout awards available?', '3. What is the significance of scout awards and how can one earn them?']\n"
     ]
    },
    {
     "data": {
      "text/plain": [
       "[Document(page_content=\"### How can I become a Judge?\\n\\nComplete [this form](https://code4rena.com/judge-application/) and share: Short bio/intro and summary of relevant experience, links that help demonstrate your expertise, 3 example submissions to Code4rena contests that were judged high severity, description of how each submission demonstrates your depth of knowledge.\\n\\n### How can I become a Scout?\\n\\nYou can’t, just yet! Right now, Scouts are hand-picked by the C4 team as it’s a highly sensitive role. We’re looking at the possibility of opening up this process, but not in the near future.\\n\\n### I want Code4rena to audit my project, where do I start?\\n\\nIt’s really simple! Just visit [this link](https://code4rena.typeform.com/i-want-an-audit) and fill out the form. Our team will be in touch with you shortly after you’ve completed it.\\n\\n### Do you have a blog?\\n\\nWe do indeed, [here](https://medium.com/code-423n4). We post product updates, sponsor interviews and more.\\n\\n### What’s the best way to stay up to date with Code4rena?\\n\\n[Follow us](https://twitter.com/code4rena) on Twitter and turn on notifications in our #announcements channel in [Discord](https://discord.gg/code4rena). \\n\\n### Where can I view the audit results?\\n\\nOnce an audit's results have been finalized, they’ll be shared in our #announcements channel in Discord. The audit's page in the ‘[Audits](https://code4rena.com/contests)’ section on our website will also be updated to show results.\\n\\n### Where can I read past Code4rena audit reports?\\n\\nWe push all public audit reports to the ‘[Reports](https://code4rena.com/reports)’ section on our website. This enables you to read through past findings, evaluate commonalities, and continue your learning journey. Our [GitHub](https://github.com/code-423n4/) repos are also public, for those of you interested in diving deeper.\", metadata={'source': 'g68-pl', 'url': 'https://github.com/code-423n4/docs/blob/main//structure/frequently-asked-questions.md'}),\n",
       " Document(page_content='#### Can I see some examples of how awards work?\\n\\nAwards for each contest are [posted on the Code4rena website](https://code4rena.com/contests). See [Numoen](https://code4rena.com/contests/2023-01-numoen-findings), for example. The award calculation for Numoen had the following parameters:\\n\\n* **Total awards: 50,000 USDC**\\n* Main award pool: 42,500 USDC\\n* QA pool: 5,000 USDC\\n* Gas pool: 2,500 USDC\\n\\nThe table below shows each unique high and medium severity finding (`H-XX`, `M-XX`), QA report (`Q-XX`), gas optimization report (`G-XX`), and the way each submission’s award was calculated:\\n\\n* `pie` is the number of shares assigned to that report or finding\\n* `split` is the number of times those shares were divided\\n* `slice` is the number of shares assigned for that warden’s finding\\n* each `award` is calculated by `shares * (pot / number_of_shares)`\\n\\n**Tribe Turbo awards**', metadata={'source': 'g22-pl', 'url': 'https://github.com/code-423n4/docs/blob/main//awarding/incentive-model-and-awards/curve-logic.md'}),\n",
       " Document(page_content='# Incentive model and awards\\n\\nTo incentivize **wardens**, C4 uses a unique scoring system with two primary goals: reward contestants for finding unique bugs and also to make the audit resistant to Sybil attack. A secondary goal of the scoring system is to encourage contestants to form teams and collaborate.\\n\\n**Judges** are incentivized to review findings and decide their severity, validity, and quality by receiving a share of the prize pool themselves.\\n\\n## High and Medium Risk bugs\\n\\nContestants are given shares for bugs discovered based on severity, and those shares give the owner a pro rata piece of the pot:\\n\\n`Med Risk Shares: 3 * (0.9 ^ (findingCount - 1)) / findingCount`\\\\\\n`High Risk Shares: 10 * (0.9 ^ (findingCount - 1)) / findingCount`\\n\\nFindingCount represents the number of findings for a same specific bug.\\nPlease note that findings with partial credit as still count as 1 finding in the algorithm\\n\\nDuring awarding, each share is redeemed for: `pot / number of shares`.\\n\\n### Bonus for best / selected for report\\n\\nFor each unique High or Medium finding, the submission selected for inclusion in the audit report receives a 30% share bonus.\\n\\n### Duplicates getting partial credit\\n\\nAll issues which identify the same functional vulnerability will be considered duplicates regardless of effective rationalization of severity or exploit path.\\n\\nHowever, any submissions which do not identify or effectively rationalize the top identified severity case may be judged as “partial credit” and may have their shares in that finding’s pie divided by 2 or 4 at judge’s sole discretion (e.g. 50% or 25% of the shares of a satisfactory submission in the duplicate set).', metadata={'source': 'g17-pl', 'url': 'https://github.com/code-423n4/docs/blob/main//awarding/incentive-model-and-awards/README.md'}),\n",
       " Document(page_content='---\\ndescription: >-\\n  This is a high level overview of the C4 awarding process. \\n---\\n\\n# Awarding process\\n\\nAt the conclusion of an audit, sponsors review wardens’ findings and express their opinions with regard to severity of issues. Judges evaluate input from both and make the ultimate decision in terms of severity and validity of issues. (See [How to judge an audit](../../roles/judges/how-to-judge-a-contest.md) for more detail.)\\n\\nIn making their determination, judges add labels to Github issues, while the original submission data (including the warden\\'s proposed severity rating) is preserved via a JSON data file. \\n\\nThe judge\\'s decisions are reviewed by the sponsoring project team and by [+backstage wardens](https://docs.code4rena.com/roles/certified-contributors/backstage-wardens) via a 48-hour QA process, to ensure fairness and quality. \\n\\nJudging data is used to generate the awards using Code4rena\\'s award calculation script, which factors in:\\n\\n- Risk level\\n- Validity\\n- Number of duplicates\\n- Grade (A, B, C; Satisfactory/Unsatisfactory)\\n- In some cases, \"partial duplicate\" status\\n\\n It should be possible to reverse engineer awards using a combination of two CSV files:\\n \\n - [`findings.csv`](https://code4rena.com/community-resources/findings.csv): valid Code4rena findings\\n - [`contests.csv`](https://code4rena.com/community-resources/contests.csv): Code4rena audits \\n\\nOnce awards are determined, we generate a CSV file enumerating funds to be sent. Distribution is then initiated using disperse.app and sent to multisig signers for completion of payment.', metadata={'source': 'g13-pl', 'url': 'https://github.com/code-423n4/docs/blob/main//awarding/incentive-model-and-awards/awarding-process.md'}),\n",
       " Document(page_content='### Bug bounties vs C4 audits\\n\\n| Bug bounties                                                                                            | Competitive audits                                                                                                                                    |\\n| ------------------------------------------------------------------------------------------------------- | ------------------------------------------------------------------------------------------------------------------------------------------------- |\\n| **Spec work.** No way to have confidence that the time invested will produce a payout.                  | **Guaranteed payouts.** Auditors know it’s highly likely they can find a bug that will make it worth their time.                                  |\\n| **Dark forest.** Who knows how much competition there is right now? Or how mature the codebase is?      | **Low-hanging fruit.** If a project is seeking an audit, it’s likely fresh code with clear opportunities to dig in.                               |\\n| **Grow on your own.** Researchers have to proactively look for ways to learn and level up their skills. | **Learning community.** Open, competitive audits let auditors compare everyone’s findings and learn new things every single week.                            |\\n| **Paradox of choice.** So many projects have bounties. How does an auditor choose which to focus on?    | **Less FOMO.** C4 runs a handful of active audits at a time and wardens can RSVP to signal to each other which audits have more participants. |', metadata={'source': 'g2-pl', 'url': 'https://github.com/code-423n4/docs/blob/main//README.md'}),\n",
       " Document(page_content='### Getting an audit is courageous\\n\\nAn audit is an investment in a better long-term outcome for both the project undergoing the audit as well as its users and the community as a whole.&#x20;\\n\\nIt requires tremendous courage to ask someone to look closely and find as many places where code could be improved.&#x20;\\n\\nBecause of this, we treat sponsor projects with respect. We consider every finding discovered in an audit contest as a tool that we can use in the future to help others learn and better understand smart contract vulnerabilities.&#x20;\\n\\n### Both wardens and sponsors have a voice in the process\\n\\nWe take sponsors’ feelings into consideration, working to help find ways to communicate and disclose the results of audits in a way that works as best as we can to eliminate the “blame and shame” approach and replace it with one that honors sponsors’ contribution toward making their project and the DeFi space more secure for everyone.\\n\\nOur contest process is transparent, with all issues reviewable on GitHub. We put an impartial judge in the position of listening to all players’ positions on a given issue and making a final determination.\\n\\n### We are a community\\n\\nWe trust that a community-driven approach with valuable incentives ensures enough coverage to give sponsors a meaningful and valuable audit without putting the burden on any one person to do a ’good enough job’ catching every bug—a burden that burns out traditional auditors.\\n\\nOur community chose the wolf as our symbol, and it’s fitting. Wolves are highly collaborative creatures who hunt in packs.\\n\\nRather than putting the pressure on individual auditors to catch all the vulnerabilities in a project, we ask competitors to catch the bugs that they can, and trust that the community will show up and contribute.', metadata={'source': 'g63-pl', 'url': 'https://github.com/code-423n4/docs/blob/main//philosophy/security-is-about-people.md'})]"
      ]
     },
     "execution_count": 372,
     "metadata": {},
     "output_type": "execute_result"
    }
   ],
   "source": [
    "from langchain.chat_models import ChatOpenAI\n",
    "from langchain.retrievers.multi_query import MultiQueryRetriever\n",
    "\n",
    "question = \"What are scout awards?\"\n",
    "llm = ChatOpenAI(temperature=0)\n",
    "retriever_from_llm = MultiQueryRetriever.from_llm(\n",
    "    retriever=vectorstore_with_sources.as_retriever(), llm=llm\n",
    ")\n",
    "import logging\n",
    "\n",
    "logging.basicConfig()\n",
    "logging.getLogger(\"langchain.retrievers.multi_query\").setLevel(logging.INFO)\n",
    "\n",
    "unique_docs = retriever_from_llm.get_relevant_documents(query=question)\n",
    "unique_docs"
   ]
  },
  {
   "cell_type": "code",
   "execution_count": 357,
   "metadata": {},
   "outputs": [],
   "source": [
    "from langchain.chains import RetrievalQAWithSourcesChain\n",
    "from langchain.chat_models import ChatOpenAI\n",
    "\n",
    "\n",
    "model = ChatOpenAI(model_name=\"gpt-4\", temperature=0)\n",
    "\n",
    "qa = RetrievalQAWithSourcesChain.from_chain_type(model, chain_type=\"stuff\", retriever=vectorstore_with_sources.as_retriever(), return_source_documents=True)\n",
    "\n",
    "\n",
    "def run_qa_with_sources(question, use_rephrased_questions=False):\n",
    "\n",
    "    rephrased_question = None\n",
    "\n",
    "    if not use_rephrased_questions:\n",
    "        result = qa({\"question\": question}, return_only_outputs=True)\n",
    "    else:\n",
    "    \n",
    "        rephrased_questions = generate_rephrased_questions(question)\n",
    "\n",
    "        # Attempt each question until a valid result is found\n",
    "        for q in rephrased_questions:\n",
    "            result = qa({\"question\": q}, return_only_outputs=True)            \n",
    "            # If the model is unable to find an answer, it returns 'sorry' in the response, we try again with a different question\n",
    "            if 'sorry' in result['answer'].lower():\n",
    "                continue\n",
    "            else:\n",
    "                rephrased_question = q\n",
    "                break\n",
    "\n",
    "    answer = result['answer']\n",
    "    source_ids = result['sources']\n",
    "    source_docs = result['source_documents']\n",
    "\n",
    "    source_urls = set()\n",
    "    for d in source_docs:\n",
    "        metadata = d.metadata\n",
    "        source_id = metadata['source']\n",
    "        url = metadata['url']\n",
    "        if source_id in source_ids:\n",
    "            source_urls.add(url)\n",
    "    return dict(answer=answer, source_urls=source_urls, rephrased_question=rephrased_question)\n",
    "\n",
    "def ask_with_sources(question, use_rephrased_questions=False):\n",
    "    result = run_qa_with_sources(question, use_rephrased_questions)\n",
    "\n",
    "    display(Markdown(f\"### Question\"))\n",
    "    display(Markdown(\"ORIGINAL: \" + question))\n",
    "    display(Markdown(\"REPHRASED: \" + f\"{result['rephrased_question'] if 'rephrased_question' in result else 'None'}\"))\n",
    "\n",
    "    display(Markdown(f\"### Answer\"))\n",
    "    display(Markdown(result[\"answer\"]))\n",
    "\n",
    "    display(Markdown(f\"### Sources\"))\n",
    "    print(\", \".join(result['source_urls']))"
   ]
  },
  {
   "cell_type": "code",
   "execution_count": 360,
   "metadata": {},
   "outputs": [
    {
     "data": {
      "text/markdown": [
       "### Question"
      ],
      "text/plain": [
       "<IPython.core.display.Markdown object>"
      ]
     },
     "metadata": {},
     "output_type": "display_data"
    },
    {
     "data": {
      "text/markdown": [
       "ORIGINAL: what's a scout?"
      ],
      "text/plain": [
       "<IPython.core.display.Markdown object>"
      ]
     },
     "metadata": {},
     "output_type": "display_data"
    },
    {
     "data": {
      "text/markdown": [
       "REPHRASED: What is the definition of a scout?"
      ],
      "text/plain": [
       "<IPython.core.display.Markdown object>"
      ]
     },
     "metadata": {},
     "output_type": "display_data"
    },
    {
     "data": {
      "text/markdown": [
       "### Answer"
      ],
      "text/plain": [
       "<IPython.core.display.Markdown object>"
      ]
     },
     "metadata": {},
     "output_type": "display_data"
    },
    {
     "data": {
      "text/markdown": [
       "A scout in the context of Code4rena is a highly sensitive role that is currently hand-picked by the C4 team. The process of becoming a scout is not open to the public at this time.\n"
      ],
      "text/plain": [
       "<IPython.core.display.Markdown object>"
      ]
     },
     "metadata": {},
     "output_type": "display_data"
    },
    {
     "data": {
      "text/markdown": [
       "### Sources"
      ],
      "text/plain": [
       "<IPython.core.display.Markdown object>"
      ]
     },
     "metadata": {},
     "output_type": "display_data"
    },
    {
     "name": "stdout",
     "output_type": "stream",
     "text": [
      "https://github.com/code-423n4/docs/blob/main//structure/frequently-asked-questions.md\n"
     ]
    },
    {
     "data": {
      "text/markdown": [
       "### Question"
      ],
      "text/plain": [
       "<IPython.core.display.Markdown object>"
      ]
     },
     "metadata": {},
     "output_type": "display_data"
    },
    {
     "data": {
      "text/markdown": [
       "ORIGINAL: Am I allowed to use AI in an audit?"
      ],
      "text/plain": [
       "<IPython.core.display.Markdown object>"
      ]
     },
     "metadata": {},
     "output_type": "display_data"
    },
    {
     "data": {
      "text/markdown": [
       "REPHRASED: Can I utilize AI technology during an audit?"
      ],
      "text/plain": [
       "<IPython.core.display.Markdown object>"
      ]
     },
     "metadata": {},
     "output_type": "display_data"
    },
    {
     "data": {
      "text/markdown": [
       "### Answer"
      ],
      "text/plain": [
       "<IPython.core.display.Markdown object>"
      ]
     },
     "metadata": {},
     "output_type": "display_data"
    },
    {
     "data": {
      "text/markdown": [
       "Yes, you can utilize AI technology during an audit. However, using the output of AI tools like ChatGPT, GPT-3, or other automated tools for audit submissions is discouraged as it can lead to a high ratio of nonsense submissions. Automated tools can be used as a first pass, and findings from these tools can be built upon to identify high and medium severity issues. Code4rena also runs a Bot Race at the start of each audit, where AI-driven bots compete to create the highest quality and most thorough audit report. The winning report is shared with all wardens and all findings in the winning Bot Report are declared publicly known issues, and therefore ineligible for awards.\n"
      ],
      "text/plain": [
       "<IPython.core.display.Markdown object>"
      ]
     },
     "metadata": {},
     "output_type": "display_data"
    },
    {
     "data": {
      "text/markdown": [
       "### Sources"
      ],
      "text/plain": [
       "<IPython.core.display.Markdown object>"
      ]
     },
     "metadata": {},
     "output_type": "display_data"
    },
    {
     "name": "stdout",
     "output_type": "stream",
     "text": [
      "https://github.com/code-423n4/docs/blob/main//roles/wardens/submission-policy.md, https://github.com/code-423n4/docs/blob/main//awarding/incentive-model-and-awards/README.md\n"
     ]
    },
    {
     "data": {
      "text/markdown": [
       "### Question"
      ],
      "text/plain": [
       "<IPython.core.display.Markdown object>"
      ]
     },
     "metadata": {},
     "output_type": "display_data"
    },
    {
     "data": {
      "text/markdown": [
       "ORIGINAL: Can I change my Code4rena username?"
      ],
      "text/plain": [
       "<IPython.core.display.Markdown object>"
      ]
     },
     "metadata": {},
     "output_type": "display_data"
    },
    {
     "data": {
      "text/markdown": [
       "REPHRASED: Is it possible to modify my Code4rena username?"
      ],
      "text/plain": [
       "<IPython.core.display.Markdown object>"
      ]
     },
     "metadata": {},
     "output_type": "display_data"
    },
    {
     "data": {
      "text/markdown": [
       "### Answer"
      ],
      "text/plain": [
       "<IPython.core.display.Markdown object>"
      ]
     },
     "metadata": {},
     "output_type": "display_data"
    },
    {
     "data": {
      "text/markdown": [
       "The documents do not provide information on whether it is possible to modify a Code4rena username.\n"
      ],
      "text/plain": [
       "<IPython.core.display.Markdown object>"
      ]
     },
     "metadata": {},
     "output_type": "display_data"
    },
    {
     "data": {
      "text/markdown": [
       "### Sources"
      ],
      "text/plain": [
       "<IPython.core.display.Markdown object>"
      ]
     },
     "metadata": {},
     "output_type": "display_data"
    },
    {
     "name": "stdout",
     "output_type": "stream",
     "text": [
      "https://github.com/code-423n4/docs/blob/main//roles/wardens/warden-auth.md, https://code4rena.com/help\n"
     ]
    },
    {
     "data": {
      "text/markdown": [
       "### Question"
      ],
      "text/plain": [
       "<IPython.core.display.Markdown object>"
      ]
     },
     "metadata": {},
     "output_type": "display_data"
    },
    {
     "data": {
      "text/markdown": [
       "ORIGINAL: How do I book a solo audit?"
      ],
      "text/plain": [
       "<IPython.core.display.Markdown object>"
      ]
     },
     "metadata": {},
     "output_type": "display_data"
    },
    {
     "data": {
      "text/markdown": [
       "REPHRASED: What is the process for reserving a solo audit?"
      ],
      "text/plain": [
       "<IPython.core.display.Markdown object>"
      ]
     },
     "metadata": {},
     "output_type": "display_data"
    },
    {
     "data": {
      "text/markdown": [
       "### Answer"
      ],
      "text/plain": [
       "<IPython.core.display.Markdown object>"
      ]
     },
     "metadata": {},
     "output_type": "display_data"
    },
    {
     "data": {
      "text/markdown": [
       "The process for reserving a solo audit involves the following steps:\n",
       "\n",
       "1. A project team member clicks the “Get a quote” button on a warden’s profile, and shares scoping details with the Code4rena team.\n",
       "2. Code4rena staff then consult with the warden and project team to firm up scoping, pricing, and dates.\n",
       "\n",
       "When a solo audit is booked via a warden’s “Available for hire” function, both the warden and the project have direct access to Code4rena staff for assistance with legal agreements, scoping, pricing, and logistical planning, collection and disbursement of funds, and external accountability via a Code4rena Judge.\n",
       "\n",
       "If you are a Certified warden, you can make yourself available for solo audits by logging in to your user account on the Code4rena website, and opting in to the “Available for hire” function on the Settings screen.\n"
      ],
      "text/plain": [
       "<IPython.core.display.Markdown object>"
      ]
     },
     "metadata": {},
     "output_type": "display_data"
    },
    {
     "data": {
      "text/markdown": [
       "### Sources"
      ],
      "text/plain": [
       "<IPython.core.display.Markdown object>"
      ]
     },
     "metadata": {},
     "output_type": "display_data"
    },
    {
     "name": "stdout",
     "output_type": "stream",
     "text": [
      "https://github.com/code-423n4/docs/blob/main//roles/wardens/solo-audits.md\n"
     ]
    },
    {
     "data": {
      "text/markdown": [
       "### Question"
      ],
      "text/plain": [
       "<IPython.core.display.Markdown object>"
      ]
     },
     "metadata": {},
     "output_type": "display_data"
    },
    {
     "data": {
      "text/markdown": [
       "ORIGINAL: Do I need to be certified to participate in an audit?"
      ],
      "text/plain": [
       "<IPython.core.display.Markdown object>"
      ]
     },
     "metadata": {},
     "output_type": "display_data"
    },
    {
     "data": {
      "text/markdown": [
       "REPHRASED: Is certification required to take part in an audit?"
      ],
      "text/plain": [
       "<IPython.core.display.Markdown object>"
      ]
     },
     "metadata": {},
     "output_type": "display_data"
    },
    {
     "data": {
      "text/markdown": [
       "### Answer"
      ],
      "text/plain": [
       "<IPython.core.display.Markdown object>"
      ]
     },
     "metadata": {},
     "output_type": "display_data"
    },
    {
     "data": {
      "text/markdown": [
       "Yes, certification is required to take part in an audit. Certified Wardens have the opportunity to book solo audits through Code4rena.\n"
      ],
      "text/plain": [
       "<IPython.core.display.Markdown object>"
      ]
     },
     "metadata": {},
     "output_type": "display_data"
    },
    {
     "data": {
      "text/markdown": [
       "### Sources"
      ],
      "text/plain": [
       "<IPython.core.display.Markdown object>"
      ]
     },
     "metadata": {},
     "output_type": "display_data"
    },
    {
     "name": "stdout",
     "output_type": "stream",
     "text": [
      "https://github.com/code-423n4/docs/blob/main//roles/certified-contributors/README.md, https://github.com/code-423n4/docs/blob/main//roles/wardens/solo-audits.md\n"
     ]
    },
    {
     "data": {
      "text/markdown": [
       "### Question"
      ],
      "text/plain": [
       "<IPython.core.display.Markdown object>"
      ]
     },
     "metadata": {},
     "output_type": "display_data"
    },
    {
     "data": {
      "text/markdown": [
       "ORIGINAL: How do bot races work?"
      ],
      "text/plain": [
       "<IPython.core.display.Markdown object>"
      ]
     },
     "metadata": {},
     "output_type": "display_data"
    },
    {
     "data": {
      "text/markdown": [
       "REPHRASED: What is the process of bot races?"
      ],
      "text/plain": [
       "<IPython.core.display.Markdown object>"
      ]
     },
     "metadata": {},
     "output_type": "display_data"
    },
    {
     "data": {
      "text/markdown": [
       "### Answer"
      ],
      "text/plain": [
       "<IPython.core.display.Markdown object>"
      ]
     },
     "metadata": {},
     "output_type": "display_data"
    },
    {
     "data": {
      "text/markdown": [
       "The process of bot races involves two stages. In the first stage, known as the Qualifier Race, Bot Crews compete to have their bots deliver the highest quality and most thorough report based on a repo provided at start time. This stage is open for one hour, and judges choose the Top 20 Bots for upcoming competitions. In the second stage, known as the Bot Race, the first hour of each audit competition is dedicated to a Bot Race. Bot Race submissions are assessed by Lookouts, and graded A/B/C similarly to other reports based on report quality, validity, and thoroughness. The best Bot Race report will receive a 30% share bonus. The top report will be shared in the competition's channel and will be considered the official source for known issue submissions. The winning bot report is selected and shared with all wardens within 24 hours of the audit start time. The full set of issues identified by the best automated tools are considered out of scope for the audit and ineligible for awards.\n"
      ],
      "text/plain": [
       "<IPython.core.display.Markdown object>"
      ]
     },
     "metadata": {},
     "output_type": "display_data"
    },
    {
     "data": {
      "text/markdown": [
       "### Sources"
      ],
      "text/plain": [
       "<IPython.core.display.Markdown object>"
      ]
     },
     "metadata": {},
     "output_type": "display_data"
    },
    {
     "name": "stdout",
     "output_type": "stream",
     "text": [
      "https://code4rena.com/how-it-works, https://code4rena.com/register/bot, https://github.com/code-423n4/docs/blob/main//awarding/incentive-model-and-awards/README.md\n"
     ]
    },
    {
     "data": {
      "text/markdown": [
       "### Question"
      ],
      "text/plain": [
       "<IPython.core.display.Markdown object>"
      ]
     },
     "metadata": {},
     "output_type": "display_data"
    },
    {
     "data": {
      "text/markdown": [
       "ORIGINAL: Can I change my Code4rena profile name?"
      ],
      "text/plain": [
       "<IPython.core.display.Markdown object>"
      ]
     },
     "metadata": {},
     "output_type": "display_data"
    },
    {
     "data": {
      "text/markdown": [
       "REPHRASED: Is it possible to modify my Code4rena profile name?"
      ],
      "text/plain": [
       "<IPython.core.display.Markdown object>"
      ]
     },
     "metadata": {},
     "output_type": "display_data"
    },
    {
     "data": {
      "text/markdown": [
       "### Answer"
      ],
      "text/plain": [
       "<IPython.core.display.Markdown object>"
      ]
     },
     "metadata": {},
     "output_type": "display_data"
    },
    {
     "data": {
      "text/markdown": [
       "The documents do not provide information on whether it is possible to modify a Code4rena profile name.\n"
      ],
      "text/plain": [
       "<IPython.core.display.Markdown object>"
      ]
     },
     "metadata": {},
     "output_type": "display_data"
    },
    {
     "data": {
      "text/markdown": [
       "### Sources"
      ],
      "text/plain": [
       "<IPython.core.display.Markdown object>"
      ]
     },
     "metadata": {},
     "output_type": "display_data"
    },
    {
     "name": "stdout",
     "output_type": "stream",
     "text": [
      "https://code4rena.com/register, https://code4rena.com/contests/2023-05-chainlink-cross-chain-services-ccip-and-arm-network, https://code4rena.com/contests/2023-01-reserve-contest, https://code4rena.com/help\n"
     ]
    },
    {
     "data": {
      "text/markdown": [
       "### Question"
      ],
      "text/plain": [
       "<IPython.core.display.Markdown object>"
      ]
     },
     "metadata": {},
     "output_type": "display_data"
    },
    {
     "data": {
      "text/markdown": [
       "ORIGINAL: What are scout awards?"
      ],
      "text/plain": [
       "<IPython.core.display.Markdown object>"
      ]
     },
     "metadata": {},
     "output_type": "display_data"
    },
    {
     "data": {
      "text/markdown": [
       "REPHRASED: What is the meaning of scout awards?"
      ],
      "text/plain": [
       "<IPython.core.display.Markdown object>"
      ]
     },
     "metadata": {},
     "output_type": "display_data"
    },
    {
     "data": {
      "text/markdown": [
       "### Answer"
      ],
      "text/plain": [
       "<IPython.core.display.Markdown object>"
      ]
     },
     "metadata": {},
     "output_type": "display_data"
    },
    {
     "data": {
      "text/markdown": [
       "Scout awards in the context of the Code4rena (C4) community are incentives given to wardens (participants) who find unique bugs in a project undergoing an audit. The awarding process involves judges who evaluate the severity and validity of the issues found. The awards are calculated based on several factors including risk level, validity, number of duplicates, grade (A, B, C; Satisfactory/Unsatisfactory), and in some cases, \"partial duplicate\" status. For each unique High or Medium finding, the submission selected for inclusion in the audit report receives a 30% share bonus. All issues which identify the same functional vulnerability are considered duplicates, but may receive partial credit. The awards are then distributed to the wardens.\n"
      ],
      "text/plain": [
       "<IPython.core.display.Markdown object>"
      ]
     },
     "metadata": {},
     "output_type": "display_data"
    },
    {
     "data": {
      "text/markdown": [
       "### Sources"
      ],
      "text/plain": [
       "<IPython.core.display.Markdown object>"
      ]
     },
     "metadata": {},
     "output_type": "display_data"
    },
    {
     "name": "stdout",
     "output_type": "stream",
     "text": [
      "https://github.com/code-423n4/docs/blob/main//awarding/incentive-model-and-awards/curve-logic.md, https://github.com/code-423n4/docs/blob/main//philosophy/security-is-about-people.md, https://github.com/code-423n4/docs/blob/main//awarding/incentive-model-and-awards/awarding-process.md, https://github.com/code-423n4/docs/blob/main//awarding/incentive-model-and-awards/README.md\n"
     ]
    },
    {
     "data": {
      "text/markdown": [
       "### Question"
      ],
      "text/plain": [
       "<IPython.core.display.Markdown object>"
      ]
     },
     "metadata": {},
     "output_type": "display_data"
    },
    {
     "data": {
      "text/markdown": [
       "ORIGINAL: What are analysis reports?"
      ],
      "text/plain": [
       "<IPython.core.display.Markdown object>"
      ]
     },
     "metadata": {},
     "output_type": "display_data"
    },
    {
     "data": {
      "text/markdown": [
       "REPHRASED: Can you explain what analysis reports are?"
      ],
      "text/plain": [
       "<IPython.core.display.Markdown object>"
      ]
     },
     "metadata": {},
     "output_type": "display_data"
    },
    {
     "data": {
      "text/markdown": [
       "### Answer"
      ],
      "text/plain": [
       "<IPython.core.display.Markdown object>"
      ]
     },
     "metadata": {},
     "output_type": "display_data"
    },
    {
     "data": {
      "text/markdown": [
       "Analysis reports are written submissions that provide a comprehensive review of a codebase or a system. They outline the approach taken in reviewing the code, observations or advice about architecture, mechanism, or approach, and any broader concerns like systemic risks or centralization risks. These reports provide high-level insights and advice that aren't necessarily covered by specific bugs. They are judged based on their quality and the top Analysis is selected for inclusion in the audit report. In the context of Code4rena audits, each warden is encouraged to submit an Analysis alongside their findings for each audit. Advanced-level Analyses compete for a portion of each audit's award pool, and are graded and awarded similarly to QA and Gas Optimization reports.\n"
      ],
      "text/plain": [
       "<IPython.core.display.Markdown object>"
      ]
     },
     "metadata": {},
     "output_type": "display_data"
    },
    {
     "data": {
      "text/markdown": [
       "### Sources"
      ],
      "text/plain": [
       "<IPython.core.display.Markdown object>"
      ]
     },
     "metadata": {},
     "output_type": "display_data"
    },
    {
     "name": "stdout",
     "output_type": "stream",
     "text": [
      "https://github.com/code-423n4/docs/blob/main//awarding/incentive-model-and-awards/README.md, https://github.com/code-423n4/docs/blob/main//awarding/judging-criteria/README.md\n"
     ]
    },
    {
     "data": {
      "text/markdown": [
       "### Question"
      ],
      "text/plain": [
       "<IPython.core.display.Markdown object>"
      ]
     },
     "metadata": {},
     "output_type": "display_data"
    },
    {
     "data": {
      "text/markdown": [
       "ORIGINAL: what is an analysis finding?"
      ],
      "text/plain": [
       "<IPython.core.display.Markdown object>"
      ]
     },
     "metadata": {},
     "output_type": "display_data"
    },
    {
     "data": {
      "text/markdown": [
       "REPHRASED: What does the term 'analysis finding' mean?"
      ],
      "text/plain": [
       "<IPython.core.display.Markdown object>"
      ]
     },
     "metadata": {},
     "output_type": "display_data"
    },
    {
     "data": {
      "text/markdown": [
       "### Answer"
      ],
      "text/plain": [
       "<IPython.core.display.Markdown object>"
      ]
     },
     "metadata": {},
     "output_type": "display_data"
    },
    {
     "data": {
      "text/markdown": [
       "An 'analysis finding' refers to a part of an audit report that outlines the auditors' analysis of the codebase as a whole, including any observations or advice they have about architecture, mechanism, or approach, broader concerns like systemic risks or centralization risks, the approach taken in reviewing the code, and new insights and learnings from the audit. It provides auditors with an opportunity to contribute value through high level insights and advice that aren't necessarily covered by specific bugs.\n"
      ],
      "text/plain": [
       "<IPython.core.display.Markdown object>"
      ]
     },
     "metadata": {},
     "output_type": "display_data"
    },
    {
     "data": {
      "text/markdown": [
       "### Sources"
      ],
      "text/plain": [
       "<IPython.core.display.Markdown object>"
      ]
     },
     "metadata": {},
     "output_type": "display_data"
    },
    {
     "name": "stdout",
     "output_type": "stream",
     "text": [
      "https://github.com/code-423n4/docs/blob/main//awarding/judging-criteria/README.md\n"
     ]
    },
    {
     "data": {
      "text/markdown": [
       "### Question"
      ],
      "text/plain": [
       "<IPython.core.display.Markdown object>"
      ]
     },
     "metadata": {},
     "output_type": "display_data"
    },
    {
     "data": {
      "text/markdown": [
       "ORIGINAL: My name wasn't in the award announcements. When can I check on my results?"
      ],
      "text/plain": [
       "<IPython.core.display.Markdown object>"
      ]
     },
     "metadata": {},
     "output_type": "display_data"
    },
    {
     "data": {
      "text/markdown": [
       "REPHRASED: When will the award announcements be available for me to check my results?"
      ],
      "text/plain": [
       "<IPython.core.display.Markdown object>"
      ]
     },
     "metadata": {},
     "output_type": "display_data"
    },
    {
     "data": {
      "text/markdown": [
       "### Answer"
      ],
      "text/plain": [
       "<IPython.core.display.Markdown object>"
      ]
     },
     "metadata": {},
     "output_type": "display_data"
    },
    {
     "data": {
      "text/markdown": [
       "The award announcements will be available for you to check your results approximately between 25 to 34 days after the audit submissions close.\n"
      ],
      "text/plain": [
       "<IPython.core.display.Markdown object>"
      ]
     },
     "metadata": {},
     "output_type": "display_data"
    },
    {
     "data": {
      "text/markdown": [
       "### Sources"
      ],
      "text/plain": [
       "<IPython.core.display.Markdown object>"
      ]
     },
     "metadata": {},
     "output_type": "display_data"
    },
    {
     "name": "stdout",
     "output_type": "stream",
     "text": [
      "https://github.com/code-423n4/docs/blob/main//structure/our-process/README.md\n"
     ]
    },
    {
     "data": {
      "text/markdown": [
       "### Question"
      ],
      "text/plain": [
       "<IPython.core.display.Markdown object>"
      ]
     },
     "metadata": {},
     "output_type": "display_data"
    },
    {
     "data": {
      "text/markdown": [
       "ORIGINAL: How long does the certification process take?"
      ],
      "text/plain": [
       "<IPython.core.display.Markdown object>"
      ]
     },
     "metadata": {},
     "output_type": "display_data"
    },
    {
     "data": {
      "text/markdown": [
       "REPHRASED: What is the duration of the certification process?"
      ],
      "text/plain": [
       "<IPython.core.display.Markdown object>"
      ]
     },
     "metadata": {},
     "output_type": "display_data"
    },
    {
     "data": {
      "text/markdown": [
       "### Answer"
      ],
      "text/plain": [
       "<IPython.core.display.Markdown object>"
      ]
     },
     "metadata": {},
     "output_type": "display_data"
    },
    {
     "data": {
      "text/markdown": [
       "The certification process typically takes one business day after the Certified Contributor Application form is submitted, provided all necessary documents are readily available. However, it may take longer if the necessary documents need to be assembled. The C4 audit process, on the other hand, takes longer than the ideal timeline, with the actual average ranging from Day 1 for audit submissions close to Day 42-60 for the audit report to be published and audit issues to be made public.\n"
      ],
      "text/plain": [
       "<IPython.core.display.Markdown object>"
      ]
     },
     "metadata": {},
     "output_type": "display_data"
    },
    {
     "data": {
      "text/markdown": [
       "### Sources"
      ],
      "text/plain": [
       "<IPython.core.display.Markdown object>"
      ]
     },
     "metadata": {},
     "output_type": "display_data"
    },
    {
     "name": "stdout",
     "output_type": "stream",
     "text": [
      "https://github.com/code-423n4/docs/blob/main//structure/our-process/README.md, https://github.com/code-423n4/docs/blob/main//roles/certified-contributors/README.md\n"
     ]
    },
    {
     "data": {
      "text/markdown": [
       "### Question"
      ],
      "text/plain": [
       "<IPython.core.display.Markdown object>"
      ]
     },
     "metadata": {},
     "output_type": "display_data"
    },
    {
     "data": {
      "text/markdown": [
       "ORIGINAL: How can I access findings.csv?"
      ],
      "text/plain": [
       "<IPython.core.display.Markdown object>"
      ]
     },
     "metadata": {},
     "output_type": "display_data"
    },
    {
     "data": {
      "text/markdown": [
       "REPHRASED: What is the process for accessing findings.csv?"
      ],
      "text/plain": [
       "<IPython.core.display.Markdown object>"
      ]
     },
     "metadata": {},
     "output_type": "display_data"
    },
    {
     "data": {
      "text/markdown": [
       "### Answer"
      ],
      "text/plain": [
       "<IPython.core.display.Markdown object>"
      ]
     },
     "metadata": {},
     "output_type": "display_data"
    },
    {
     "data": {
      "text/markdown": [
       "To access findings.csv, you can visit the link https://code4rena.com/community-resources/findings.csv. This file contains valid Code4rena findings. It is used in combination with contests.csv to reverse engineer awards. \n"
      ],
      "text/plain": [
       "<IPython.core.display.Markdown object>"
      ]
     },
     "metadata": {},
     "output_type": "display_data"
    },
    {
     "data": {
      "text/markdown": [
       "### Sources"
      ],
      "text/plain": [
       "<IPython.core.display.Markdown object>"
      ]
     },
     "metadata": {},
     "output_type": "display_data"
    },
    {
     "name": "stdout",
     "output_type": "stream",
     "text": [
      "https://github.com/code-423n4/docs/blob/main//awarding/incentive-model-and-awards/awarding-process.md\n"
     ]
    },
    {
     "data": {
      "text/markdown": [
       "### Question"
      ],
      "text/plain": [
       "<IPython.core.display.Markdown object>"
      ]
     },
     "metadata": {},
     "output_type": "display_data"
    },
    {
     "data": {
      "text/markdown": [
       "ORIGINAL: Can I use chatgpt?"
      ],
      "text/plain": [
       "<IPython.core.display.Markdown object>"
      ]
     },
     "metadata": {},
     "output_type": "display_data"
    },
    {
     "data": {
      "text/markdown": [
       "REPHRASED: Is it possible for me to utilize chatgpt?"
      ],
      "text/plain": [
       "<IPython.core.display.Markdown object>"
      ]
     },
     "metadata": {},
     "output_type": "display_data"
    },
    {
     "data": {
      "text/markdown": [
       "### Answer"
      ],
      "text/plain": [
       "<IPython.core.display.Markdown object>"
      ]
     },
     "metadata": {},
     "output_type": "display_data"
    },
    {
     "data": {
      "text/markdown": [
       "The documents do not provide information on the possibility of utilizing chatgpt.\n"
      ],
      "text/plain": [
       "<IPython.core.display.Markdown object>"
      ]
     },
     "metadata": {},
     "output_type": "display_data"
    },
    {
     "data": {
      "text/markdown": [
       "### Sources"
      ],
      "text/plain": [
       "<IPython.core.display.Markdown object>"
      ]
     },
     "metadata": {},
     "output_type": "display_data"
    },
    {
     "name": "stdout",
     "output_type": "stream",
     "text": [
      "https://github.com/code-423n4/docs/blob/main//structure/frequently-asked-questions.md, https://code4rena.com/, https://code4rena.com/@gpersoon, https://code4rena.com/@0xA5DF\n"
     ]
    }
   ],
   "source": [
    "# Questions that were answered incorrectly by the Mava bot as per emoji reaction in the test channel\n",
    "MAVA_MISANSWERED_QUES = [\n",
    "    \"what's a scout?\",\n",
    "    \"Am I allowed to use AI in an audit?\",\n",
    "    \"Can I change my Code4rena username?\",\n",
    "    \"How do I book a solo audit?\",\n",
    "    \"Do I need to be certified to participate in an audit?\",\n",
    "    \"How do bot races work?\",\n",
    "    \"Can I change my Code4rena profile name?\",\n",
    "    \"What are scout awards?\",\n",
    "    \"What are analysis reports?\",\n",
    "    \"what is an analysis finding?\",\n",
    "    \"My name wasn't in the award announcements. When can I check on my results?\",\n",
    "    \"How long does the certification process take?\",\n",
    "    \"How can I access findings.csv?\",\n",
    "    \"Can I use chatgpt?\"\n",
    "]\n",
    "\n",
    "for q in MAVA_MISANSWERED_QUES:\n",
    "    ask_with_sources(q, use_rephrased_questions=True)"
   ]
  },
  {
   "cell_type": "code",
   "execution_count": null,
   "metadata": {},
   "outputs": [],
   "source": []
  }
 ],
 "metadata": {
  "kernelspec": {
   "display_name": "c4-chatbot",
   "language": "python",
   "name": "python3"
  },
  "language_info": {
   "codemirror_mode": {
    "name": "ipython",
    "version": 3
   },
   "file_extension": ".py",
   "mimetype": "text/x-python",
   "name": "python",
   "nbconvert_exporter": "python",
   "pygments_lexer": "ipython3",
   "version": "3.10.7"
  },
  "orig_nbformat": 4
 },
 "nbformat": 4,
 "nbformat_minor": 2
}
