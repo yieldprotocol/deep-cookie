{
  "nbformat": 4,
  "nbformat_minor": 0,
  "metadata": {
    "colab": {
      "provenance": []
    },
    "kernelspec": {
      "name": "python3",
      "display_name": "Python 3"
    },
    "language_info": {
      "name": "python"
    }
  },
  "cells": [
    {
      "cell_type": "code",
      "source": [
        "!pip install beautifulsoup4"
      ],
      "metadata": {
        "colab": {
          "base_uri": "https://localhost:8080/"
        },
        "id": "GfJ1NTeA263q",
        "outputId": "53671623-d791-427c-b7ed-3cdabfb6172b"
      },
      "execution_count": 1,
      "outputs": [
        {
          "output_type": "stream",
          "name": "stdout",
          "text": [
            "Looking in indexes: https://pypi.org/simple, https://us-python.pkg.dev/colab-wheels/public/simple/\n",
            "Requirement already satisfied: beautifulsoup4 in /usr/local/lib/python3.8/dist-packages (4.6.3)\n"
          ]
        }
      ]
    },
    {
      "cell_type": "code",
      "source": [
        "import os, requests\n",
        "from bs4 import BeautifulSoup"
      ],
      "metadata": {
        "id": "Ccp5Qdx72-Dk"
      },
      "execution_count": 127,
      "outputs": []
    },
    {
      "cell_type": "markdown",
      "source": [
        "##Scrape"
      ],
      "metadata": {
        "id": "aNMFnKSJ2Ak7"
      }
    },
    {
      "cell_type": "code",
      "execution_count": 128,
      "metadata": {
        "id": "Gz2oTQLg12HJ"
      },
      "outputs": [],
      "source": [
        "class Scraper:\n",
        "    def __init__(self, parent_url):\n",
        "        self.parent_url = parent_url\n",
        "        self.all_urls = set()\n",
        "\n",
        "    def get_all_urls(self, url):\n",
        "        response = requests.get(url)\n",
        "        soup = BeautifulSoup(response.content, 'html.parser')\n",
        "        links = soup.find_all('a')\n",
        "        urls = [link['href'] for link in links if link['href'].startswith(self.parent_url)]\n",
        "        for u in urls:\n",
        "            if u.startswith(self.parent_url) and u not in self.all_urls:\n",
        "                self.get_all_urls(u)\n",
        "        self.all_urls.update(urls)\n",
        "\n",
        "    def scrape(self, url):\n",
        "        page = requests.get(url)\n",
        "        return BeautifulSoup(page.content, 'html.parser')\n",
        "\n",
        "    def preprocess(self, soup):\n",
        "        corpus = \"\"\n",
        "        for s in soup.find_all(['header', 'title', 'h1', 'h2', 'h3', 'h4', 'h5', 'h6', 'p']):\n",
        "            corpus += str(s.text) + '\\n'\n",
        "        return corpus"
      ]
    },
    {
      "cell_type": "code",
      "source": [
        "def save_txt(protocol, doc, url):\n",
        "    with open(f\"{protocol}-documentation/{'_'.join(url.split('/'))}.txt\", 'w') as f:\n",
        "        f.write(doc)"
      ],
      "metadata": {
        "id": "xcEQYzVBjJ12"
      },
      "execution_count": 129,
      "outputs": []
    },
    {
      "cell_type": "code",
      "source": [
        "protocol = 'lido'\n",
        "parent_url = \"https://docs.lido.fi/\"\n",
        "os.makedirs(f\"{protocol}-documentation\", exist_ok=True)\n",
        "\n",
        "scraper = Scraper(parent_url)\n",
        "scraper.get_all_urls(parent_url)\n",
        "all_urls = scraper.all_urls\n",
        "for u in all_urls:\n",
        "    soup = scraper.scrape(u)\n",
        "    doc = scraper.preprocess(soup)\n",
        "    save_txt(protocol, doc, u)"
      ],
      "metadata": {
        "id": "JN_XBeltgoQk"
      },
      "execution_count": 130,
      "outputs": []
    },
    {
      "cell_type": "code",
      "source": [
        "all_urls"
      ],
      "metadata": {
        "colab": {
          "base_uri": "https://localhost:8080/"
        },
        "id": "V-ZCtCFmkdIp",
        "outputId": "66f36fc7-b9f3-4055-f1d9-933f2c821685"
      },
      "execution_count": 131,
      "outputs": [
        {
          "output_type": "execute_result",
          "data": {
            "text/plain": [
              "{'https://docs.lido.fi/contracts/lido-oracle/#add-calculation-of-staker-rewards-apr',\n",
              " 'https://docs.lido.fi/guides/steth-integration-guide',\n",
              " 'https://docs.lido.fi/token-guides/steth-on-aave-caveats'}"
            ]
          },
          "metadata": {},
          "execution_count": 131
        }
      ]
    }
  ]
}